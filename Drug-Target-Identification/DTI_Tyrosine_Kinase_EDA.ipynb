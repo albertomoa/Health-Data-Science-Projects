{
 "cells": [
  {
   "cell_type": "markdown",
   "metadata": {},
   "source": [
    "# Identification of Potential Inhibitors for Tyrosine Kinase Enzyme Using Machine Learning Part 2 - EDA & Data Pre-processing\n",
    "\n",
    "---\n",
    "**M. Alberto Moa**"
   ]
  },
  {
   "cell_type": "markdown",
   "metadata": {},
   "source": [
    "In this notebook I will be performing Descriptor Calculation with Lipinski Descriptor using information from cleaned_bioactivity_data.csv from previous notebook and then conduct Exploratory Data Analysis to gain deeper insights into the factors driving biological activity."
   ]
  },
  {
   "cell_type": "markdown",
   "metadata": {},
   "source": [
    "## 1. Install and Import Libraries"
   ]
  },
  {
   "cell_type": "markdown",
   "metadata": {},
   "source": [
    "Install conda and rdkit"
   ]
  },
  {
   "cell_type": "code",
   "execution_count": 13,
   "metadata": {},
   "outputs": [
    {
     "name": "stdout",
     "output_type": "stream",
     "text": [
      "Retrieving notices: ...working... done\n",
      "Channels:\n",
      " - rdkit\n",
      " - defaults\n",
      " - conda-forge\n",
      "Platform: osx-arm64\n",
      "Collecting package metadata (repodata.json): done\n",
      "Solving environment: done\n",
      "\n",
      "## Package Plan ##\n",
      "\n",
      "  environment location: /opt/anaconda3\n",
      "\n",
      "  added / updated specs:\n",
      "    - rdkit\n",
      "\n",
      "\n",
      "The following packages will be downloaded:\n",
      "\n",
      "    package                    |            build\n",
      "    ---------------------------|-----------------\n",
      "    ca-certificates-2024.9.24  |       hca03da5_0         131 KB\n",
      "    certifi-2024.8.30          |  py311hca03da5_0         165 KB\n",
      "    conda-24.9.1               |  py311hca03da5_0         1.2 MB\n",
      "    ------------------------------------------------------------\n",
      "                                           Total:         1.5 MB\n",
      "\n",
      "The following packages will be UPDATED:\n",
      "\n",
      "  ca-certificates    conda-forge::ca-certificates-2024.7.4~ --> pkgs/main::ca-certificates-2024.9.24-hca03da5_0 \n",
      "  certifi                          2024.7.4-py311hca03da5_0 --> 2024.8.30-py311hca03da5_0 \n",
      "  conda                              24.7.1-py311hca03da5_0 --> 24.9.1-py311hca03da5_0 \n",
      "\n",
      "\n",
      "\n",
      "Downloading and Extracting Packages:\n",
      "conda-24.9.1         | 1.2 MB    |                                       |   0% \n",
      "certifi-2024.8.30    | 165 KB    |                                       |   0% \u001b[A\n",
      "\n",
      "conda-24.9.1         | 1.2 MB    | 4                                     |   1% \u001b[A\u001b[A\n",
      "\n",
      "conda-24.9.1         | 1.2 MB    | ##4                                   |   7% \u001b[A\u001b[A\n",
      "\n",
      "ca-certificates-2024 | 131 KB    | #############5                        |  37% \u001b[A\u001b[A\n",
      "certifi-2024.8.30    | 165 KB    | ###5                                  |  10% \u001b[A\n",
      "\n",
      "ca-certificates-2024 | 131 KB    | ##################################### | 100% \u001b[A\u001b[A\n",
      "                                                                                \u001b[A\n",
      "                                                                                \u001b[A\n",
      "\n",
      "                                                                                \u001b[A\u001b[A\n",
      "Preparing transaction: done\n",
      "Verifying transaction: done\n",
      "Executing transaction: done\n"
     ]
    }
   ],
   "source": [
    "! conda install -c rdkit rdkit -y"
   ]
  },
  {
   "cell_type": "code",
   "execution_count": 3,
   "metadata": {},
   "outputs": [
    {
     "name": "stdout",
     "output_type": "stream",
     "text": [
      "Import Success\n"
     ]
    }
   ],
   "source": [
    "# import necessary libraries\n",
    "import pandas as pd\n",
    "import numpy as np\n",
    "import seaborn as sns\n",
    "sns.set(style='ticks')\n",
    "import matplotlib.pyplot as plt\n",
    "\n",
    "from rdkit import Chem\n",
    "from rdkit.Chem import Descriptors, Lipinski\n",
    "print('Import Success')"
   ]
  },
  {
   "cell_type": "markdown",
   "metadata": {},
   "source": [
    "## 2. Molecular Descriptor Calculation using Lipinski Descriptors\n",
    "\n",
    "Molecular descriptors capture chemical properties of compounds and can be valuable features for building predictive models for QSAR (Quantitative Structure-Activity Relationship) models. \n",
    "\n",
    "In this step, I will calculate molecular descriptors based on the canonical SMILES information available in the dataset. Molecular descriptors are numerical values that represent the chemical and physical properties of molecules. These descriptors capture structural and physicochemical features, which can be valuable inputs for machine learning models.\n",
    "\n",
    "I will use Lipinski's rule of Five which based on the observation that certain physicochemical properties correlate with the likelihood of a compound being an effective oral drug. Specifically, it proposes that a compound is more likely to be an orally bioavailable drug if it adheres to the following criteria[1]:\n",
    "-  Molecular weight < 500 Dalton\n",
    "- Octanol-water partition coefficient (LogP) < 5\n",
    "- Hydrogen bond donors < 5\n",
    "- Hydrogen bond acceptors < 10\n",
    "\n",
    "### Steps:\n",
    "1. Load Bioactivity Data\n",
    "2. Extract **canonical SMILES** from the dataset.\n",
    "3. Calculate molecular descriptors using **Lipinski Descriptorr**.\n",
    "4. Merge the calculated descriptors back into the dataset for further analysis and model building.\n",
    "\n"
   ]
  },
  {
   "cell_type": "markdown",
   "metadata": {},
   "source": [
    "### 1.1 Load Bioactivity Data"
   ]
  },
  {
   "cell_type": "markdown",
   "metadata": {},
   "source": [
    "Load bioactivity data and save it to df variable."
   ]
  },
  {
   "cell_type": "code",
   "execution_count": 4,
   "metadata": {},
   "outputs": [
    {
     "data": {
      "text/html": [
       "<div>\n",
       "<style scoped>\n",
       "    .dataframe tbody tr th:only-of-type {\n",
       "        vertical-align: middle;\n",
       "    }\n",
       "\n",
       "    .dataframe tbody tr th {\n",
       "        vertical-align: top;\n",
       "    }\n",
       "\n",
       "    .dataframe thead th {\n",
       "        text-align: right;\n",
       "    }\n",
       "</style>\n",
       "<table border=\"1\" class=\"dataframe\">\n",
       "  <thead>\n",
       "    <tr style=\"text-align: right;\">\n",
       "      <th></th>\n",
       "      <th>activity_comment</th>\n",
       "      <th>activity_id</th>\n",
       "      <th>activity_properties</th>\n",
       "      <th>assay_chembl_id</th>\n",
       "      <th>assay_description</th>\n",
       "      <th>assay_type</th>\n",
       "      <th>bao_endpoint</th>\n",
       "      <th>bao_format</th>\n",
       "      <th>bao_label</th>\n",
       "      <th>canonical_smiles</th>\n",
       "      <th>...</th>\n",
       "      <th>units</th>\n",
       "      <th>uo_units</th>\n",
       "      <th>value</th>\n",
       "      <th>pIC50</th>\n",
       "      <th>entry</th>\n",
       "      <th>entry_name</th>\n",
       "      <th>protein_names</th>\n",
       "      <th>organism</th>\n",
       "      <th>length</th>\n",
       "      <th>sequence</th>\n",
       "    </tr>\n",
       "  </thead>\n",
       "  <tbody>\n",
       "    <tr>\n",
       "      <th>0</th>\n",
       "      <td>inactive</td>\n",
       "      <td>2206919</td>\n",
       "      <td>[]</td>\n",
       "      <td>CHEMBL990554</td>\n",
       "      <td>Inhibition of Frk</td>\n",
       "      <td>B</td>\n",
       "      <td>BAO_0000034</td>\n",
       "      <td>BAO_0000357</td>\n",
       "      <td>single protein format</td>\n",
       "      <td>CNC(=O)c1cc(Oc2ccc(NC(=O)Nc3ccc(Cl)c(C(F)(F)F)...</td>\n",
       "      <td>...</td>\n",
       "      <td>nM</td>\n",
       "      <td>UO_0000065</td>\n",
       "      <td>440.0</td>\n",
       "      <td>14.636491</td>\n",
       "      <td>P42685</td>\n",
       "      <td>FRK_HUMAN</td>\n",
       "      <td>Tyrosine-protein kinase FRK</td>\n",
       "      <td>Homo sapiens (Human)</td>\n",
       "      <td>505</td>\n",
       "      <td>MSNICQRLWEYLEPYLPCLSTEADKSTVIENPGALCSPQSQRHGHY...</td>\n",
       "    </tr>\n",
       "    <tr>\n",
       "      <th>1</th>\n",
       "      <td>inactive</td>\n",
       "      <td>2479571</td>\n",
       "      <td>[]</td>\n",
       "      <td>CHEMBL988960</td>\n",
       "      <td>Binding affinity to human FRK</td>\n",
       "      <td>B</td>\n",
       "      <td>BAO_0000034</td>\n",
       "      <td>BAO_0000357</td>\n",
       "      <td>single protein format</td>\n",
       "      <td>Nc1ncnc2c1c(-c1cccc(O)c1)cn2C1CCNCC1</td>\n",
       "      <td>...</td>\n",
       "      <td>nM</td>\n",
       "      <td>UO_0000065</td>\n",
       "      <td>6.0</td>\n",
       "      <td>18.931506</td>\n",
       "      <td>P42685</td>\n",
       "      <td>FRK_HUMAN</td>\n",
       "      <td>Tyrosine-protein kinase FRK</td>\n",
       "      <td>Homo sapiens (Human)</td>\n",
       "      <td>505</td>\n",
       "      <td>MSNICQRLWEYLEPYLPCLSTEADKSTVIENPGALCSPQSQRHGHY...</td>\n",
       "    </tr>\n",
       "    <tr>\n",
       "      <th>2</th>\n",
       "      <td>inactive</td>\n",
       "      <td>2479573</td>\n",
       "      <td>[]</td>\n",
       "      <td>CHEMBL988960</td>\n",
       "      <td>Binding affinity to human FRK</td>\n",
       "      <td>B</td>\n",
       "      <td>BAO_0000034</td>\n",
       "      <td>BAO_0000357</td>\n",
       "      <td>single protein format</td>\n",
       "      <td>Cc1ccc(C(=O)Nc2cccc(C(C)(C)C)c2)cc1-c1ccc(C(=O...</td>\n",
       "      <td>...</td>\n",
       "      <td>nM</td>\n",
       "      <td>UO_0000065</td>\n",
       "      <td>122.0</td>\n",
       "      <td>15.919245</td>\n",
       "      <td>P42685</td>\n",
       "      <td>FRK_HUMAN</td>\n",
       "      <td>Tyrosine-protein kinase FRK</td>\n",
       "      <td>Homo sapiens (Human)</td>\n",
       "      <td>505</td>\n",
       "      <td>MSNICQRLWEYLEPYLPCLSTEADKSTVIENPGALCSPQSQRHGHY...</td>\n",
       "    </tr>\n",
       "    <tr>\n",
       "      <th>3</th>\n",
       "      <td>inactive</td>\n",
       "      <td>2603062</td>\n",
       "      <td>[]</td>\n",
       "      <td>CHEMBL1023857</td>\n",
       "      <td>Inhibition of FRK</td>\n",
       "      <td>B</td>\n",
       "      <td>BAO_0000034</td>\n",
       "      <td>BAO_0000357</td>\n",
       "      <td>single protein format</td>\n",
       "      <td>Cc1cccc(C(=O)Nc2cccc([C@H](C)Nc3cncc(Cl)n3)c2)c1</td>\n",
       "      <td>...</td>\n",
       "      <td>nM</td>\n",
       "      <td>UO_0000065</td>\n",
       "      <td>12.0</td>\n",
       "      <td>18.238359</td>\n",
       "      <td>P42685</td>\n",
       "      <td>FRK_HUMAN</td>\n",
       "      <td>Tyrosine-protein kinase FRK</td>\n",
       "      <td>Homo sapiens (Human)</td>\n",
       "      <td>505</td>\n",
       "      <td>MSNICQRLWEYLEPYLPCLSTEADKSTVIENPGALCSPQSQRHGHY...</td>\n",
       "    </tr>\n",
       "    <tr>\n",
       "      <th>4</th>\n",
       "      <td>inactive</td>\n",
       "      <td>2890919</td>\n",
       "      <td>[]</td>\n",
       "      <td>CHEMBL1060247</td>\n",
       "      <td>Binding constant for FRK kinase domain</td>\n",
       "      <td>B</td>\n",
       "      <td>BAO_0000034</td>\n",
       "      <td>BAO_0000357</td>\n",
       "      <td>single protein format</td>\n",
       "      <td>Cc1ccc(F)c(NC(=O)Nc2ccc(-c3cccc4[nH]nc(N)c34)c...</td>\n",
       "      <td>...</td>\n",
       "      <td>nM</td>\n",
       "      <td>UO_0000065</td>\n",
       "      <td>400.0</td>\n",
       "      <td>14.731801</td>\n",
       "      <td>P42685</td>\n",
       "      <td>FRK_HUMAN</td>\n",
       "      <td>Tyrosine-protein kinase FRK</td>\n",
       "      <td>Homo sapiens (Human)</td>\n",
       "      <td>505</td>\n",
       "      <td>MSNICQRLWEYLEPYLPCLSTEADKSTVIENPGALCSPQSQRHGHY...</td>\n",
       "    </tr>\n",
       "    <tr>\n",
       "      <th>...</th>\n",
       "      <td>...</td>\n",
       "      <td>...</td>\n",
       "      <td>...</td>\n",
       "      <td>...</td>\n",
       "      <td>...</td>\n",
       "      <td>...</td>\n",
       "      <td>...</td>\n",
       "      <td>...</td>\n",
       "      <td>...</td>\n",
       "      <td>...</td>\n",
       "      <td>...</td>\n",
       "      <td>...</td>\n",
       "      <td>...</td>\n",
       "      <td>...</td>\n",
       "      <td>...</td>\n",
       "      <td>...</td>\n",
       "      <td>...</td>\n",
       "      <td>...</td>\n",
       "      <td>...</td>\n",
       "      <td>...</td>\n",
       "      <td>...</td>\n",
       "    </tr>\n",
       "    <tr>\n",
       "      <th>378</th>\n",
       "      <td>inactive</td>\n",
       "      <td>22882846</td>\n",
       "      <td>[]</td>\n",
       "      <td>CHEMBL4727423</td>\n",
       "      <td>Inhibition of FRK (unknown origin)</td>\n",
       "      <td>B</td>\n",
       "      <td>BAO_0000190</td>\n",
       "      <td>BAO_0000357</td>\n",
       "      <td>single protein format</td>\n",
       "      <td>COc1cc(C(=O)Nc2cc(C(F)(F)F)ccn2)ccc1-c1nc([C@@...</td>\n",
       "      <td>...</td>\n",
       "      <td>nM</td>\n",
       "      <td>UO_0000065</td>\n",
       "      <td>154.0</td>\n",
       "      <td>15.686313</td>\n",
       "      <td>P42685</td>\n",
       "      <td>FRK_HUMAN</td>\n",
       "      <td>Tyrosine-protein kinase FRK</td>\n",
       "      <td>Homo sapiens (Human)</td>\n",
       "      <td>505</td>\n",
       "      <td>MSNICQRLWEYLEPYLPCLSTEADKSTVIENPGALCSPQSQRHGHY...</td>\n",
       "    </tr>\n",
       "    <tr>\n",
       "      <th>379</th>\n",
       "      <td>inactive</td>\n",
       "      <td>22882847</td>\n",
       "      <td>[]</td>\n",
       "      <td>CHEMBL4727423</td>\n",
       "      <td>Inhibition of FRK (unknown origin)</td>\n",
       "      <td>B</td>\n",
       "      <td>BAO_0000190</td>\n",
       "      <td>BAO_0000357</td>\n",
       "      <td>single protein format</td>\n",
       "      <td>Nc1nccn2c([C@@H]3CC[C@H]4CCC(=O)N4C3)nc(-c3ccc...</td>\n",
       "      <td>...</td>\n",
       "      <td>nM</td>\n",
       "      <td>UO_0000065</td>\n",
       "      <td>530.0</td>\n",
       "      <td>14.450389</td>\n",
       "      <td>P42685</td>\n",
       "      <td>FRK_HUMAN</td>\n",
       "      <td>Tyrosine-protein kinase FRK</td>\n",
       "      <td>Homo sapiens (Human)</td>\n",
       "      <td>505</td>\n",
       "      <td>MSNICQRLWEYLEPYLPCLSTEADKSTVIENPGALCSPQSQRHGHY...</td>\n",
       "    </tr>\n",
       "    <tr>\n",
       "      <th>380</th>\n",
       "      <td>inactive</td>\n",
       "      <td>24407194</td>\n",
       "      <td>[{'comments': None, 'relation': '=', 'result_f...</td>\n",
       "      <td>CHEMBL5045161</td>\n",
       "      <td>Inhibition of human PTK5 in presence of ATP by...</td>\n",
       "      <td>B</td>\n",
       "      <td>BAO_0000190</td>\n",
       "      <td>BAO_0000357</td>\n",
       "      <td>single protein format</td>\n",
       "      <td>Cc1cc(NC(=O)Nc2cc(C(C)(C)C)nn2-c2ccc(Cl)cc2)cc...</td>\n",
       "      <td>...</td>\n",
       "      <td>nM</td>\n",
       "      <td>UO_0000065</td>\n",
       "      <td>32.0</td>\n",
       "      <td>17.257530</td>\n",
       "      <td>P42685</td>\n",
       "      <td>FRK_HUMAN</td>\n",
       "      <td>Tyrosine-protein kinase FRK</td>\n",
       "      <td>Homo sapiens (Human)</td>\n",
       "      <td>505</td>\n",
       "      <td>MSNICQRLWEYLEPYLPCLSTEADKSTVIENPGALCSPQSQRHGHY...</td>\n",
       "    </tr>\n",
       "    <tr>\n",
       "      <th>381</th>\n",
       "      <td>inactive</td>\n",
       "      <td>24958174</td>\n",
       "      <td>[{'comments': None, 'relation': None, 'result_...</td>\n",
       "      <td>CHEMBL5213173</td>\n",
       "      <td>Selectivity interaction (Z鈥�LYTE assay (Select...</td>\n",
       "      <td>B</td>\n",
       "      <td>BAO_0000192</td>\n",
       "      <td>BAO_0000357</td>\n",
       "      <td>single protein format</td>\n",
       "      <td>C[C@H]1Oc2cc(cnc2N)-c2c(nn(C)c2C#N)CN(C)C(=O)c...</td>\n",
       "      <td>...</td>\n",
       "      <td>nM</td>\n",
       "      <td>UO_0000065</td>\n",
       "      <td>53.0</td>\n",
       "      <td>16.752974</td>\n",
       "      <td>P42685</td>\n",
       "      <td>FRK_HUMAN</td>\n",
       "      <td>Tyrosine-protein kinase FRK</td>\n",
       "      <td>Homo sapiens (Human)</td>\n",
       "      <td>505</td>\n",
       "      <td>MSNICQRLWEYLEPYLPCLSTEADKSTVIENPGALCSPQSQRHGHY...</td>\n",
       "    </tr>\n",
       "    <tr>\n",
       "      <th>382</th>\n",
       "      <td>inactive</td>\n",
       "      <td>24958603</td>\n",
       "      <td>[{'comments': None, 'relation': None, 'result_...</td>\n",
       "      <td>CHEMBL5213087</td>\n",
       "      <td>Selectivity interaction (33P-ATP and filter-bi...</td>\n",
       "      <td>B</td>\n",
       "      <td>BAO_0000190</td>\n",
       "      <td>BAO_0000357</td>\n",
       "      <td>single protein format</td>\n",
       "      <td>C=CC(=O)N1CCC([C@@H]2CCNc3c(C(N)=O)c(-c4ccc(Oc...</td>\n",
       "      <td>...</td>\n",
       "      <td>nM</td>\n",
       "      <td>UO_0000065</td>\n",
       "      <td>379.0</td>\n",
       "      <td>14.785730</td>\n",
       "      <td>P42685</td>\n",
       "      <td>FRK_HUMAN</td>\n",
       "      <td>Tyrosine-protein kinase FRK</td>\n",
       "      <td>Homo sapiens (Human)</td>\n",
       "      <td>505</td>\n",
       "      <td>MSNICQRLWEYLEPYLPCLSTEADKSTVIENPGALCSPQSQRHGHY...</td>\n",
       "    </tr>\n",
       "  </tbody>\n",
       "</table>\n",
       "<p>383 rows × 41 columns</p>\n",
       "</div>"
      ],
      "text/plain": [
       "    activity_comment  activity_id  \\\n",
       "0           inactive      2206919   \n",
       "1           inactive      2479571   \n",
       "2           inactive      2479573   \n",
       "3           inactive      2603062   \n",
       "4           inactive      2890919   \n",
       "..               ...          ...   \n",
       "378         inactive     22882846   \n",
       "379         inactive     22882847   \n",
       "380         inactive     24407194   \n",
       "381         inactive     24958174   \n",
       "382         inactive     24958603   \n",
       "\n",
       "                                   activity_properties assay_chembl_id  \\\n",
       "0                                                   []    CHEMBL990554   \n",
       "1                                                   []    CHEMBL988960   \n",
       "2                                                   []    CHEMBL988960   \n",
       "3                                                   []   CHEMBL1023857   \n",
       "4                                                   []   CHEMBL1060247   \n",
       "..                                                 ...             ...   \n",
       "378                                                 []   CHEMBL4727423   \n",
       "379                                                 []   CHEMBL4727423   \n",
       "380  [{'comments': None, 'relation': '=', 'result_f...   CHEMBL5045161   \n",
       "381  [{'comments': None, 'relation': None, 'result_...   CHEMBL5213173   \n",
       "382  [{'comments': None, 'relation': None, 'result_...   CHEMBL5213087   \n",
       "\n",
       "                                     assay_description assay_type  \\\n",
       "0                                    Inhibition of Frk          B   \n",
       "1                        Binding affinity to human FRK          B   \n",
       "2                        Binding affinity to human FRK          B   \n",
       "3                                    Inhibition of FRK          B   \n",
       "4               Binding constant for FRK kinase domain          B   \n",
       "..                                                 ...        ...   \n",
       "378                 Inhibition of FRK (unknown origin)          B   \n",
       "379                 Inhibition of FRK (unknown origin)          B   \n",
       "380  Inhibition of human PTK5 in presence of ATP by...          B   \n",
       "381  Selectivity interaction (Z鈥�LYTE assay (Select...          B   \n",
       "382  Selectivity interaction (33P-ATP and filter-bi...          B   \n",
       "\n",
       "    bao_endpoint   bao_format              bao_label  \\\n",
       "0    BAO_0000034  BAO_0000357  single protein format   \n",
       "1    BAO_0000034  BAO_0000357  single protein format   \n",
       "2    BAO_0000034  BAO_0000357  single protein format   \n",
       "3    BAO_0000034  BAO_0000357  single protein format   \n",
       "4    BAO_0000034  BAO_0000357  single protein format   \n",
       "..           ...          ...                    ...   \n",
       "378  BAO_0000190  BAO_0000357  single protein format   \n",
       "379  BAO_0000190  BAO_0000357  single protein format   \n",
       "380  BAO_0000190  BAO_0000357  single protein format   \n",
       "381  BAO_0000192  BAO_0000357  single protein format   \n",
       "382  BAO_0000190  BAO_0000357  single protein format   \n",
       "\n",
       "                                      canonical_smiles  ... units    uo_units  \\\n",
       "0    CNC(=O)c1cc(Oc2ccc(NC(=O)Nc3ccc(Cl)c(C(F)(F)F)...  ...    nM  UO_0000065   \n",
       "1                 Nc1ncnc2c1c(-c1cccc(O)c1)cn2C1CCNCC1  ...    nM  UO_0000065   \n",
       "2    Cc1ccc(C(=O)Nc2cccc(C(C)(C)C)c2)cc1-c1ccc(C(=O...  ...    nM  UO_0000065   \n",
       "3     Cc1cccc(C(=O)Nc2cccc([C@H](C)Nc3cncc(Cl)n3)c2)c1  ...    nM  UO_0000065   \n",
       "4    Cc1ccc(F)c(NC(=O)Nc2ccc(-c3cccc4[nH]nc(N)c34)c...  ...    nM  UO_0000065   \n",
       "..                                                 ...  ...   ...         ...   \n",
       "378  COc1cc(C(=O)Nc2cc(C(F)(F)F)ccn2)ccc1-c1nc([C@@...  ...    nM  UO_0000065   \n",
       "379  Nc1nccn2c([C@@H]3CC[C@H]4CCC(=O)N4C3)nc(-c3ccc...  ...    nM  UO_0000065   \n",
       "380  Cc1cc(NC(=O)Nc2cc(C(C)(C)C)nn2-c2ccc(Cl)cc2)cc...  ...    nM  UO_0000065   \n",
       "381  C[C@H]1Oc2cc(cnc2N)-c2c(nn(C)c2C#N)CN(C)C(=O)c...  ...    nM  UO_0000065   \n",
       "382  C=CC(=O)N1CCC([C@@H]2CCNc3c(C(N)=O)c(-c4ccc(Oc...  ...    nM  UO_0000065   \n",
       "\n",
       "     value      pIC50   entry  entry_name                protein_names  \\\n",
       "0    440.0  14.636491  P42685   FRK_HUMAN  Tyrosine-protein kinase FRK   \n",
       "1      6.0  18.931506  P42685   FRK_HUMAN  Tyrosine-protein kinase FRK   \n",
       "2    122.0  15.919245  P42685   FRK_HUMAN  Tyrosine-protein kinase FRK   \n",
       "3     12.0  18.238359  P42685   FRK_HUMAN  Tyrosine-protein kinase FRK   \n",
       "4    400.0  14.731801  P42685   FRK_HUMAN  Tyrosine-protein kinase FRK   \n",
       "..     ...        ...     ...         ...                          ...   \n",
       "378  154.0  15.686313  P42685   FRK_HUMAN  Tyrosine-protein kinase FRK   \n",
       "379  530.0  14.450389  P42685   FRK_HUMAN  Tyrosine-protein kinase FRK   \n",
       "380   32.0  17.257530  P42685   FRK_HUMAN  Tyrosine-protein kinase FRK   \n",
       "381   53.0  16.752974  P42685   FRK_HUMAN  Tyrosine-protein kinase FRK   \n",
       "382  379.0  14.785730  P42685   FRK_HUMAN  Tyrosine-protein kinase FRK   \n",
       "\n",
       "                 organism  length  \\\n",
       "0    Homo sapiens (Human)     505   \n",
       "1    Homo sapiens (Human)     505   \n",
       "2    Homo sapiens (Human)     505   \n",
       "3    Homo sapiens (Human)     505   \n",
       "4    Homo sapiens (Human)     505   \n",
       "..                    ...     ...   \n",
       "378  Homo sapiens (Human)     505   \n",
       "379  Homo sapiens (Human)     505   \n",
       "380  Homo sapiens (Human)     505   \n",
       "381  Homo sapiens (Human)     505   \n",
       "382  Homo sapiens (Human)     505   \n",
       "\n",
       "                                              sequence  \n",
       "0    MSNICQRLWEYLEPYLPCLSTEADKSTVIENPGALCSPQSQRHGHY...  \n",
       "1    MSNICQRLWEYLEPYLPCLSTEADKSTVIENPGALCSPQSQRHGHY...  \n",
       "2    MSNICQRLWEYLEPYLPCLSTEADKSTVIENPGALCSPQSQRHGHY...  \n",
       "3    MSNICQRLWEYLEPYLPCLSTEADKSTVIENPGALCSPQSQRHGHY...  \n",
       "4    MSNICQRLWEYLEPYLPCLSTEADKSTVIENPGALCSPQSQRHGHY...  \n",
       "..                                                 ...  \n",
       "378  MSNICQRLWEYLEPYLPCLSTEADKSTVIENPGALCSPQSQRHGHY...  \n",
       "379  MSNICQRLWEYLEPYLPCLSTEADKSTVIENPGALCSPQSQRHGHY...  \n",
       "380  MSNICQRLWEYLEPYLPCLSTEADKSTVIENPGALCSPQSQRHGHY...  \n",
       "381  MSNICQRLWEYLEPYLPCLSTEADKSTVIENPGALCSPQSQRHGHY...  \n",
       "382  MSNICQRLWEYLEPYLPCLSTEADKSTVIENPGALCSPQSQRHGHY...  \n",
       "\n",
       "[383 rows x 41 columns]"
      ]
     },
     "execution_count": 4,
     "metadata": {},
     "output_type": "execute_result"
    }
   ],
   "source": [
    "# Load dataset\n",
    "df = pd.read_csv('cleaned_bioactivity_data.csv')\n",
    "\n",
    "# Show sample data\n",
    "df"
   ]
  },
  {
   "cell_type": "markdown",
   "metadata": {},
   "source": [
    "### 1.2 Calculate Lipinski Despcriptors"
   ]
  },
  {
   "cell_type": "code",
   "execution_count": 5,
   "metadata": {},
   "outputs": [],
   "source": [
    "# Define Lipinski function to calculate the descriptors\n",
    "def lipinski(smiles_list):\n",
    "    '''\n",
    "    Calculate Lipinski descriptor for a list of SMILES strings.\n",
    "    \n",
    "    pArameter:\n",
    "    smiles_list: List containing SMILES strings of the compounds.\n",
    "    \n",
    "    Returns:\n",
    "    pd.DataDrame: DataFrame containing Lipinski descriptors for each SMILES string.\n",
    "    '''\n",
    "    \n",
    "    # Initiate list to store descriptor values\n",
    "    mw_list = []\n",
    "    logp_list = []\n",
    "    hbd_list = []\n",
    "    hba_list = []\n",
    "    \n",
    "    # Process each SMILE string\n",
    "    for smiles in smiles_list:\n",
    "        mol = Chem.MolFromSmiles(smiles)\n",
    "        \n",
    "        if mol:\n",
    "            # Calculate descriptors\n",
    "            mw_list.append(Descriptors.MolWt(mol))\n",
    "            logp_list.append(Descriptors.MolLogP(mol))\n",
    "            hbd_list.append(Descriptors.NumHDonors(mol))\n",
    "            hba_list.append(Descriptors.NumHAcceptors(mol))\n",
    "        else:\n",
    "            # Handle invalid SMILES by appending Nan\n",
    "            mw_list.append(np.nan)\n",
    "            logp_list.append(np.nan)\n",
    "            hbd_list.append(np.nan)\n",
    "            hba_list.append(np.nan)\n",
    "    \n",
    "    # Create DataFrame with calculated descriptors\n",
    "    descriptors_df = pd.DataFrame({\n",
    "        \"canonical_smiles\": smiles_list,\n",
    "        \"mw\": mw_list,\n",
    "        \"logP\": logp_list,\n",
    "        \"numHdonors\": hbd_list,\n",
    "        \"numHacceptors\": hba_list\n",
    "    })\n",
    "    \n",
    "    return descriptors_df"
   ]
  },
  {
   "cell_type": "code",
   "execution_count": 6,
   "metadata": {},
   "outputs": [],
   "source": [
    "# Calculate lipinski descriptor\n",
    "df_lipinski = lipinski(df.canonical_smiles)"
   ]
  },
  {
   "cell_type": "code",
   "execution_count": 7,
   "metadata": {},
   "outputs": [
    {
     "data": {
      "text/html": [
       "<div>\n",
       "<style scoped>\n",
       "    .dataframe tbody tr th:only-of-type {\n",
       "        vertical-align: middle;\n",
       "    }\n",
       "\n",
       "    .dataframe tbody tr th {\n",
       "        vertical-align: top;\n",
       "    }\n",
       "\n",
       "    .dataframe thead th {\n",
       "        text-align: right;\n",
       "    }\n",
       "</style>\n",
       "<table border=\"1\" class=\"dataframe\">\n",
       "  <thead>\n",
       "    <tr style=\"text-align: right;\">\n",
       "      <th></th>\n",
       "      <th>canonical_smiles</th>\n",
       "      <th>mw</th>\n",
       "      <th>logP</th>\n",
       "      <th>numHdonors</th>\n",
       "      <th>numHacceptors</th>\n",
       "    </tr>\n",
       "  </thead>\n",
       "  <tbody>\n",
       "    <tr>\n",
       "      <th>0</th>\n",
       "      <td>CNC(=O)c1cc(Oc2ccc(NC(=O)Nc3ccc(Cl)c(C(F)(F)F)...</td>\n",
       "      <td>464.831</td>\n",
       "      <td>5.54970</td>\n",
       "      <td>3</td>\n",
       "      <td>4</td>\n",
       "    </tr>\n",
       "    <tr>\n",
       "      <th>1</th>\n",
       "      <td>Nc1ncnc2c1c(-c1cccc(O)c1)cn2C1CCNCC1</td>\n",
       "      <td>309.373</td>\n",
       "      <td>2.31060</td>\n",
       "      <td>3</td>\n",
       "      <td>6</td>\n",
       "    </tr>\n",
       "    <tr>\n",
       "      <th>2</th>\n",
       "      <td>Cc1ccc(C(=O)Nc2cccc(C(C)(C)C)c2)cc1-c1ccc(C(=O...</td>\n",
       "      <td>440.587</td>\n",
       "      <td>6.35162</td>\n",
       "      <td>2</td>\n",
       "      <td>2</td>\n",
       "    </tr>\n",
       "    <tr>\n",
       "      <th>3</th>\n",
       "      <td>Cc1cccc(C(=O)Nc2cccc([C@H](C)Nc3cncc(Cl)n3)c2)c1</td>\n",
       "      <td>366.852</td>\n",
       "      <td>4.86382</td>\n",
       "      <td>2</td>\n",
       "      <td>4</td>\n",
       "    </tr>\n",
       "    <tr>\n",
       "      <th>4</th>\n",
       "      <td>Cc1ccc(F)c(NC(=O)Nc2ccc(-c3cccc4[nH]nc(N)c34)c...</td>\n",
       "      <td>375.407</td>\n",
       "      <td>4.90362</td>\n",
       "      <td>4</td>\n",
       "      <td>3</td>\n",
       "    </tr>\n",
       "    <tr>\n",
       "      <th>...</th>\n",
       "      <td>...</td>\n",
       "      <td>...</td>\n",
       "      <td>...</td>\n",
       "      <td>...</td>\n",
       "      <td>...</td>\n",
       "    </tr>\n",
       "    <tr>\n",
       "      <th>378</th>\n",
       "      <td>COc1cc(C(=O)Nc2cc(C(F)(F)F)ccn2)ccc1-c1nc([C@@...</td>\n",
       "      <td>565.556</td>\n",
       "      <td>4.52160</td>\n",
       "      <td>2</td>\n",
       "      <td>8</td>\n",
       "    </tr>\n",
       "    <tr>\n",
       "      <th>379</th>\n",
       "      <td>Nc1nccn2c([C@@H]3CC[C@H]4CCC(=O)N4C3)nc(-c3ccc...</td>\n",
       "      <td>591.594</td>\n",
       "      <td>5.05420</td>\n",
       "      <td>2</td>\n",
       "      <td>8</td>\n",
       "    </tr>\n",
       "    <tr>\n",
       "      <th>380</th>\n",
       "      <td>Cc1cc(NC(=O)Nc2cc(C(C)(C)C)nn2-c2ccc(Cl)cc2)cc...</td>\n",
       "      <td>575.073</td>\n",
       "      <td>6.41872</td>\n",
       "      <td>4</td>\n",
       "      <td>8</td>\n",
       "    </tr>\n",
       "    <tr>\n",
       "      <th>381</th>\n",
       "      <td>C[C@H]1Oc2cc(cnc2N)-c2c(nn(C)c2C#N)CN(C)C(=O)c...</td>\n",
       "      <td>406.421</td>\n",
       "      <td>2.80068</td>\n",
       "      <td>1</td>\n",
       "      <td>7</td>\n",
       "    </tr>\n",
       "    <tr>\n",
       "      <th>382</th>\n",
       "      <td>C=CC(=O)N1CCC([C@@H]2CCNc3c(C(N)=O)c(-c4ccc(Oc...</td>\n",
       "      <td>471.561</td>\n",
       "      <td>4.22260</td>\n",
       "      <td>2</td>\n",
       "      <td>6</td>\n",
       "    </tr>\n",
       "  </tbody>\n",
       "</table>\n",
       "<p>383 rows × 5 columns</p>\n",
       "</div>"
      ],
      "text/plain": [
       "                                      canonical_smiles       mw     logP  \\\n",
       "0    CNC(=O)c1cc(Oc2ccc(NC(=O)Nc3ccc(Cl)c(C(F)(F)F)...  464.831  5.54970   \n",
       "1                 Nc1ncnc2c1c(-c1cccc(O)c1)cn2C1CCNCC1  309.373  2.31060   \n",
       "2    Cc1ccc(C(=O)Nc2cccc(C(C)(C)C)c2)cc1-c1ccc(C(=O...  440.587  6.35162   \n",
       "3     Cc1cccc(C(=O)Nc2cccc([C@H](C)Nc3cncc(Cl)n3)c2)c1  366.852  4.86382   \n",
       "4    Cc1ccc(F)c(NC(=O)Nc2ccc(-c3cccc4[nH]nc(N)c34)c...  375.407  4.90362   \n",
       "..                                                 ...      ...      ...   \n",
       "378  COc1cc(C(=O)Nc2cc(C(F)(F)F)ccn2)ccc1-c1nc([C@@...  565.556  4.52160   \n",
       "379  Nc1nccn2c([C@@H]3CC[C@H]4CCC(=O)N4C3)nc(-c3ccc...  591.594  5.05420   \n",
       "380  Cc1cc(NC(=O)Nc2cc(C(C)(C)C)nn2-c2ccc(Cl)cc2)cc...  575.073  6.41872   \n",
       "381  C[C@H]1Oc2cc(cnc2N)-c2c(nn(C)c2C#N)CN(C)C(=O)c...  406.421  2.80068   \n",
       "382  C=CC(=O)N1CCC([C@@H]2CCNc3c(C(N)=O)c(-c4ccc(Oc...  471.561  4.22260   \n",
       "\n",
       "     numHdonors  numHacceptors  \n",
       "0             3              4  \n",
       "1             3              6  \n",
       "2             2              2  \n",
       "3             2              4  \n",
       "4             4              3  \n",
       "..          ...            ...  \n",
       "378           2              8  \n",
       "379           2              8  \n",
       "380           4              8  \n",
       "381           1              7  \n",
       "382           2              6  \n",
       "\n",
       "[383 rows x 5 columns]"
      ]
     },
     "execution_count": 7,
     "metadata": {},
     "output_type": "execute_result"
    }
   ],
   "source": [
    "# Show sample data of df_lipinski dataset\n",
    "df_lipinski"
   ]
  },
  {
   "cell_type": "markdown",
   "metadata": {},
   "source": [
    "### 1.3 Merging Dataset"
   ]
  },
  {
   "cell_type": "code",
   "execution_count": 8,
   "metadata": {},
   "outputs": [
    {
     "name": "stdout",
     "output_type": "stream",
     "text": [
      "(383, 46)\n"
     ]
    }
   ],
   "source": [
    "# Merge using the index of both DataFrames\n",
    "df_combined = pd.merge(df, df_lipinski, left_index=True, right_index=True, how='inner')\n",
    "\n",
    "# Display the combined DataFrame\n",
    "print(df_combined.shape)  # Check the shape of the combined DataFrame"
   ]
  },
  {
   "cell_type": "markdown",
   "metadata": {},
   "source": [
    "## 3. Exploratory Data Analysis (Chemical Properties) via Lipinski Descriptors"
   ]
  },
  {
   "cell_type": "markdown",
   "metadata": {},
   "source": [
    "### 3.1 Frequency Plot of the activity_comment"
   ]
  },
  {
   "cell_type": "code",
   "execution_count": 9,
   "metadata": {},
   "outputs": [
    {
     "data": {
      "text/plain": [
       "Text(0, 0.5, 'Frequency')"
      ]
     },
     "execution_count": 9,
     "metadata": {},
     "output_type": "execute_result"
    },
    {
     "data": {
      "image/png": "[encoded data removed]",
      "text/plain": [
       "<Figure size 500x500 with 1 Axes>"
      ]
     },
     "metadata": {},
     "output_type": "display_data"
    }
   ],
   "source": [
    "# display frequency plot\n",
    "plt.figure(figsize=(5, 5))\n",
    "\n",
    "sns.countplot(x='activity_comment', data=df_combined, edgecolor='black')\n",
    "\n",
    "plt.xlabel('Activity', fontsize= 12, fontweight='bold')\n",
    "plt.ylabel('Frequency', fontsize= 12, fontweight='bold')"
   ]
  },
  {
   "cell_type": "markdown",
   "metadata": {},
   "source": [
    "#### Key Observation:\n",
    "The dataset is **dominated by inactive compounds**, with over 600 entries marked as \"inactive\". It is clearly imbalanced between these two category. Therefore, the small portion of \"active\" compounds in the dataset is biologically expected since most compounds tested in assay are expected to be inactive, as only a few would show strong inhibition or active against the target protein."
   ]
  },
  {
   "cell_type": "markdown",
   "metadata": {},
   "source": [
    "### 3.2 Scatter plot MW vs logP"
   ]
  },
  {
   "cell_type": "code",
   "execution_count": 10,
   "metadata": {},
   "outputs": [
    {
     "data": {
      "text/plain": [
       "<matplotlib.legend.Legend at 0x155fc8ad0>"
      ]
     },
     "execution_count": 10,
     "metadata": {},
     "output_type": "execute_result"
    },
    {
     "data": {
      "image/png": "[encoded data removed]",
      "text/plain": [
       "<Figure size 500x500 with 1 Axes>"
      ]
     },
     "metadata": {},
     "output_type": "display_data"
    }
   ],
   "source": [
    "# display scatter plot\n",
    "plt.figure(figsize=(5,5))\n",
    "\n",
    "sns.scatterplot(x='mw', y='logP', data=df_combined, hue='activity_comment', size='pIC50', edgecolor='black', alpha=0.5)\n",
    "\n",
    "plt.xlabel('mw', fontsize=14, fontweight='bold')\n",
    "plt.ylabel('logP', fontsize=14, fontweight='bold')\n",
    "plt.legend(bbox_to_anchor=(1.05,1), loc=2, borderaxespad=0)"
   ]
  },
  {
   "cell_type": "markdown",
   "metadata": {},
   "source": [
    "#### Key Observation:\n",
    "- Most of the compounds fall within the molecular weight range of 400-700 Daltons, with only a few outliers exceeding 1000 Daltons.\n",
    "- Compounds are primarily clustered around LogP value between 2 and 6, indicating that the majority have moderate lipophilicity.\n",
    "- Active compounds(orange dot) are relatively more concentrated around 400 - 700 and LogP values 4-6. This is biologically relevant because compounds that follow Lipinski's rule of five(moderate MW and LogP) are more likely to be orally active drugs.\n",
    "- There are very few uncertain compounds, and they fall in the moderate MW and LogP range as well.\n",
    "- Larger dots indicate higher pIC50 values are generally found in the central region which suggest that compounds with moderate molecular weight and lipophilicity tend to be more potent.\n",
    "- There may be a week negative correlation between molecular weight and activity as heavier compoounds tend to cluster as inactive\n",
    "- LogP does not show a strong direct relationship with activity, but very high or very low values of LogP coud negatively affect the bioactivity of the compounds."
   ]
  },
  {
   "cell_type": "markdown",
   "metadata": {},
   "source": [
    "### 3.3 Box plots"
   ]
  },
  {
   "cell_type": "markdown",
   "metadata": {},
   "source": [
    "#### 3.3.1 pIC50 values"
   ]
  },
  {
   "cell_type": "code",
   "execution_count": 11,
   "metadata": {},
   "outputs": [
    {
     "data": {
      "text/plain": [
       "Text(0, 0.5, 'pIC50 value')"
      ]
     },
     "execution_count": 11,
     "metadata": {},
     "output_type": "execute_result"
    },
    {
     "data": {
      "image/png": "[encoded data removed]",
      "text/plain": [
       "<Figure size 500x500 with 1 Axes>"
      ]
     },
     "metadata": {},
     "output_type": "display_data"
    }
   ],
   "source": [
    "# Display boxplot pIC50\n",
    "plt.figure(figsize=(5,5))\n",
    "\n",
    "sns.boxplot(x='activity_comment', y='pIC50', data= df_combined)\n",
    "\n",
    "plt.xlabel('Activity', fontsize=14, fontweight='bold')\n",
    "plt.ylabel('pIC50 value', fontsize=14, fontweight='bold')"
   ]
  },
  {
   "cell_type": "markdown",
   "metadata": {},
   "source": [
    "#### Statistical Analysis | Mann-Whitney U Test\n",
    "Statistical analysis will be perform to look up the difference between inactive and active class."
   ]
  },
  {
   "cell_type": "code",
   "execution_count": 12,
   "metadata": {},
   "outputs": [],
   "source": [
    "# Define man-whitney u test function\n",
    "def manwhitney(descriptor, df, alpha=0.05, verbose=False):\n",
    "    '''\n",
    "    Mann-Whitney U test for descriptor distribution between active and inactive classes.\n",
    "    \n",
    "    Parameters:\n",
    "    - descriptor(str): Column name to test.\n",
    "    - df (pd.DataFrame): DataFrame with descriptor and activity_comment\n",
    "    - alpha(float): Significance level (default 0.05)\n",
    "    - verbose (bool): If True, print results.\n",
    "    \n",
    "    Return:\n",
    "    - pd.DataFrame: Test results with statistics and interpretation.\n",
    "    '''\n",
    "    from scipy.stats import mannwhitneyu\n",
    "    \n",
    "    # Select relevant columns\n",
    "    df_selected = df[[descriptor, 'activity_comment']]\n",
    "    \n",
    "    # Separate dataset based on activity comment\n",
    "    active = df_selected[df_selected['activity_comment'] == 'active'][descriptor]\n",
    "    inactive = df_selected[df_selected['activity_comment'] == 'inactive'][descriptor]\n",
    "    \n",
    "    # Perform Mann-Whitney U test\n",
    "    stat, p = mannwhitneyu(active, inactive)\n",
    "    \n",
    "    # Interpret the result\n",
    "    if p > alpha:\n",
    "        interpretation = 'Same distribution (fail to reject H0)'\n",
    "    else:\n",
    "        interpretation = 'Different distribution (reject H0)'\n",
    "    \n",
    "    \n",
    "    # Create a dataframe for the results\n",
    "    results = pd.DataFrame({\n",
    "        'Descriptor': [descriptor],\n",
    "        'Statistics': [stat],\n",
    "        'p-value': [p],\n",
    "        'Alpha': [alpha],\n",
    "        'Interpretation': [interpretation]\n",
    "    })\n",
    "    \n",
    "    # Save the result to csv\n",
    "    filename = f'mannwhitneyu_{descriptor}.csv'\n",
    "    results.to_csv(filename, index=False)\n",
    "    \n",
    "    # Print detailed output if verbose is True\n",
    "    if verbose:\n",
    "        print(f'Mann-Whitney U test for {descriptor}:')\n",
    "        print(f'Statistics: {stat:.3f}, p-value: {p:.3f}')\n",
    "        print(f'Interpretation: {interpretation}')\n",
    "    \n",
    "    return results"
   ]
  },
  {
   "cell_type": "code",
   "execution_count": 13,
   "metadata": {},
   "outputs": [
    {
     "data": {
      "text/html": [
       "<div>\n",
       "<style scoped>\n",
       "    .dataframe tbody tr th:only-of-type {\n",
       "        vertical-align: middle;\n",
       "    }\n",
       "\n",
       "    .dataframe tbody tr th {\n",
       "        vertical-align: top;\n",
       "    }\n",
       "\n",
       "    .dataframe thead th {\n",
       "        text-align: right;\n",
       "    }\n",
       "</style>\n",
       "<table border=\"1\" class=\"dataframe\">\n",
       "  <thead>\n",
       "    <tr style=\"text-align: right;\">\n",
       "      <th></th>\n",
       "      <th>Descriptor</th>\n",
       "      <th>Statistics</th>\n",
       "      <th>p-value</th>\n",
       "      <th>Alpha</th>\n",
       "      <th>Interpretation</th>\n",
       "    </tr>\n",
       "  </thead>\n",
       "  <tbody>\n",
       "    <tr>\n",
       "      <th>0</th>\n",
       "      <td>pIC50</td>\n",
       "      <td>8485.5</td>\n",
       "      <td>9.775309e-11</td>\n",
       "      <td>0.05</td>\n",
       "      <td>Different distribution (reject H0)</td>\n",
       "    </tr>\n",
       "  </tbody>\n",
       "</table>\n",
       "</div>"
      ],
      "text/plain": [
       "  Descriptor  Statistics       p-value  Alpha  \\\n",
       "0      pIC50      8485.5  9.775309e-11   0.05   \n",
       "\n",
       "                       Interpretation  \n",
       "0  Different distribution (reject H0)  "
      ]
     },
     "execution_count": 13,
     "metadata": {},
     "output_type": "execute_result"
    }
   ],
   "source": [
    "# statistical analysis pIC50\n",
    "manwhitney('pIC50', df_combined)"
   ]
  },
  {
   "cell_type": "markdown",
   "metadata": {},
   "source": [
    "#### Insight and Interpretation\n",
    "- The pIC50 values of inactive compounds shows a wide range with more variability compraed to the active compounds.\n",
    "- The distribution of pIC50 values active compounds is generally higher and more concentrated, which implies that active compoounds tend to have higher pIC50 compared to inactive ones.\n",
    "- The results indicate that pIC50 values, which reflect the biological activity of the compounds, are significantly different between active and inactive compounds. Active compounds tend to have higher pIC50 values (indicative of higher potency)."
   ]
  },
  {
   "cell_type": "markdown",
   "metadata": {},
   "source": [
    "#### 3.3.2 MV values"
   ]
  },
  {
   "cell_type": "code",
   "execution_count": 14,
   "metadata": {},
   "outputs": [
    {
     "data": {
      "text/plain": [
       "Text(0, 0.5, 'MW value')"
      ]
     },
     "execution_count": 14,
     "metadata": {},
     "output_type": "execute_result"
    },
    {
     "data": {
      "image/png": "[encoded data removed]",
      "text/plain": [
       "<Figure size 500x500 with 1 Axes>"
      ]
     },
     "metadata": {},
     "output_type": "display_data"
    }
   ],
   "source": [
    "# Display boxplot mw\n",
    "plt.figure(figsize=(5,5))\n",
    "\n",
    "sns.boxplot(x='activity_comment', y='mw', data= df_combined)\n",
    "\n",
    "plt.xlabel('Activity', fontsize=14, fontweight='bold')\n",
    "plt.ylabel('MW value', fontsize=14, fontweight='bold')"
   ]
  },
  {
   "cell_type": "markdown",
   "metadata": {},
   "source": [
    "#### Statistical Analysis | Mann-Whitney U Test"
   ]
  },
  {
   "cell_type": "code",
   "execution_count": 15,
   "metadata": {},
   "outputs": [
    {
     "data": {
      "text/html": [
       "<div>\n",
       "<style scoped>\n",
       "    .dataframe tbody tr th:only-of-type {\n",
       "        vertical-align: middle;\n",
       "    }\n",
       "\n",
       "    .dataframe tbody tr th {\n",
       "        vertical-align: top;\n",
       "    }\n",
       "\n",
       "    .dataframe thead th {\n",
       "        text-align: right;\n",
       "    }\n",
       "</style>\n",
       "<table border=\"1\" class=\"dataframe\">\n",
       "  <thead>\n",
       "    <tr style=\"text-align: right;\">\n",
       "      <th></th>\n",
       "      <th>Descriptor</th>\n",
       "      <th>Statistics</th>\n",
       "      <th>p-value</th>\n",
       "      <th>Alpha</th>\n",
       "      <th>Interpretation</th>\n",
       "    </tr>\n",
       "  </thead>\n",
       "  <tbody>\n",
       "    <tr>\n",
       "      <th>0</th>\n",
       "      <td>mw</td>\n",
       "      <td>7287.5</td>\n",
       "      <td>0.000148</td>\n",
       "      <td>0.05</td>\n",
       "      <td>Different distribution (reject H0)</td>\n",
       "    </tr>\n",
       "  </tbody>\n",
       "</table>\n",
       "</div>"
      ],
      "text/plain": [
       "  Descriptor  Statistics   p-value  Alpha                      Interpretation\n",
       "0         mw      7287.5  0.000148   0.05  Different distribution (reject H0)"
      ]
     },
     "execution_count": 15,
     "metadata": {},
     "output_type": "execute_result"
    }
   ],
   "source": [
    "# statistical analysis mw\n",
    "manwhitney('mw', df_combined)"
   ]
  },
  {
   "cell_type": "markdown",
   "metadata": {},
   "source": [
    "#### Insight and Interpretation\n",
    "- The MW values of inactive compounds have a wider range of molecular weight values with some outliers above 900, on the other hand, the MW values of active compounds show a slightly more concentrated range with median slightly above 500 and there are no extreme outliers visiable.\n",
    "- The distribution of MW values between inactive and active compounds swhos a signigicant difference. Active compounds seem to have higher MW values."
   ]
  },
  {
   "cell_type": "markdown",
   "metadata": {},
   "source": [
    "#### 3.3.3 LogP values"
   ]
  },
  {
   "cell_type": "code",
   "execution_count": 16,
   "metadata": {},
   "outputs": [
    {
     "data": {
      "text/plain": [
       "Text(0, 0.5, 'LogP value')"
      ]
     },
     "execution_count": 16,
     "metadata": {},
     "output_type": "execute_result"
    },
    {
     "data": {
      "image/png": "[encoded data removed]",
      "text/plain": [
       "<Figure size 500x500 with 1 Axes>"
      ]
     },
     "metadata": {},
     "output_type": "display_data"
    }
   ],
   "source": [
    "# Display boxplot logP\n",
    "plt.figure(figsize=(5,5))\n",
    "\n",
    "sns.boxplot(x='activity_comment', y='logP', data= df_combined)\n",
    "\n",
    "plt.xlabel('Activity', fontsize=14, fontweight='bold')\n",
    "plt.ylabel('LogP value', fontsize=14, fontweight='bold')"
   ]
  },
  {
   "cell_type": "markdown",
   "metadata": {},
   "source": [
    "#### Statistical Analysis | Mann-Whitney U Test"
   ]
  },
  {
   "cell_type": "code",
   "execution_count": 17,
   "metadata": {},
   "outputs": [
    {
     "data": {
      "text/html": [
       "<div>\n",
       "<style scoped>\n",
       "    .dataframe tbody tr th:only-of-type {\n",
       "        vertical-align: middle;\n",
       "    }\n",
       "\n",
       "    .dataframe tbody tr th {\n",
       "        vertical-align: top;\n",
       "    }\n",
       "\n",
       "    .dataframe thead th {\n",
       "        text-align: right;\n",
       "    }\n",
       "</style>\n",
       "<table border=\"1\" class=\"dataframe\">\n",
       "  <thead>\n",
       "    <tr style=\"text-align: right;\">\n",
       "      <th></th>\n",
       "      <th>Descriptor</th>\n",
       "      <th>Statistics</th>\n",
       "      <th>p-value</th>\n",
       "      <th>Alpha</th>\n",
       "      <th>Interpretation</th>\n",
       "    </tr>\n",
       "  </thead>\n",
       "  <tbody>\n",
       "    <tr>\n",
       "      <th>0</th>\n",
       "      <td>logP</td>\n",
       "      <td>6665.5</td>\n",
       "      <td>0.006819</td>\n",
       "      <td>0.05</td>\n",
       "      <td>Different distribution (reject H0)</td>\n",
       "    </tr>\n",
       "  </tbody>\n",
       "</table>\n",
       "</div>"
      ],
      "text/plain": [
       "  Descriptor  Statistics   p-value  Alpha                      Interpretation\n",
       "0       logP      6665.5  0.006819   0.05  Different distribution (reject H0)"
      ]
     },
     "execution_count": 17,
     "metadata": {},
     "output_type": "execute_result"
    }
   ],
   "source": [
    "# statistical analysis logP\n",
    "manwhitney('logP', df_combined)"
   ]
  },
  {
   "cell_type": "markdown",
   "metadata": {},
   "source": [
    "#### Insight and Interpretation\n",
    "- The distribution of logP of inactive compounds and active compounds have different distribution based on statstical analysis. The distribution of inactive counds seem wider, with logP values ranging from around 1 to 7 and median around 4.\n",
    "- The distribution logP of active compounds is slightly narrower with values between 3 to 6 and median logP is around 5.\n",
    "- The logP values for active compounds are generally higher compared to inactive compounds. This suggests that more hydrophobic (higher LogP) compounds might have a higher likelihood of being active, though the range still overlaps with inactive compounds."
   ]
  },
  {
   "cell_type": "markdown",
   "metadata": {},
   "source": [
    "#### 3.3.4 NumHDonors values"
   ]
  },
  {
   "cell_type": "code",
   "execution_count": 18,
   "metadata": {},
   "outputs": [
    {
     "data": {
      "text/plain": [
       "Text(0, 0.5, 'NumHDonors value')"
      ]
     },
     "execution_count": 18,
     "metadata": {},
     "output_type": "execute_result"
    },
    {
     "data": {
      "image/png": "[encoded data removed]",
      "text/plain": [
       "<Figure size 500x500 with 1 Axes>"
      ]
     },
     "metadata": {},
     "output_type": "display_data"
    }
   ],
   "source": [
    "# Display boxplot numHdonors\n",
    "plt.figure(figsize=(5,5))\n",
    "\n",
    "sns.boxplot(x='activity_comment', y='numHdonors', data= df_combined)\n",
    "\n",
    "plt.xlabel('Activity', fontsize=14, fontweight='bold')\n",
    "plt.ylabel('NumHDonors value', fontsize=14, fontweight='bold')"
   ]
  },
  {
   "cell_type": "markdown",
   "metadata": {},
   "source": [
    "#### Statistical Analysis | Mann-Whitney U Test"
   ]
  },
  {
   "cell_type": "code",
   "execution_count": 19,
   "metadata": {},
   "outputs": [
    {
     "data": {
      "text/html": [
       "<div>\n",
       "<style scoped>\n",
       "    .dataframe tbody tr th:only-of-type {\n",
       "        vertical-align: middle;\n",
       "    }\n",
       "\n",
       "    .dataframe tbody tr th {\n",
       "        vertical-align: top;\n",
       "    }\n",
       "\n",
       "    .dataframe thead th {\n",
       "        text-align: right;\n",
       "    }\n",
       "</style>\n",
       "<table border=\"1\" class=\"dataframe\">\n",
       "  <thead>\n",
       "    <tr style=\"text-align: right;\">\n",
       "      <th></th>\n",
       "      <th>Descriptor</th>\n",
       "      <th>Statistics</th>\n",
       "      <th>p-value</th>\n",
       "      <th>Alpha</th>\n",
       "      <th>Interpretation</th>\n",
       "    </tr>\n",
       "  </thead>\n",
       "  <tbody>\n",
       "    <tr>\n",
       "      <th>0</th>\n",
       "      <td>numHdonors</td>\n",
       "      <td>5854.0</td>\n",
       "      <td>0.174657</td>\n",
       "      <td>0.05</td>\n",
       "      <td>Same distribution (fail to reject H0)</td>\n",
       "    </tr>\n",
       "  </tbody>\n",
       "</table>\n",
       "</div>"
      ],
      "text/plain": [
       "   Descriptor  Statistics   p-value  Alpha  \\\n",
       "0  numHdonors      5854.0  0.174657   0.05   \n",
       "\n",
       "                          Interpretation  \n",
       "0  Same distribution (fail to reject H0)  "
      ]
     },
     "execution_count": 19,
     "metadata": {},
     "output_type": "execute_result"
    }
   ],
   "source": [
    "# statistical analysis numHdonors\n",
    "manwhitney('numHdonors', df_combined)"
   ]
  },
  {
   "cell_type": "markdown",
   "metadata": {},
   "source": [
    "#### Insight and Interpretation\n",
    "- Since the p-value is greater than the alpha(0.05), we fail to reject the null hypothesis(HO), which is indicates that there is no significant difference in the distribution of hydrogen bond donors across the activity classes.\n",
    "- The distribution of NumHDonors values for inactive compounds appears more spread out compraed to active compounds but almost have similar median around 2, though inactive compounds exhibit more variability.\n",
    "- The number of hydrogen bonds donor doesn't seen to strongly correlate with compound activity in this dataset, since the distribution is similar across active and inactive compounds."
   ]
  },
  {
   "cell_type": "markdown",
   "metadata": {},
   "source": [
    "#### 3.3.5 NumHAcceptors values"
   ]
  },
  {
   "cell_type": "code",
   "execution_count": 20,
   "metadata": {},
   "outputs": [
    {
     "data": {
      "text/plain": [
       "Text(0, 0.5, 'NumHAcceptors value')"
      ]
     },
     "execution_count": 20,
     "metadata": {},
     "output_type": "execute_result"
    },
    {
     "data": {
      "image/png": "[encoded data removed]",
      "text/plain": [
       "<Figure size 500x500 with 1 Axes>"
      ]
     },
     "metadata": {},
     "output_type": "display_data"
    }
   ],
   "source": [
    "# Display boxplot numHacceptors\n",
    "plt.figure(figsize=(5,5))\n",
    "\n",
    "sns.boxplot(x='activity_comment', y='numHacceptors', data= df_combined)\n",
    "\n",
    "plt.xlabel('Activity', fontsize=14, fontweight='bold')\n",
    "plt.ylabel('NumHAcceptors value', fontsize=14, fontweight='bold')"
   ]
  },
  {
   "cell_type": "markdown",
   "metadata": {},
   "source": [
    "#### Statistical Analysis | Mann-Whitney U Test"
   ]
  },
  {
   "cell_type": "code",
   "execution_count": 21,
   "metadata": {},
   "outputs": [
    {
     "data": {
      "text/html": [
       "<div>\n",
       "<style scoped>\n",
       "    .dataframe tbody tr th:only-of-type {\n",
       "        vertical-align: middle;\n",
       "    }\n",
       "\n",
       "    .dataframe tbody tr th {\n",
       "        vertical-align: top;\n",
       "    }\n",
       "\n",
       "    .dataframe thead th {\n",
       "        text-align: right;\n",
       "    }\n",
       "</style>\n",
       "<table border=\"1\" class=\"dataframe\">\n",
       "  <thead>\n",
       "    <tr style=\"text-align: right;\">\n",
       "      <th></th>\n",
       "      <th>Descriptor</th>\n",
       "      <th>Statistics</th>\n",
       "      <th>p-value</th>\n",
       "      <th>Alpha</th>\n",
       "      <th>Interpretation</th>\n",
       "    </tr>\n",
       "  </thead>\n",
       "  <tbody>\n",
       "    <tr>\n",
       "      <th>0</th>\n",
       "      <td>numHacceptors</td>\n",
       "      <td>6093.5</td>\n",
       "      <td>0.083773</td>\n",
       "      <td>0.05</td>\n",
       "      <td>Same distribution (fail to reject H0)</td>\n",
       "    </tr>\n",
       "  </tbody>\n",
       "</table>\n",
       "</div>"
      ],
      "text/plain": [
       "      Descriptor  Statistics   p-value  Alpha  \\\n",
       "0  numHacceptors      6093.5  0.083773   0.05   \n",
       "\n",
       "                          Interpretation  \n",
       "0  Same distribution (fail to reject H0)  "
      ]
     },
     "execution_count": 21,
     "metadata": {},
     "output_type": "execute_result"
    }
   ],
   "source": [
    "# statistical analysis numHacceptors\n",
    "manwhitney('numHacceptors', df_combined)"
   ]
  },
  {
   "cell_type": "markdown",
   "metadata": {},
   "source": [
    "#### Insight and Interpretation\n",
    "- Since the p-value is greater than the alpha(0.05), we fail to reject the null hypothesis(HO), which is indicates that there is no significant difference in the distribution of hydrogen bond acceptors across the activity classes.\n",
    "- The distribution of NumHAcceptors values for inactive compounds appears more spread out with several outlier above 13 compared to active compounds but almost have similar median around 7, though inactive compounds exhibit more variability.\n",
    "- The number of hydrogen bonds acceptor doesn't seen to strongly correlate with compound activity in this dataset, since the distribution is similar across active and inactive compounds."
   ]
  },
  {
   "cell_type": "markdown",
   "metadata": {},
   "source": [
    "## 4. Data Pre-Processing"
   ]
  },
  {
   "cell_type": "markdown",
   "metadata": {},
   "source": [
    "### 4.1 Feature Selection"
   ]
  },
  {
   "cell_type": "markdown",
   "metadata": {},
   "source": [
    "Firstly, I will check the information inside columns which is suspect to contain few single or  variable: `assay_type`, `bao_format`, `qudt_units`, `standard_flag`, `standard_type`, `target_chembl_id`, `target_organism`, `target_pref_name`, `target_tax_id`, `units`, `uo_units`, `entry`, `entry_name`, `protein_names`, `organism`, `length`, and `sequence`. "
   ]
  },
  {
   "cell_type": "code",
   "execution_count": 22,
   "metadata": {},
   "outputs": [
    {
     "name": "stdout",
     "output_type": "stream",
     "text": [
      "Column: qudt_units - Unique Values: 1\n",
      "qudt_units\n",
      "http://www.openphacts.org/units/Nanomolar    383\n",
      "Name: count, dtype: int64\n",
      "---\n",
      "Column: standard_flag - Unique Values: 1\n",
      "standard_flag\n",
      "1    383\n",
      "Name: count, dtype: int64\n",
      "---\n",
      "Column: target_chembl_id - Unique Values: 1\n",
      "target_chembl_id\n",
      "CHEMBL4223    383\n",
      "Name: count, dtype: int64\n",
      "---\n",
      "Column: target_organism - Unique Values: 1\n",
      "target_organism\n",
      "Homo sapiens    383\n",
      "Name: count, dtype: int64\n",
      "---\n",
      "Column: target_pref_name - Unique Values: 1\n",
      "target_pref_name\n",
      "Tyrosine-protein kinase FRK    383\n",
      "Name: count, dtype: int64\n",
      "---\n",
      "Column: target_tax_id - Unique Values: 1\n",
      "target_tax_id\n",
      "9606    383\n",
      "Name: count, dtype: int64\n",
      "---\n",
      "Column: units - Unique Values: 1\n",
      "units\n",
      "nM    383\n",
      "Name: count, dtype: int64\n",
      "---\n",
      "Column: uo_units - Unique Values: 1\n",
      "uo_units\n",
      "UO_0000065    383\n",
      "Name: count, dtype: int64\n",
      "---\n",
      "Column: entry - Unique Values: 1\n",
      "entry\n",
      "P42685    383\n",
      "Name: count, dtype: int64\n",
      "---\n",
      "Column: entry_name - Unique Values: 1\n",
      "entry_name\n",
      "FRK_HUMAN    383\n",
      "Name: count, dtype: int64\n",
      "---\n",
      "Column: protein_names - Unique Values: 1\n",
      "protein_names\n",
      "Tyrosine-protein kinase FRK    383\n",
      "Name: count, dtype: int64\n",
      "---\n",
      "Column: organism - Unique Values: 1\n",
      "organism\n",
      "Homo sapiens (Human)    383\n",
      "Name: count, dtype: int64\n",
      "---\n",
      "Column: length - Unique Values: 1\n",
      "length\n",
      "505    383\n",
      "Name: count, dtype: int64\n",
      "---\n",
      "Column: sequence - Unique Values: 1\n",
      "sequence\n",
      "MSNICQRLWEYLEPYLPCLSTEADKSTVIENPGALCSPQSQRHGHYFVALFDYQARTAEDLSFRAGDKLQVLDTLHEGWWFARHLEKRRDGSSQQLQGYIPSNYVAEDRSLQAEPWFFGAIGRSDAEKQLLYSENKTGSFLIRESESQKGEFSLSVLDGAVVKHYRIKRLDEGGFFLTRRRIFSTLNEFVSHYTKTSDGLCVKLGKPCLKIQVPAPFDLSYKTVDQWEIDRNSIQLLKRLGSGQFGEVWEGLWNNTTPVAVKTLKPGSMDPNDFLREAQIMKNLRHPKLIQLYAVCTLEDPIYIITELMRHGSLQEYLQNDTGSKIHLTQQVDMAAQVASGMAYLESRNYIHRDLAARNVLVGEHNIYKVADFGLARVFKVDNEDIYESRHEIKLPVKWTAPEAIRSNKFSIKSDVWSFGILLYEIITYGKMPYSGMTGAQVIQMLAQNYRLPQPSNCPQQFYNIMLECWNAEPKERPTFETLRWKLEDYFETDSSYSDANNFIR    383\n",
      "Name: count, dtype: int64\n",
      "---\n",
      "Column: standard_units - Unique Values: 1\n",
      "standard_units\n",
      "nM    383\n",
      "Name: count, dtype: int64\n",
      "---\n"
     ]
    }
   ],
   "source": [
    "# List of selected columns\n",
    "selected_columns = [\n",
    "    'qudt_units', 'standard_flag', \n",
    "    'target_chembl_id', 'target_organism', 'target_pref_name', 'target_tax_id',\n",
    "    'units', 'uo_units', 'entry', 'entry_name', 'protein_names', 'organism', \n",
    "    'length', 'sequence', 'standard_units'\n",
    "]\n",
    "\n",
    "# Check unique values for each selected column\n",
    "unique_values = {col: df_combined[col].nunique() for col in selected_columns}\n",
    "\n",
    "# Print unique values for each column\n",
    "for col, unique_count in unique_values.items():\n",
    "    print(f'Column: {col} - Unique Values: {unique_count}')\n",
    "    print(df[col].value_counts(dropna=False).head())  # Print top 5 unique values, including NaN if any\n",
    "    print('---')\n"
   ]
  },
  {
   "cell_type": "markdown",
   "metadata": {},
   "source": [
    "These column only contain few uniques values(lower than 5) and most of them only contain single values in each columns. So I will drop these colum from my main dataset."
   ]
  },
  {
   "cell_type": "code",
   "execution_count": 23,
   "metadata": {},
   "outputs": [
    {
     "name": "stdout",
     "output_type": "stream",
     "text": [
      "Dropped columns: ['qudt_units', 'standard_flag', 'target_chembl_id', 'target_organism', 'target_pref_name', 'target_tax_id', 'units', 'uo_units', 'entry', 'entry_name', 'protein_names', 'organism', 'length', 'sequence', 'standard_units']\n",
      "New dataframe shape: (383, 31)\n"
     ]
    }
   ],
   "source": [
    "# Drop the identified columns from the dataframe\n",
    "df_dropped = df_combined.drop(columns=selected_columns, axis=1)\n",
    "\n",
    "# Print the columns that were dropped\n",
    "print(\"Dropped columns:\", selected_columns)\n",
    "\n",
    "# Optional: Check the resulting dataframe shape\n",
    "print(f\"New dataframe shape: {df_dropped.shape}\")"
   ]
  },
  {
   "cell_type": "markdown",
   "metadata": {},
   "source": [
    "Secondly, I check the correlation between feature using *correlation matrix*."
   ]
  },
  {
   "cell_type": "code",
   "execution_count": 54,
   "metadata": {},
   "outputs": [
    {
     "name": "stdout",
     "output_type": "stream",
     "text": [
      "<class 'pandas.core.frame.DataFrame'>\n",
      "RangeIndex: 383 entries, 0 to 382\n",
      "Data columns (total 31 columns):\n",
      " #   Column                     Non-Null Count  Dtype  \n",
      "---  ------                     --------------  -----  \n",
      " 0   activity_comment           383 non-null    object \n",
      " 1   activity_id                383 non-null    int64  \n",
      " 2   activity_properties        383 non-null    object \n",
      " 3   assay_chembl_id            383 non-null    object \n",
      " 4   assay_description          383 non-null    object \n",
      " 5   assay_type                 383 non-null    object \n",
      " 6   bao_endpoint               383 non-null    object \n",
      " 7   bao_format                 383 non-null    object \n",
      " 8   bao_label                  383 non-null    object \n",
      " 9   canonical_smiles_x         383 non-null    object \n",
      " 10  document_chembl_id         383 non-null    object \n",
      " 11  document_journal           383 non-null    object \n",
      " 12  molecule_chembl_id         383 non-null    object \n",
      " 13  molecule_pref_name         383 non-null    object \n",
      " 14  parent_molecule_chembl_id  383 non-null    object \n",
      " 15  pchembl_value              383 non-null    float64\n",
      " 16  potential_duplicate        383 non-null    int64  \n",
      " 17  record_id                  383 non-null    int64  \n",
      " 18  relation                   383 non-null    object \n",
      " 19  src_id                     383 non-null    int64  \n",
      " 20  standard_relation          383 non-null    object \n",
      " 21  standard_type              383 non-null    object \n",
      " 22  standard_value             383 non-null    float64\n",
      " 23  type                       383 non-null    object \n",
      " 24  value                      383 non-null    float64\n",
      " 25  pIC50                      383 non-null    float64\n",
      " 26  canonical_smiles_y         383 non-null    object \n",
      " 27  mw                         383 non-null    float64\n",
      " 28  logP                       383 non-null    float64\n",
      " 29  numHdonors                 383 non-null    int64  \n",
      " 30  numHacceptors              383 non-null    int64  \n",
      "dtypes: float64(6), int64(6), object(19)\n",
      "memory usage: 92.9+ KB\n"
     ]
    }
   ],
   "source": [
    "df_dropped.info()"
   ]
  },
  {
   "cell_type": "code",
   "execution_count": 58,
   "metadata": {},
   "outputs": [
    {
     "data": {
      "image/png": "[encoded data removed]",
      "text/plain": [
       "<Figure size 1000x800 with 2 Axes>"
      ]
     },
     "metadata": {},
     "output_type": "display_data"
    }
   ],
   "source": [
    "# Calculate the correlation matrix\n",
    "numeric_df = df_dropped.select_dtypes(include=['number'])\n",
    "correlation_matrix = numeric_df.corr()\n",
    "\n",
    "# Set the size of the plot\n",
    "plt.figure(figsize=(10, 8))\n",
    "\n",
    "# Create a heatmap\n",
    "sns.heatmap(correlation_matrix, annot=True, \n",
    "            fmt=\".2f\",\n",
    "            cmap='coolwarm',     \n",
    "            cbar_kws={\"shrink\": .8})\n",
    "\n",
    "# Set the title\n",
    "plt.title('Feature Correlation Heatmap', fontsize=16)\n",
    "\n",
    "# Show the plot\n",
    "plt.show()"
   ]
  },
  {
   "cell_type": "markdown",
   "metadata": {},
   "source": [
    "**Insight:**\n",
    "Based on the correlation matrix above, it shows that the `pIC50` as the target has a high correlation to `pchembl_value` and `standard_value`, which makes sense since the `pIC50` values were calculate from `standard_value`, and it's showing that `standard_value` has a very high correlation with `value` so I will drop both columns from the feature dataset as well as another unnecessary column."
   ]
  },
  {
   "cell_type": "code",
   "execution_count": 71,
   "metadata": {},
   "outputs": [],
   "source": [
    "# Drop target and unnecessary columns for feature\n",
    "X = df_dropped.drop(['pIC50', 'pchembl_value', 'standard_value', 'value', 'activity_id',  'activity_properties', 'assay_chembl_id', 'bao_format', 'parent_molecule_chembl_id', 'standard_type',\n",
    "                      'assay_description', 'document_chembl_id', 'molecule_chembl_id', 'canonical_smiles_x', 'canonical_smiles_y', 'document_journal', 'molecule_pref_name'], axis=1)"
   ]
  },
  {
   "cell_type": "code",
   "execution_count": 72,
   "metadata": {},
   "outputs": [],
   "source": [
    "# Keep target separately\n",
    "y = df_dropped['pIC50']"
   ]
  },
  {
   "cell_type": "markdown",
   "metadata": {},
   "source": [
    "### 4.2 Data Encoding and Normalization"
   ]
  },
  {
   "cell_type": "code",
   "execution_count": 73,
   "metadata": {},
   "outputs": [
    {
     "name": "stderr",
     "output_type": "stream",
     "text": [
      "/opt/anaconda3/lib/python3.11/site-packages/sklearn/preprocessing/_encoders.py:868: FutureWarning: `sparse` was renamed to `sparse_output` in version 1.2 and will be removed in 1.4. `sparse_output` is ignored unless you leave `sparse` to its default value.\n",
      "  warnings.warn(\n"
     ]
    }
   ],
   "source": [
    "from sklearn.preprocessing import StandardScaler, OneHotEncoder\n",
    "\n",
    "# Encoding categorical columns\n",
    "categorical_columns = ['activity_comment', 'assay_type', 'bao_endpoint', 'bao_label', 'relation', 'standard_relation' ]  # categorial columns to encode\n",
    "onehot_encoder = OneHotEncoder(sparse=False, drop='first')  # dropping first to avoid multicollinearity\n",
    "X_encoded = pd.DataFrame(onehot_encoder.fit_transform(X[categorical_columns]), columns=onehot_encoder.get_feature_names_out())\n",
    "\n",
    "# Normalize numerical features (excluding categorical columns)\n",
    "numerical_columns = X.select_dtypes(include=['float64', 'int64']).columns\n",
    "scaler = StandardScaler()\n",
    "X_normalized = pd.DataFrame(scaler.fit_transform(X[numerical_columns]), columns=numerical_columns)\n",
    "\n",
    "# Concatenate the normalized and encoded columns\n",
    "X_preprocessed = pd.concat([X_normalized, X_encoded], axis=1)"
   ]
  },
  {
   "cell_type": "code",
   "execution_count": 74,
   "metadata": {},
   "outputs": [
    {
     "name": "stdout",
     "output_type": "stream",
     "text": [
      "   activity_comment_inactive  activity_comment_uncertain  assay_type_B  \\\n",
      "0                        1.0                         0.0           1.0   \n",
      "1                        1.0                         0.0           1.0   \n",
      "2                        1.0                         0.0           1.0   \n",
      "3                        1.0                         0.0           1.0   \n",
      "4                        1.0                         0.0           1.0   \n",
      "\n",
      "   bao_endpoint_BAO_0000190  bao_endpoint_BAO_0000192  \\\n",
      "0                       0.0                       0.0   \n",
      "1                       0.0                       0.0   \n",
      "2                       0.0                       0.0   \n",
      "3                       0.0                       0.0   \n",
      "4                       0.0                       0.0   \n",
      "\n",
      "   bao_label_cell-based format  bao_label_single protein format  \\\n",
      "0                          0.0                              1.0   \n",
      "1                          0.0                              1.0   \n",
      "2                          0.0                              1.0   \n",
      "3                          0.0                              1.0   \n",
      "4                          0.0                              1.0   \n",
      "\n",
      "   bao_label_subcellular format  relation_>  standard_relation_>  \n",
      "0                           0.0         0.0                  0.0  \n",
      "1                           0.0         0.0                  0.0  \n",
      "2                           0.0         0.0                  0.0  \n",
      "3                           0.0         0.0                  0.0  \n",
      "4                           0.0         0.0                  0.0  \n",
      "Shape of encoded categorical data: (383, 10)\n"
     ]
    }
   ],
   "source": [
    "# Display the first few rows of the encoded data\n",
    "print(X_encoded.head())\n",
    "\n",
    "# Check if the shape matches the expected number of columns after encoding\n",
    "print(f\"Shape of encoded categorical data: {X_encoded.shape}\")"
   ]
  },
  {
   "cell_type": "code",
   "execution_count": 68,
   "metadata": {},
   "outputs": [
    {
     "name": "stdout",
     "output_type": "stream",
     "text": [
      "Shape of preprocessed data: (383, 18)\n",
      "   pchembl_value  potential_duplicate  record_id    src_id        mw  \\\n",
      "0      -0.288968             2.849394  -2.332247 -1.366821 -0.012081   \n",
      "1       3.061540            -0.350952  -2.228576 -1.366821 -1.591939   \n",
      "2       0.701773            -0.350952  -2.228575 -1.366821 -0.258463   \n",
      "3       2.521136            -0.350952  -2.218960 -1.366821 -1.007803   \n",
      "4      -0.216914            -0.350952  -2.170486 -1.366821 -0.920862   \n",
      "\n",
      "       logP  numHdonors  numHacceptors  activity_comment_inactive  \\\n",
      "0  1.104800    0.976969      -1.329198                        1.0   \n",
      "1 -1.260625    0.976969      -0.317105                        1.0   \n",
      "2  1.690420   -0.080034      -2.341291                        1.0   \n",
      "3  0.603921   -0.080034      -1.329198                        1.0   \n",
      "4  0.632986    2.033972      -1.835244                        1.0   \n",
      "\n",
      "   activity_comment_uncertain  assay_type_B  bao_endpoint_BAO_0000190  \\\n",
      "0                         0.0           1.0                       0.0   \n",
      "1                         0.0           1.0                       0.0   \n",
      "2                         0.0           1.0                       0.0   \n",
      "3                         0.0           1.0                       0.0   \n",
      "4                         0.0           1.0                       0.0   \n",
      "\n",
      "   bao_endpoint_BAO_0000192  bao_label_cell-based format  \\\n",
      "0                       0.0                          0.0   \n",
      "1                       0.0                          0.0   \n",
      "2                       0.0                          0.0   \n",
      "3                       0.0                          0.0   \n",
      "4                       0.0                          0.0   \n",
      "\n",
      "   bao_label_single protein format  bao_label_subcellular format  relation_>  \\\n",
      "0                              1.0                           0.0         0.0   \n",
      "1                              1.0                           0.0         0.0   \n",
      "2                              1.0                           0.0         0.0   \n",
      "3                              1.0                           0.0         0.0   \n",
      "4                              1.0                           0.0         0.0   \n",
      "\n",
      "   standard_relation_>  \n",
      "0                  0.0  \n",
      "1                  0.0  \n",
      "2                  0.0  \n",
      "3                  0.0  \n",
      "4                  0.0  \n"
     ]
    }
   ],
   "source": [
    "# Check the shape and first few rows of the preprocessed dataset\n",
    "print(f\"Shape of preprocessed data: {X_preprocessed.shape}\")\n",
    "print(X_preprocessed.head())"
   ]
  },
  {
   "cell_type": "code",
   "execution_count": 75,
   "metadata": {},
   "outputs": [
    {
     "name": "stdout",
     "output_type": "stream",
     "text": [
      "Missing values in preprocessed data: 0\n"
     ]
    }
   ],
   "source": [
    "# Check for missing values in the preprocessed data\n",
    "print(f\"Missing values in preprocessed data: {X_preprocessed.isnull().sum().sum()}\")"
   ]
  },
  {
   "cell_type": "markdown",
   "metadata": {},
   "source": [
    "Data preprocessing is successfully done."
   ]
  },
  {
   "cell_type": "markdown",
   "metadata": {},
   "source": [
    "### Exporting Dataset to Csv"
   ]
  },
  {
   "cell_type": "markdown",
   "metadata": {},
   "source": [
    "Finally, I will be exporting feature and target then download it as .csv file format."
   ]
  },
  {
   "cell_type": "code",
   "execution_count": 76,
   "metadata": {},
   "outputs": [
    {
     "name": "stdout",
     "output_type": "stream",
     "text": [
      "Export Succeed\n"
     ]
    }
   ],
   "source": [
    "# Export the feature to a CSV file\n",
    "X_preprocessed.to_csv('feature.csv', index=False)\n",
    "\n",
    "# Export the target to a CSV file\n",
    "y.to_csv('target.csv', index=False)\n",
    "\n",
    "print('Export Succeed')"
   ]
  },
  {
   "cell_type": "markdown",
   "metadata": {},
   "source": [
    "# Reference"
   ]
  },
  {
   "cell_type": "markdown",
   "metadata": {},
   "source": [
    "1. Lipinski, C. A., Lombardo, F., Dominy, B. W., & Feeney, P. J. (2001). Experimental and Computational Approaches to Estimate Solubility and Permeability in Drug Discovery and Development Settings. Advanced Drug Delivery Reviews, 46(1-3), 3-26. [https://doi.org/10.1016/S0169-409X(00)00129-0]"
   ]
  },
  {
   "cell_type": "markdown",
   "metadata": {},
   "source": []
  }
 ],
 "metadata": {
  "kernelspec": {
   "display_name": "Python (Conda Env)",
   "language": "python",
   "name": "conda-env"
  },
  "language_info": {
   "codemirror_mode": {
    "name": "ipython",
    "version": 3
   },
   "file_extension": ".py",
   "mimetype": "text/x-python",
   "name": "python",
   "nbconvert_exporter": "python",
   "pygments_lexer": "ipython3",
   "version": "3.11.8"
  }
 },
 "nbformat": 4,
 "nbformat_minor": 2
}
