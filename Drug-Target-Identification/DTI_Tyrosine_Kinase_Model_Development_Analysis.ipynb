{
 "cells": [
  {
   "cell_type": "markdown",
   "metadata": {},
   "source": [
    "# Identification of Potential Inhibitors for Tyrosine Kinase Enzyme Using Machine Learning Part 3 - Model Development & Analysis\n",
    "\n",
    "---\n",
    "**M. Alberto Moa**"
   ]
  },
  {
   "cell_type": "markdown",
   "metadata": {},
   "source": [
    "The goal of this project is to identify potential drug targets by analyzing chemical and biological data using machine learning. Various models were tested, with AdaBoost Regressor achieving the best performance. This notebook walks through the data preparation, model building, and evaluation process."
   ]
  },
  {
   "cell_type": "markdown",
   "metadata": {},
   "source": [
    "## 1. Import Data and Required Package"
   ]
  },
  {
   "cell_type": "markdown",
   "metadata": {},
   "source": [
    "Import Pandas, Numpy, Matplotlib, Seaborn, and SKLearn libraries."
   ]
  },
  {
   "cell_type": "code",
   "execution_count": 2,
   "metadata": {},
   "outputs": [
    {
     "name": "stdout",
     "output_type": "stream",
     "text": [
      "Imported Success\n"
     ]
    }
   ],
   "source": [
    "# basic import\n",
    "import pandas as pd\n",
    "import numpy as np\n",
    "import matplotlib.pyplot as plt\n",
    "import seaborn as sns\n",
    "\n",
    "# Modeling\n",
    "from sklearn.metrics import mean_squared_error, r2_score\n",
    "from sklearn.tree import DecisionTreeRegressor\n",
    "from sklearn.ensemble import RandomForestRegressor, AdaBoostRegressor\n",
    "from sklearn.linear_model import LinearRegression\n",
    "from sklearn.model_selection import GridSearchCV, cross_val_score\n",
    "\n",
    "print('Imported Success')"
   ]
  },
  {
   "cell_type": "markdown",
   "metadata": {},
   "source": [
    "Import the CSV data as DataFrame."
   ]
  },
  {
   "cell_type": "code",
   "execution_count": 3,
   "metadata": {},
   "outputs": [],
   "source": [
    "# Import feature and save it to X variable\n",
    "X = pd.read_csv('feature.csv')\n",
    "\n",
    "# Import target and save it to Y variable\n",
    "y = pd.read_csv('target.csv')"
   ]
  },
  {
   "cell_type": "code",
   "execution_count": 4,
   "metadata": {},
   "outputs": [
    {
     "data": {
      "text/html": [
       "<div>\n",
       "<style scoped>\n",
       "    .dataframe tbody tr th:only-of-type {\n",
       "        vertical-align: middle;\n",
       "    }\n",
       "\n",
       "    .dataframe tbody tr th {\n",
       "        vertical-align: top;\n",
       "    }\n",
       "\n",
       "    .dataframe thead th {\n",
       "        text-align: right;\n",
       "    }\n",
       "</style>\n",
       "<table border=\"1\" class=\"dataframe\">\n",
       "  <thead>\n",
       "    <tr style=\"text-align: right;\">\n",
       "      <th></th>\n",
       "      <th>potential_duplicate</th>\n",
       "      <th>record_id</th>\n",
       "      <th>src_id</th>\n",
       "      <th>mw</th>\n",
       "      <th>logP</th>\n",
       "      <th>numHdonors</th>\n",
       "      <th>numHacceptors</th>\n",
       "      <th>activity_comment_inactive</th>\n",
       "      <th>activity_comment_uncertain</th>\n",
       "      <th>assay_type_B</th>\n",
       "      <th>bao_endpoint_BAO_0000190</th>\n",
       "      <th>bao_endpoint_BAO_0000192</th>\n",
       "      <th>bao_label_cell-based format</th>\n",
       "      <th>bao_label_single protein format</th>\n",
       "      <th>bao_label_subcellular format</th>\n",
       "      <th>relation_&gt;</th>\n",
       "      <th>standard_relation_&gt;</th>\n",
       "    </tr>\n",
       "  </thead>\n",
       "  <tbody>\n",
       "    <tr>\n",
       "      <th>0</th>\n",
       "      <td>2.849394</td>\n",
       "      <td>-2.332247</td>\n",
       "      <td>-1.366821</td>\n",
       "      <td>-0.012081</td>\n",
       "      <td>1.104800</td>\n",
       "      <td>0.976969</td>\n",
       "      <td>-1.329198</td>\n",
       "      <td>1.0</td>\n",
       "      <td>0.0</td>\n",
       "      <td>1.0</td>\n",
       "      <td>0.0</td>\n",
       "      <td>0.0</td>\n",
       "      <td>0.0</td>\n",
       "      <td>1.0</td>\n",
       "      <td>0.0</td>\n",
       "      <td>0.0</td>\n",
       "      <td>0.0</td>\n",
       "    </tr>\n",
       "    <tr>\n",
       "      <th>1</th>\n",
       "      <td>-0.350952</td>\n",
       "      <td>-2.228576</td>\n",
       "      <td>-1.366821</td>\n",
       "      <td>-1.591939</td>\n",
       "      <td>-1.260625</td>\n",
       "      <td>0.976969</td>\n",
       "      <td>-0.317105</td>\n",
       "      <td>1.0</td>\n",
       "      <td>0.0</td>\n",
       "      <td>1.0</td>\n",
       "      <td>0.0</td>\n",
       "      <td>0.0</td>\n",
       "      <td>0.0</td>\n",
       "      <td>1.0</td>\n",
       "      <td>0.0</td>\n",
       "      <td>0.0</td>\n",
       "      <td>0.0</td>\n",
       "    </tr>\n",
       "    <tr>\n",
       "      <th>2</th>\n",
       "      <td>-0.350952</td>\n",
       "      <td>-2.228575</td>\n",
       "      <td>-1.366821</td>\n",
       "      <td>-0.258463</td>\n",
       "      <td>1.690420</td>\n",
       "      <td>-0.080034</td>\n",
       "      <td>-2.341291</td>\n",
       "      <td>1.0</td>\n",
       "      <td>0.0</td>\n",
       "      <td>1.0</td>\n",
       "      <td>0.0</td>\n",
       "      <td>0.0</td>\n",
       "      <td>0.0</td>\n",
       "      <td>1.0</td>\n",
       "      <td>0.0</td>\n",
       "      <td>0.0</td>\n",
       "      <td>0.0</td>\n",
       "    </tr>\n",
       "    <tr>\n",
       "      <th>3</th>\n",
       "      <td>-0.350952</td>\n",
       "      <td>-2.218960</td>\n",
       "      <td>-1.366821</td>\n",
       "      <td>-1.007803</td>\n",
       "      <td>0.603921</td>\n",
       "      <td>-0.080034</td>\n",
       "      <td>-1.329198</td>\n",
       "      <td>1.0</td>\n",
       "      <td>0.0</td>\n",
       "      <td>1.0</td>\n",
       "      <td>0.0</td>\n",
       "      <td>0.0</td>\n",
       "      <td>0.0</td>\n",
       "      <td>1.0</td>\n",
       "      <td>0.0</td>\n",
       "      <td>0.0</td>\n",
       "      <td>0.0</td>\n",
       "    </tr>\n",
       "    <tr>\n",
       "      <th>4</th>\n",
       "      <td>-0.350952</td>\n",
       "      <td>-2.170486</td>\n",
       "      <td>-1.366821</td>\n",
       "      <td>-0.920862</td>\n",
       "      <td>0.632986</td>\n",
       "      <td>2.033972</td>\n",
       "      <td>-1.835244</td>\n",
       "      <td>1.0</td>\n",
       "      <td>0.0</td>\n",
       "      <td>1.0</td>\n",
       "      <td>0.0</td>\n",
       "      <td>0.0</td>\n",
       "      <td>0.0</td>\n",
       "      <td>1.0</td>\n",
       "      <td>0.0</td>\n",
       "      <td>0.0</td>\n",
       "      <td>0.0</td>\n",
       "    </tr>\n",
       "  </tbody>\n",
       "</table>\n",
       "</div>"
      ],
      "text/plain": [
       "   potential_duplicate  record_id    src_id        mw      logP  numHdonors  \\\n",
       "0             2.849394  -2.332247 -1.366821 -0.012081  1.104800    0.976969   \n",
       "1            -0.350952  -2.228576 -1.366821 -1.591939 -1.260625    0.976969   \n",
       "2            -0.350952  -2.228575 -1.366821 -0.258463  1.690420   -0.080034   \n",
       "3            -0.350952  -2.218960 -1.366821 -1.007803  0.603921   -0.080034   \n",
       "4            -0.350952  -2.170486 -1.366821 -0.920862  0.632986    2.033972   \n",
       "\n",
       "   numHacceptors  activity_comment_inactive  activity_comment_uncertain  \\\n",
       "0      -1.329198                        1.0                         0.0   \n",
       "1      -0.317105                        1.0                         0.0   \n",
       "2      -2.341291                        1.0                         0.0   \n",
       "3      -1.329198                        1.0                         0.0   \n",
       "4      -1.835244                        1.0                         0.0   \n",
       "\n",
       "   assay_type_B  bao_endpoint_BAO_0000190  bao_endpoint_BAO_0000192  \\\n",
       "0           1.0                       0.0                       0.0   \n",
       "1           1.0                       0.0                       0.0   \n",
       "2           1.0                       0.0                       0.0   \n",
       "3           1.0                       0.0                       0.0   \n",
       "4           1.0                       0.0                       0.0   \n",
       "\n",
       "   bao_label_cell-based format  bao_label_single protein format  \\\n",
       "0                          0.0                              1.0   \n",
       "1                          0.0                              1.0   \n",
       "2                          0.0                              1.0   \n",
       "3                          0.0                              1.0   \n",
       "4                          0.0                              1.0   \n",
       "\n",
       "   bao_label_subcellular format  relation_>  standard_relation_>  \n",
       "0                           0.0         0.0                  0.0  \n",
       "1                           0.0         0.0                  0.0  \n",
       "2                           0.0         0.0                  0.0  \n",
       "3                           0.0         0.0                  0.0  \n",
       "4                           0.0         0.0                  0.0  "
      ]
     },
     "execution_count": 4,
     "metadata": {},
     "output_type": "execute_result"
    }
   ],
   "source": [
    "# Display feature dataset\n",
    "X.head()"
   ]
  },
  {
   "cell_type": "code",
   "execution_count": 5,
   "metadata": {},
   "outputs": [
    {
     "data": {
      "text/html": [
       "<div>\n",
       "<style scoped>\n",
       "    .dataframe tbody tr th:only-of-type {\n",
       "        vertical-align: middle;\n",
       "    }\n",
       "\n",
       "    .dataframe tbody tr th {\n",
       "        vertical-align: top;\n",
       "    }\n",
       "\n",
       "    .dataframe thead th {\n",
       "        text-align: right;\n",
       "    }\n",
       "</style>\n",
       "<table border=\"1\" class=\"dataframe\">\n",
       "  <thead>\n",
       "    <tr style=\"text-align: right;\">\n",
       "      <th></th>\n",
       "      <th>pIC50</th>\n",
       "    </tr>\n",
       "  </thead>\n",
       "  <tbody>\n",
       "    <tr>\n",
       "      <th>0</th>\n",
       "      <td>14.636491</td>\n",
       "    </tr>\n",
       "    <tr>\n",
       "      <th>1</th>\n",
       "      <td>18.931506</td>\n",
       "    </tr>\n",
       "    <tr>\n",
       "      <th>2</th>\n",
       "      <td>15.919245</td>\n",
       "    </tr>\n",
       "    <tr>\n",
       "      <th>3</th>\n",
       "      <td>18.238359</td>\n",
       "    </tr>\n",
       "    <tr>\n",
       "      <th>4</th>\n",
       "      <td>14.731801</td>\n",
       "    </tr>\n",
       "  </tbody>\n",
       "</table>\n",
       "</div>"
      ],
      "text/plain": [
       "       pIC50\n",
       "0  14.636491\n",
       "1  18.931506\n",
       "2  15.919245\n",
       "3  18.238359\n",
       "4  14.731801"
      ]
     },
     "execution_count": 5,
     "metadata": {},
     "output_type": "execute_result"
    }
   ],
   "source": [
    "# Display target dataset\n",
    "y.head()"
   ]
  },
  {
   "cell_type": "markdown",
   "metadata": {},
   "source": [
    "Preparation of feature and target done, next I will conduct model training."
   ]
  },
  {
   "cell_type": "markdown",
   "metadata": {},
   "source": [
    "## 2. Model Training"
   ]
  },
  {
   "cell_type": "markdown",
   "metadata": {},
   "source": [
    "Preparing dataset into train and test set. Propotion of dataset is:\n",
    "\n",
    "- 80% for train set\n",
    "- 20% for test set"
   ]
  },
  {
   "cell_type": "code",
   "execution_count": 6,
   "metadata": {},
   "outputs": [],
   "source": [
    "# splitting dataset to train and test set\n",
    "from sklearn.model_selection import train_test_split\n",
    "X_train, X_test, y_train, y_test = train_test_split(X, y, test_size=0.2, random_state=42)"
   ]
  },
  {
   "cell_type": "code",
   "execution_count": 7,
   "metadata": {},
   "outputs": [
    {
     "data": {
      "text/plain": [
       "((306, 17), (77, 17), (306, 1), (77, 1))"
      ]
     },
     "execution_count": 7,
     "metadata": {},
     "output_type": "execute_result"
    }
   ],
   "source": [
    "# show shape of splitting dataset\n",
    "X_train.shape, X_test.shape, y_train.shape, y_test.shape"
   ]
  },
  {
   "cell_type": "code",
   "execution_count": 8,
   "metadata": {},
   "outputs": [],
   "source": [
    "# Convert target to 1D array\n",
    "y_train = y_train.values.ravel()"
   ]
  },
  {
   "cell_type": "markdown",
   "metadata": {},
   "source": [
    "To identify the optimal model for predicting drug targets, I evaluated multiple algorithms on the training dataset: Linear Regression, Decision Tree Regressor, Random Forest Regressor, and AdaBoost Regressor. Each model was assessed using R² and RMSE metrics, which respectively measure the proportion of variance explained by the model and the average prediction error. "
   ]
  },
  {
   "cell_type": "markdown",
   "metadata": {},
   "source": [
    "Create an Evaluation Function to give all metrics after model training"
   ]
  },
  {
   "cell_type": "code",
   "execution_count": 9,
   "metadata": {},
   "outputs": [],
   "source": [
    "# create a function of model evaluation\n",
    "def evaluate_model(true, predicted):\n",
    "    '''\n",
    "    true = factual value of target\n",
    "    predicted = predicted value of target\n",
    "    '''\n",
    "    \n",
    "    mse = mean_squared_error(true, predicted)\n",
    "    rmse = np.sqrt(mse)\n",
    "    r2_square = r2_score(true, predicted)\n",
    "    \n",
    "    return rmse, r2_square"
   ]
  },
  {
   "cell_type": "code",
   "execution_count": 15,
   "metadata": {},
   "outputs": [
    {
     "name": "stdout",
     "output_type": "stream",
     "text": [
      "Tuning and Training: Linear Regression\n",
      "Linear Regression Performance with 5-fold Cross-Validation:\n",
      "- Mean R2 Score: 0.75\n",
      "- Mean RMSE: 1.16\n",
      "==============================\n",
      "\n",
      "\n",
      "Tuning and Training: Decision Tree\n",
      "Best parameters for Decision Tree: {'max_depth': 3, 'min_samples_split': 10}\n",
      "Decision Tree Performance with 5-fold Cross-Validation:\n",
      "- Mean R2 Score: 0.75\n",
      "- Mean RMSE: 1.16\n",
      "==============================\n",
      "\n",
      "\n",
      "Tuning and Training: Random Forest\n",
      "Best parameters for Random Forest: {'max_depth': 10, 'min_samples_split': 2, 'n_estimators': 50}\n",
      "Random Forest Performance with 5-fold Cross-Validation:\n",
      "- Mean R2 Score: 0.79\n",
      "- Mean RMSE: 1.05\n",
      "==============================\n",
      "\n",
      "\n",
      "Tuning and Training: AdaBoost Regressor\n",
      "Best parameters for AdaBoost Regressor: {'learning_rate': 0.1, 'n_estimators': 150}\n",
      "AdaBoost Regressor Performance with 5-fold Cross-Validation:\n",
      "- Mean R2 Score: 0.80\n",
      "- Mean RMSE: 1.02\n",
      "==============================\n",
      "\n",
      "\n"
     ]
    }
   ],
   "source": [
    "# define function to train dataset\n",
    "def train(models, param_grids, X_train, y_train, cv=5):\n",
    "    model_list = []\n",
    "    r2_mean_list = []\n",
    "    rmse_mean_list=[]\n",
    "    best_params_list = []\n",
    "    \n",
    "    # Loop through each model in the dictionary\n",
    "    for name, model in models.items():\n",
    "        print(f\"Tuning and Training: {name}\")\n",
    "        \n",
    "        # If hyperparameters are provided for the model, run grid search\n",
    "        if name in param_grids:\n",
    "            grid = GridSearchCV(estimator=model, param_grid=param_grids[name], cv=3, scoring='r2', n_jobs=-1)\n",
    "            grid.fit(X_train, y_train)\n",
    "            best_model = grid.best_estimator_\n",
    "            best_params = grid.best_params_\n",
    "            print(f\"Best parameters for {name}: {best_params}\")\n",
    "            best_params_list.append(best_params)\n",
    "        else:\n",
    "            best_model = model\n",
    "            best_model.fit(X_train, y_train)\n",
    "        \n",
    "        # Perform k-fold cross-validation\n",
    "        r2_scores = cross_val_score(best_model, X_train, y_train, cv=cv, scoring='r2')\n",
    "        rmse_scores = np.sqrt(-cross_val_score(best_model, X_train, y_train, cv=cv, scoring='neg_mean_squared_error'))\n",
    "\n",
    "        # Compute mean of scores\n",
    "        r2_mean = np.mean(r2_scores)\n",
    "        rmse_mean = np.mean(rmse_scores)\n",
    "\n",
    "        # Append results to lists\n",
    "        model_list.append(name)\n",
    "        r2_mean_list.append(r2_mean)\n",
    "        rmse_mean_list.append(rmse_mean)\n",
    "\n",
    "        # Print cross-validation performance\n",
    "        print(f'{name} Performance with {cv}-fold Cross-Validation:')\n",
    "        print('- Mean R2 Score: {:.2f}'.format(r2_mean))\n",
    "        print('- Mean RMSE: {:.2f}'.format(rmse_mean))\n",
    "        print('='*30)\n",
    "        print('\\n')\n",
    "\n",
    "    return model_list, r2_mean_list, rmse_mean_list, best_params_list\n",
    "\n",
    "# Define models\n",
    "models = {\n",
    "    \"Linear Regression\" : LinearRegression(),\n",
    "    \"Decision Tree\" : DecisionTreeRegressor(random_state=42),\n",
    "    \"Random Forest\" : RandomForestRegressor(random_state=42),\n",
    "    \"AdaBoost Regressor\": AdaBoostRegressor(random_state=42)\n",
    "}\n",
    "\n",
    "# Define hyperparameter grids for each model\n",
    "param_grids = {\n",
    "    \"Decision Tree\": {\n",
    "        'max_depth': [3, 5, 10, 12],\n",
    "        'min_samples_split': [2, 5, 10]\n",
    "    },\n",
    "    \"Random Forest\": {\n",
    "        'n_estimators': [50, 100, 150],\n",
    "        'max_depth': [3, 5, 10],\n",
    "        'min_samples_split': [2, 5]\n",
    "    },\n",
    "    \"AdaBoost Regressor\": {\n",
    "        'n_estimators': [50, 100, 150],\n",
    "        'learning_rate': [0.01, 0.05, 0.1, 1.0]\n",
    "    }\n",
    "}\n",
    "\n",
    "# Call the function with models, hyperparameter grids, and data\n",
    "model_list, r2_mean_list, rmse_mean_list, best_params_list = train(models, param_grids, X_train, y_train)"
   ]
  },
  {
   "cell_type": "markdown",
   "metadata": {},
   "source": [
    "### Results"
   ]
  },
  {
   "cell_type": "code",
   "execution_count": 16,
   "metadata": {},
   "outputs": [
    {
     "data": {
      "text/html": [
       "<div>\n",
       "<style scoped>\n",
       "    .dataframe tbody tr th:only-of-type {\n",
       "        vertical-align: middle;\n",
       "    }\n",
       "\n",
       "    .dataframe tbody tr th {\n",
       "        vertical-align: top;\n",
       "    }\n",
       "\n",
       "    .dataframe thead th {\n",
       "        text-align: right;\n",
       "    }\n",
       "</style>\n",
       "<table border=\"1\" class=\"dataframe\">\n",
       "  <thead>\n",
       "    <tr style=\"text-align: right;\">\n",
       "      <th></th>\n",
       "      <th>Model Name</th>\n",
       "      <th>R2_Score</th>\n",
       "      <th>RMSE_Score</th>\n",
       "    </tr>\n",
       "  </thead>\n",
       "  <tbody>\n",
       "    <tr>\n",
       "      <th>3</th>\n",
       "      <td>AdaBoost Regressor</td>\n",
       "      <td>0.804905</td>\n",
       "      <td>1.017456</td>\n",
       "    </tr>\n",
       "    <tr>\n",
       "      <th>2</th>\n",
       "      <td>Random Forest</td>\n",
       "      <td>0.785272</td>\n",
       "      <td>1.049643</td>\n",
       "    </tr>\n",
       "    <tr>\n",
       "      <th>0</th>\n",
       "      <td>Linear Regression</td>\n",
       "      <td>0.752138</td>\n",
       "      <td>1.163787</td>\n",
       "    </tr>\n",
       "    <tr>\n",
       "      <th>1</th>\n",
       "      <td>Decision Tree</td>\n",
       "      <td>0.750860</td>\n",
       "      <td>1.162380</td>\n",
       "    </tr>\n",
       "  </tbody>\n",
       "</table>\n",
       "</div>"
      ],
      "text/plain": [
       "           Model Name  R2_Score  RMSE_Score\n",
       "3  AdaBoost Regressor  0.804905    1.017456\n",
       "2       Random Forest  0.785272    1.049643\n",
       "0   Linear Regression  0.752138    1.163787\n",
       "1       Decision Tree  0.750860    1.162380"
      ]
     },
     "execution_count": 16,
     "metadata": {},
     "output_type": "execute_result"
    }
   ],
   "source": [
    "# Show RMSE and R2_score for training set\n",
    "pd.DataFrame(list(zip(model_list, r2_mean_list, rmse_mean_list)), columns=['Model Name', 'R2_Score', 'RMSE_Score']).sort_values(by=['R2_Score'], ascending=False)"
   ]
  },
  {
   "cell_type": "markdown",
   "metadata": {},
   "source": [
    "**Model Performance Analysis**:\n",
    "From metric score above, it shown:\n",
    "- **AdaBoost Regressor**: Achieved the highest R² (0.8049) and lowest RMSE (1.0175), indicating strong predictive accuracy with minimal error. Its ability to handle complex relationships makes it the top-performing model.\n",
    "- **Random Forest Regressor**: Closely followed AdaBoost with an R² of 0.7853 and RMSE of 1.0496, showing good accuracy but slightly higher error.\n",
    "- **Linear Regression**: With an R² of 0.7521 and RMSE of 1.1638, this model captured only linear patterns, which limits its accuracy in this context.\n",
    "- **Decision Tree Regressor**: Performed similarly to Linear Regression, with an R² of 0.7509 and RMSE of 1.1624, indicating that a single tree lacks the complexity needed for this task.\n",
    "\n",
    "Based on training set performance, **AdaBoost Regressor** is selected as the best model for predicting drug targets, balancing high accuracy with low error. Next, we’ll evaluate AdaBoost’s performance on the test set and explore feature importance to understand which features most impact pIC50 values."
   ]
  },
  {
   "cell_type": "markdown",
   "metadata": {},
   "source": [
    "## 3. AdaBoost Resgressor Evaluation"
   ]
  },
  {
   "cell_type": "markdown",
   "metadata": {},
   "source": [
    "Next, I will evaluate AdaBoost's performance on the test set."
   ]
  },
  {
   "cell_type": "code",
   "execution_count": 18,
   "metadata": {},
   "outputs": [
    {
     "name": "stdout",
     "output_type": "stream",
     "text": [
      "Accuracy of the model for test set is 0.73\n",
      "RMSE of the model for test set is 1.60\n"
     ]
    }
   ],
   "source": [
    "# prediction for test set\n",
    "model_ab = AdaBoostRegressor(learning_rate=0.1, n_estimators=150, random_state=42)\n",
    "model_ab.fit(X_train, y_train)\n",
    "y_test_pred = model_ab.predict(X_test)\n",
    "mse= mean_squared_error(y_test, y_test_pred)\n",
    "score = r2_score(y_test, y_test_pred)\n",
    "rmse = np.sqrt(mse)\n",
    "\n",
    "print('Accuracy of the model for test set is %.2f' %score)\n",
    "print('RMSE of the model for test set is %.2f' %rmse)"
   ]
  },
  {
   "cell_type": "markdown",
   "metadata": {},
   "source": [
    "The AdaBoost Regressor performance shows:\n",
    "\n",
    "- Accuracy: 0.73\n",
    "- RMSE: 1.60\n",
    "\n",
    "These results indicate that the AdaBoost Regressor maintains a reasonable level of accuracy on unseen data, with a manageable error. The performance on the test set confirms that this model is suitable for predicting drug targets."
   ]
  },
  {
   "cell_type": "markdown",
   "metadata": {},
   "source": [
    "### 3.1 Predicted vs Actual value Plot"
   ]
  },
  {
   "cell_type": "markdown",
   "metadata": {},
   "source": [
    "Visually assess how well the model’s predictions align with the actual values."
   ]
  },
  {
   "cell_type": "code",
   "execution_count": 20,
   "metadata": {},
   "outputs": [
    {
     "data": {
      "image/png": "[encoded data removed]",
      "text/plain": [
       "<Figure size 800x600 with 1 Axes>"
      ]
     },
     "metadata": {},
     "output_type": "display_data"
    }
   ],
   "source": [
    "# Scatter plot of actual vs. predicted values\n",
    "plt.figure(figsize=(8, 6))\n",
    "plt.scatter(y_test, y_test_pred, alpha=0.5, color='b')\n",
    "plt.plot([y_test.min(), y_test.max()], [y_test.min(), y_test.max()], 'k--', lw=2)\n",
    "plt.xlabel('Actual pIC50')\n",
    "plt.ylabel('Predicted pIC50')\n",
    "plt.title('Actual vs. Predicted pIC50 Values')\n",
    "plt.show()\n"
   ]
  },
  {
   "cell_type": "markdown",
   "metadata": {},
   "source": [
    "**Insights**:\n",
    "\n",
    "- The model performs reasonably well for most data points but shows some inaccuracies with extreme values.\n",
    "- There could be a need for additional feature engineering or data augmentation to improve predictions, especially for compounds with higher pIC50 values."
   ]
  },
  {
   "cell_type": "markdown",
   "metadata": {},
   "source": [
    "### 3.2 Feature Importance Analysis"
   ]
  },
  {
   "cell_type": "code",
   "execution_count": 24,
   "metadata": {},
   "outputs": [
    {
     "data": {
      "image/png": "[encoded data removed]",
      "text/plain": [
       "<Figure size 800x600 with 1 Axes>"
      ]
     },
     "metadata": {},
     "output_type": "display_data"
    }
   ],
   "source": [
    "# Plotting feature importances\n",
    "importances = model_ab.feature_importances_\n",
    "feature_names = X.columns\n",
    "sorted_indices = importances.argsort()\n",
    "\n",
    "plt.figure(figsize=(8, 6))\n",
    "plt.barh(range(len(importances)), importances[sorted_indices], align='center')\n",
    "plt.yticks(range(len(importances)), [feature_names[i] for i in sorted_indices])\n",
    "plt.xlabel('Feature Importance')\n",
    "plt.title('Feature Importance for AdaBoost Regressor')\n",
    "plt.show()"
   ]
  },
  {
   "cell_type": "markdown",
   "metadata": {},
   "source": [
    "**Insight**:\n",
    "- The dominance of relation_> and standard_relation_> suggests that these categorical or binary indicators are critical in predicting pIC50 values. I will dive deeper into the relation_> and standard_relation_> features to understand their biological or chemical significance.\n",
    "- Traditional chemical descriptors like numHAcceptors and logP also play a role, aligning with known SAR (structure-activity relationship) principles.\n",
    "- The low importance of some features may indicate redundancy or irrelevance, suggesting that feature selection techniques (like removing low-importance features) could simplify the model without sacrificing performance."
   ]
  },
  {
   "cell_type": "markdown",
   "metadata": {},
   "source": [
    "### 3.3 Residual vs Predicted Values"
   ]
  },
  {
   "cell_type": "code",
   "execution_count": 43,
   "metadata": {},
   "outputs": [
    {
     "data": {
      "image/png": "[encoded data removed]",
      "text/plain": [
       "<Figure size 800x600 with 1 Axes>"
      ]
     },
     "metadata": {},
     "output_type": "display_data"
    }
   ],
   "source": [
    "# Convert y_test dataframe to array 1D\n",
    "y_test_ar = y_test.values.ravel()\n",
    "\n",
    "# Calculate residuals\n",
    "residuals = y_test_ar - y_test_pred\n",
    "\n",
    "# Create the plot\n",
    "plt.figure(figsize=(8, 6))\n",
    "plt.scatter(y_test_pred, residuals, color='blue', alpha=0.7, edgecolors='k', s=50)\n",
    "plt.axhline(y=0, color='r', linestyle='--', linewidth=2)  # Horizontal line at y = 0\n",
    "\n",
    "# Add titles and labels\n",
    "plt.title('Residuals vs. Predicted Values')\n",
    "plt.xlabel('Predicted pIC50')\n",
    "plt.ylabel('Residuals (Actual - Predicted)')\n",
    "\n",
    "# Add grid for better readability\n",
    "plt.grid(True)\n",
    "\n",
    "# Show the plot\n",
    "plt.show()\n"
   ]
  },
  {
   "cell_type": "markdown",
   "metadata": {},
   "source": [
    "**Insight**:\n",
    "- The residuals are mostly centered around zero, indicating no major bias in predictions.\n",
    "- The model performs well for lower predicted pIC50 values (10-14), with minimal errors.\n",
    "- Higher predicted pIC50 values (>16) show larger residuals, suggesting reduced model accuracy."
   ]
  },
  {
   "cell_type": "markdown",
   "metadata": {},
   "source": [
    "# General Conclusion"
   ]
  },
  {
   "cell_type": "markdown",
   "metadata": {},
   "source": [
    "#### 1. Data Collection:\n",
    "- The dataset was sourced and curated to study tyrosine kinase inhibitors, resulting in 383 entries, which represents a relatively small dataset for robust machine learning analysis.\n",
    "- The features included molecular descriptors, bioactivity data (pIC50 values), and additional assay-related information, all crucial for predicting bioactivity.\n",
    "- The small dataset size highlights the need for expanding data collection in future studies to improve model generalizability and performance.\n",
    "\n",
    "#### 2. Exploratory Data Analysis (EDA):\n",
    "EDA provided valuable insights into the data distribution and relationships between features:\n",
    "- **pIC50 Distribution**: The distribution of pIC50 values highlighted a slight skew, with most values clustered in a specific range. This could indicate that the dataset predominantly focuses on compounds within a certain bioactivity threshold.\n",
    "- **Feature Relationships**: Scatter plots revealed significant correlations between molecular descriptors like logP, numHacceptors, and pIC50 values, reinforcing their potential as key predictors.\n",
    "- **Box Plots for Active vs. Inactive Compounds**: When splitting the data by activity thresholds, box plots showed distinguishable differences in key descriptors, indicating that these features could effectively separate active and inactive compounds.\n",
    "- **Outliers**: A few extreme values in pIC50 and molecular descriptors were observed, suggesting the presence of unique or rare compounds. These might be valuable but could also introduce noise into the model.\n",
    "\n",
    "#### 3. Data Preparation:\n",
    "- Molecular descriptors were calculated and standardized to ensure all features were on the same scale.\n",
    "- Features with high correlation or low relevance were removed to simplify the model and improve interpretability.\n",
    "\n",
    "#### 4. Model Building and Evaluation:\n",
    "- Four models were built and evaluated: Decision Tree, Random Forest, Linear Regression, and AdaBoost Regressor.\n",
    "- The AdaBoost Regressor emerged as the best-performing model, with the following performance metrics: **Training Set**: R² = 0.8049, RMSE = 1.0175\n",
    "**Test Set**: Accuracy = 0.73, RMSE = 1.60. The results indicate that the AdaBoost Regressor is capable of capturing the majority of the data's patterns but has some limitations in generalization due to the dataset size.\n",
    "\n",
    "#### 5. Model Performance Analysis:\n",
    "- The Predicted vs. Actual pIC50 plot showed the model’s ability to predict most values accurately, with higher residuals for extreme pIC50 values.\n",
    "- The Residuals vs. Predicted Values plot revealed:\n",
    "1. Residuals are centered around zero, suggesting no significant bias in the model.\n",
    "2. Increased residual variance at higher pIC50 predictions and outliers, indicating potential areas for model improvement.\n",
    "- Feature importance analysis highlighted key contributors to pIC50, such as relation_>, standard_relation_>, and molecular descriptors like logP and numHacceptors, providing insights into chemical properties influencing bioactivity.\n",
    "\n",
    "#### 6. Key Insights and Takeaways:\n",
    "- **Model Limitations:** While the AdaBoost Regressor performed well overall, the model struggles slightly with predictions at the higher pIC50 range, possibly due to the small dataset size and the presence of outliers.\n",
    "- **Feature Impact:** The analysis of feature importance offers valuable insights into the chemical and biological factors driving bioactivity, which can guide future research in drug design.\n",
    "- **Dataset Challenges:** The limited dataset size and variability underscore the need for further data collection, such as incorporating additional tyrosine kinase inhibitors or conducting more experimental assays to increase data diversity and reliability.\n",
    "\n",
    "#### 7. Future Recommendations:\n",
    "- Expand the dataset by sourcing more tyrosine kinase inhibitor data or conducting additional experiments to improve model robustness and generalizability.\n",
    "- Address potential data imbalance and explore methods for handling outliers to improve model accuracy, particularly for extreme values.\n",
    "- Experiment with more advanced machine learning models (e.g., Gradient Boosting, Neural Networks) or ensemble techniques to address the current model's limitations.\n",
    "- Investigate the biological relevance of key features identified during feature importance analysis to validate their impact and inform experimental design."
   ]
  },
  {
   "cell_type": "markdown",
   "metadata": {},
   "source": []
  }
 ],
 "metadata": {
  "kernelspec": {
   "display_name": "Python (Conda Env)",
   "language": "python",
   "name": "conda-env"
  },
  "language_info": {
   "codemirror_mode": {
    "name": "ipython",
    "version": 3
   },
   "file_extension": ".py",
   "mimetype": "text/x-python",
   "name": "python",
   "nbconvert_exporter": "python",
   "pygments_lexer": "ipython3",
   "version": "3.11.8"
  }
 },
 "nbformat": 4,
 "nbformat_minor": 2
}
