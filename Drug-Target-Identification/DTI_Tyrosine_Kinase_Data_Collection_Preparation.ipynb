{
 "cells": [
  {
   "cell_type": "markdown",
   "metadata": {},
   "source": [
    "# Identification of Potential Inhibitors for Tyrosine Kinase Enzyme Using Machine Learning Part 1 - Data Collection and Preprocessing\n",
    "\n",
    "---"
   ]
  },
  {
   "cell_type": "markdown",
   "metadata": {},
   "source": [
    "## 1. Introduction"
   ]
  },
  {
   "cell_type": "markdown",
   "metadata": {},
   "source": [
    "Protein kinases orchestrate the activation of signalling cascades in response to extracellular and intracellular stimuli to control cell growth, proliferation, and survival (1). These enzymes function by transferring phosphate groups from ATP to specific substrates, a process known as phosphorylation (2). Dysregulation of kinase activity is closely associated with many diseases, particularly cancer, where abnormal signaling pathways lead to uncontrolled cell proliferation (3). As a result, kinases have emerged as significant drug targets, especially in oncology.\n",
    "\n",
    "Tyrosine kinase inhibitors (TKIs) are one of the most successful examples of targeted cancer therapies. These small molecules work by selectively inhibiting the activity of overexpressed or mutated kinases in tumor cells (4). Prominent examples include imatinib, which targets BCR-ABL in chronic myeloid leukemia, and erlotinib, which targets EGFR in non-small cell lung cancer (5,6). The success of these inhibitors has stimulated further research into the development of kinase-targeted therapies for other diseases.\n",
    "\n",
    "Machine learning, when integrated with cheminformatics, offers a powerful tool for accelerating the drug discovery process (7). By leveraging large bioactivity datasets, machine learning models can predict potential drug candidates with increased accuracy and efficiency (8). This reduces the need for traditional high-throughput experimental screening, significantly cutting down on both time and costs in early-stage drug development.\n",
    "\n",
    "### 1.1 Aim of the Project\n",
    "\n",
    "The project's goal ois to create predictive pipeline for identifying novel *Tyrosine Kinase* inhibitors by utilizing machine learning techniques to analyze bioactivity and molecular sequesnce data.\n",
    "\n",
    "I will gather data from **ChEMBL and UniProt** and generate molecular descriptors using **PaDEL-Descriptors**. The processed data will be used to train models to predict the inhibitory potential of compounds. The best-performing model will be validated and applied to predict new inhibitors, with the objective of contributing to the drug discovery pipeline for Tyrosine Kinase-targeted therapies.\n",
    "\n",
    "### 1.2 Project Outline\n",
    "\n",
    "#### 1. Data Collection\n",
    "- Collect bioactivity data for Tyrosine Kinase inhibitors from **ChEMBL**.\n",
    "- Obtain relevant molecular seuence data from **UniProt**.\n",
    "\n",
    "#### 2. Data Pre-processing\n",
    "- Clean and preprocess the raw bioactivity data.\n",
    "- Generate molecular descriptors using PaDEL-Descriptor.\n",
    "- Normalize the dataset.\n",
    "\n",
    "#### 3. Model Development and Validation\n",
    "- Implement machine learning models.\n",
    "- Train models on the molecular descriptors to predict pIC50 values(inhibitory activity).\n",
    "- Use cross-validation and test sets to evaluate the models.\n",
    "- Select the best-performing model based on predictive accuracy and R² score.\n",
    "\n",
    "#### 4. Prediction and Analysis\n",
    "- Use the validated model to predict new potential inhibitors.\n",
    "- Analyze the model's performance and its implication."
   ]
  },
  {
   "cell_type": "markdown",
   "metadata": {},
   "source": [
    "***"
   ]
  },
  {
   "cell_type": "markdown",
   "metadata": {},
   "source": [
    "## 2. Initialization"
   ]
  },
  {
   "cell_type": "markdown",
   "metadata": {},
   "source": [
    "First, installing useful llibraries."
   ]
  },
  {
   "cell_type": "markdown",
   "metadata": {},
   "source": [
    "### 2.1 Installing libraries"
   ]
  },
  {
   "cell_type": "markdown",
   "metadata": {},
   "source": [
    "Install the ChEMBL web service package and PubChempy to retrieve bioactivity data from the ChEMBL and PubChem Database."
   ]
  },
  {
   "cell_type": "code",
   "execution_count": 18,
   "metadata": {},
   "outputs": [
    {
     "name": "stdout",
     "output_type": "stream",
     "text": [
      "Requirement already satisfied: chembl-webresource-client in /opt/anaconda3/lib/python3.11/site-packages (0.10.9)\n",
      "Requirement already satisfied: pandas in /opt/anaconda3/lib/python3.11/site-packages (2.1.4)\n",
      "Requirement already satisfied: urllib3 in /opt/anaconda3/lib/python3.11/site-packages (from chembl-webresource-client) (2.0.7)\n",
      "Requirement already satisfied: requests>=2.18.4 in /opt/anaconda3/lib/python3.11/site-packages (from chembl-webresource-client) (2.31.0)\n",
      "Requirement already satisfied: requests-cache~=1.2 in /opt/anaconda3/lib/python3.11/site-packages (from chembl-webresource-client) (1.2.1)\n",
      "Requirement already satisfied: easydict in /opt/anaconda3/lib/python3.11/site-packages (from chembl-webresource-client) (1.13)\n",
      "Requirement already satisfied: numpy<2,>=1.23.2 in /opt/anaconda3/lib/python3.11/site-packages (from pandas) (1.26.4)\n",
      "Requirement already satisfied: python-dateutil>=2.8.2 in /opt/anaconda3/lib/python3.11/site-packages (from pandas) (2.8.2)\n",
      "Requirement already satisfied: pytz>=2020.1 in /opt/anaconda3/lib/python3.11/site-packages (from pandas) (2023.3.post1)\n",
      "Requirement already satisfied: tzdata>=2022.1 in /opt/anaconda3/lib/python3.11/site-packages (from pandas) (2023.3)\n",
      "Requirement already satisfied: six>=1.5 in /opt/anaconda3/lib/python3.11/site-packages (from python-dateutil>=2.8.2->pandas) (1.16.0)\n",
      "Requirement already satisfied: charset-normalizer<4,>=2 in /opt/anaconda3/lib/python3.11/site-packages (from requests>=2.18.4->chembl-webresource-client) (2.0.4)\n",
      "Requirement already satisfied: idna<4,>=2.5 in /opt/anaconda3/lib/python3.11/site-packages (from requests>=2.18.4->chembl-webresource-client) (3.4)\n",
      "Requirement already satisfied: certifi>=2017.4.17 in /opt/anaconda3/lib/python3.11/site-packages (from requests>=2.18.4->chembl-webresource-client) (2024.7.4)\n",
      "Requirement already satisfied: attrs>=21.2 in /opt/anaconda3/lib/python3.11/site-packages (from requests-cache~=1.2->chembl-webresource-client) (23.1.0)\n",
      "Requirement already satisfied: cattrs>=22.2 in /opt/anaconda3/lib/python3.11/site-packages (from requests-cache~=1.2->chembl-webresource-client) (24.1.2)\n",
      "Requirement already satisfied: platformdirs>=2.5 in /opt/anaconda3/lib/python3.11/site-packages (from requests-cache~=1.2->chembl-webresource-client) (3.10.0)\n",
      "Requirement already satisfied: url-normalize>=1.4 in /opt/anaconda3/lib/python3.11/site-packages (from requests-cache~=1.2->chembl-webresource-client) (1.4.3)\n"
     ]
    }
   ],
   "source": [
    "# Installing libraries\n",
    "!pip install chembl-webresource-client pandas"
   ]
  },
  {
   "cell_type": "markdown",
   "metadata": {},
   "source": [
    "### 2.2 Importing Libraries"
   ]
  },
  {
   "cell_type": "code",
   "execution_count": 19,
   "metadata": {},
   "outputs": [
    {
     "name": "stdout",
     "output_type": "stream",
     "text": [
      "Import success!\n"
     ]
    }
   ],
   "source": [
    "# Import the libraries\n",
    "import pandas as pd\n",
    "import numpy as np\n",
    "import matplotlib.pyplot as plt\n",
    "import seaborn as sns\n",
    "\n",
    "from chembl_webresource_client.new_client import new_client\n",
    "import requests\n",
    "\n",
    "print('Import success!')"
   ]
  },
  {
   "cell_type": "markdown",
   "metadata": {},
   "source": [
    "## 3. Data Collection"
   ]
  },
  {
   "cell_type": "markdown",
   "metadata": {},
   "source": [
    "### 3.1 Downloading Data from ChEMBL"
   ]
  },
  {
   "cell_type": "code",
   "execution_count": 20,
   "metadata": {},
   "outputs": [],
   "source": [
    "# Search for tyrosine kinase target in ChEMBL\n",
    "target = new_client.target\n",
    "tyrosine_kinase = target.search('Tyrosine Kinase')\n",
    "tyrosine_kinase_target = tyrosine_kinase[0] # select the first result\n",
    "\n",
    "# Retrieve bioactivity data for the target\n",
    "activity = new_client.activity\n",
    "bioactivity_data = activity.filter(target_chembl_id=tyrosine_kinase_target['target_chembl_id'])\n",
    "\n",
    "# Convert to DataFrame\n",
    "bioactivity_df = pd.DataFrame(bioactivity_data)\n",
    "bioactivity_df.to_csv(\"chembl_bioactivity_data_tyrosine_kinase.csv\", index=False)\n"
   ]
  },
  {
   "cell_type": "code",
   "execution_count": 21,
   "metadata": {},
   "outputs": [
    {
     "data": {
      "text/html": [
       "<div>\n",
       "<style scoped>\n",
       "    .dataframe tbody tr th:only-of-type {\n",
       "        vertical-align: middle;\n",
       "    }\n",
       "\n",
       "    .dataframe tbody tr th {\n",
       "        vertical-align: top;\n",
       "    }\n",
       "\n",
       "    .dataframe thead th {\n",
       "        text-align: right;\n",
       "    }\n",
       "</style>\n",
       "<table border=\"1\" class=\"dataframe\">\n",
       "  <thead>\n",
       "    <tr style=\"text-align: right;\">\n",
       "      <th></th>\n",
       "      <th>action_type</th>\n",
       "      <th>activity_comment</th>\n",
       "      <th>activity_id</th>\n",
       "      <th>activity_properties</th>\n",
       "      <th>assay_chembl_id</th>\n",
       "      <th>assay_description</th>\n",
       "      <th>assay_type</th>\n",
       "      <th>assay_variant_accession</th>\n",
       "      <th>assay_variant_mutation</th>\n",
       "      <th>bao_endpoint</th>\n",
       "      <th>...</th>\n",
       "      <th>target_organism</th>\n",
       "      <th>target_pref_name</th>\n",
       "      <th>target_tax_id</th>\n",
       "      <th>text_value</th>\n",
       "      <th>toid</th>\n",
       "      <th>type</th>\n",
       "      <th>units</th>\n",
       "      <th>uo_units</th>\n",
       "      <th>upper_value</th>\n",
       "      <th>value</th>\n",
       "    </tr>\n",
       "  </thead>\n",
       "  <tbody>\n",
       "    <tr>\n",
       "      <th>0</th>\n",
       "      <td>None</td>\n",
       "      <td>Not Active</td>\n",
       "      <td>1650342</td>\n",
       "      <td>[]</td>\n",
       "      <td>CHEMBL860775</td>\n",
       "      <td>Average Binding Constant for FRK; NA=Not Activ...</td>\n",
       "      <td>B</td>\n",
       "      <td>None</td>\n",
       "      <td>None</td>\n",
       "      <td>BAO_0000034</td>\n",
       "      <td>...</td>\n",
       "      <td>Homo sapiens</td>\n",
       "      <td>Tyrosine-protein kinase FRK</td>\n",
       "      <td>9606</td>\n",
       "      <td>None</td>\n",
       "      <td>None</td>\n",
       "      <td>Kd</td>\n",
       "      <td>None</td>\n",
       "      <td>None</td>\n",
       "      <td>None</td>\n",
       "      <td>None</td>\n",
       "    </tr>\n",
       "    <tr>\n",
       "      <th>1</th>\n",
       "      <td>None</td>\n",
       "      <td>None</td>\n",
       "      <td>1650343</td>\n",
       "      <td>[]</td>\n",
       "      <td>CHEMBL860775</td>\n",
       "      <td>Average Binding Constant for FRK; NA=Not Activ...</td>\n",
       "      <td>B</td>\n",
       "      <td>None</td>\n",
       "      <td>None</td>\n",
       "      <td>BAO_0000034</td>\n",
       "      <td>...</td>\n",
       "      <td>Homo sapiens</td>\n",
       "      <td>Tyrosine-protein kinase FRK</td>\n",
       "      <td>9606</td>\n",
       "      <td>None</td>\n",
       "      <td>None</td>\n",
       "      <td>Kd</td>\n",
       "      <td>uM</td>\n",
       "      <td>UO_0000065</td>\n",
       "      <td>None</td>\n",
       "      <td>0.19</td>\n",
       "    </tr>\n",
       "    <tr>\n",
       "      <th>2</th>\n",
       "      <td>None</td>\n",
       "      <td>Not Active</td>\n",
       "      <td>1650344</td>\n",
       "      <td>[]</td>\n",
       "      <td>CHEMBL860775</td>\n",
       "      <td>Average Binding Constant for FRK; NA=Not Activ...</td>\n",
       "      <td>B</td>\n",
       "      <td>None</td>\n",
       "      <td>None</td>\n",
       "      <td>BAO_0000034</td>\n",
       "      <td>...</td>\n",
       "      <td>Homo sapiens</td>\n",
       "      <td>Tyrosine-protein kinase FRK</td>\n",
       "      <td>9606</td>\n",
       "      <td>None</td>\n",
       "      <td>None</td>\n",
       "      <td>Kd</td>\n",
       "      <td>None</td>\n",
       "      <td>None</td>\n",
       "      <td>None</td>\n",
       "      <td>None</td>\n",
       "    </tr>\n",
       "    <tr>\n",
       "      <th>3</th>\n",
       "      <td>None</td>\n",
       "      <td>Not Active</td>\n",
       "      <td>1650345</td>\n",
       "      <td>[]</td>\n",
       "      <td>CHEMBL860775</td>\n",
       "      <td>Average Binding Constant for FRK; NA=Not Activ...</td>\n",
       "      <td>B</td>\n",
       "      <td>None</td>\n",
       "      <td>None</td>\n",
       "      <td>BAO_0000034</td>\n",
       "      <td>...</td>\n",
       "      <td>Homo sapiens</td>\n",
       "      <td>Tyrosine-protein kinase FRK</td>\n",
       "      <td>9606</td>\n",
       "      <td>None</td>\n",
       "      <td>None</td>\n",
       "      <td>Kd</td>\n",
       "      <td>None</td>\n",
       "      <td>None</td>\n",
       "      <td>None</td>\n",
       "      <td>None</td>\n",
       "    </tr>\n",
       "    <tr>\n",
       "      <th>4</th>\n",
       "      <td>None</td>\n",
       "      <td>Not Active</td>\n",
       "      <td>1650346</td>\n",
       "      <td>[]</td>\n",
       "      <td>CHEMBL860775</td>\n",
       "      <td>Average Binding Constant for FRK; NA=Not Activ...</td>\n",
       "      <td>B</td>\n",
       "      <td>None</td>\n",
       "      <td>None</td>\n",
       "      <td>BAO_0000034</td>\n",
       "      <td>...</td>\n",
       "      <td>Homo sapiens</td>\n",
       "      <td>Tyrosine-protein kinase FRK</td>\n",
       "      <td>9606</td>\n",
       "      <td>None</td>\n",
       "      <td>None</td>\n",
       "      <td>Kd</td>\n",
       "      <td>None</td>\n",
       "      <td>None</td>\n",
       "      <td>None</td>\n",
       "      <td>None</td>\n",
       "    </tr>\n",
       "    <tr>\n",
       "      <th>...</th>\n",
       "      <td>...</td>\n",
       "      <td>...</td>\n",
       "      <td>...</td>\n",
       "      <td>...</td>\n",
       "      <td>...</td>\n",
       "      <td>...</td>\n",
       "      <td>...</td>\n",
       "      <td>...</td>\n",
       "      <td>...</td>\n",
       "      <td>...</td>\n",
       "      <td>...</td>\n",
       "      <td>...</td>\n",
       "      <td>...</td>\n",
       "      <td>...</td>\n",
       "      <td>...</td>\n",
       "      <td>...</td>\n",
       "      <td>...</td>\n",
       "      <td>...</td>\n",
       "      <td>...</td>\n",
       "      <td>...</td>\n",
       "      <td>...</td>\n",
       "    </tr>\n",
       "    <tr>\n",
       "      <th>2279</th>\n",
       "      <td>None</td>\n",
       "      <td>Not Active</td>\n",
       "      <td>24648640</td>\n",
       "      <td>[{'comments': None, 'relation': '=', 'result_f...</td>\n",
       "      <td>CHEMBL5059693</td>\n",
       "      <td>FRK DiscoveRx kinase panel</td>\n",
       "      <td>B</td>\n",
       "      <td>None</td>\n",
       "      <td>None</td>\n",
       "      <td>BAO_0000201</td>\n",
       "      <td>...</td>\n",
       "      <td>Homo sapiens</td>\n",
       "      <td>Tyrosine-protein kinase FRK</td>\n",
       "      <td>9606</td>\n",
       "      <td>None</td>\n",
       "      <td>None</td>\n",
       "      <td>% inhibition</td>\n",
       "      <td>%</td>\n",
       "      <td>UO_0000187</td>\n",
       "      <td>None</td>\n",
       "      <td>85.0</td>\n",
       "    </tr>\n",
       "    <tr>\n",
       "      <th>2280</th>\n",
       "      <td>None</td>\n",
       "      <td>None</td>\n",
       "      <td>24957969</td>\n",
       "      <td>[{'comments': None, 'relation': None, 'result_...</td>\n",
       "      <td>CHEMBL5212882</td>\n",
       "      <td>Selectivity interaction (Ambit kinome screenin...</td>\n",
       "      <td>B</td>\n",
       "      <td>None</td>\n",
       "      <td>None</td>\n",
       "      <td>BAO_0000179</td>\n",
       "      <td>...</td>\n",
       "      <td>Homo sapiens</td>\n",
       "      <td>Tyrosine-protein kinase FRK</td>\n",
       "      <td>9606</td>\n",
       "      <td>None</td>\n",
       "      <td>None</td>\n",
       "      <td>% of control</td>\n",
       "      <td>%</td>\n",
       "      <td>UO_0000187</td>\n",
       "      <td>None</td>\n",
       "      <td>0.55</td>\n",
       "    </tr>\n",
       "    <tr>\n",
       "      <th>2281</th>\n",
       "      <td>None</td>\n",
       "      <td>None</td>\n",
       "      <td>24958145</td>\n",
       "      <td>[{'comments': None, 'relation': None, 'result_...</td>\n",
       "      <td>CHEMBL5212940</td>\n",
       "      <td>Selectivity interaction (KinomeScan (DiscoverX...</td>\n",
       "      <td>B</td>\n",
       "      <td>None</td>\n",
       "      <td>None</td>\n",
       "      <td>BAO_0000179</td>\n",
       "      <td>...</td>\n",
       "      <td>Homo sapiens</td>\n",
       "      <td>Tyrosine-protein kinase FRK</td>\n",
       "      <td>9606</td>\n",
       "      <td>None</td>\n",
       "      <td>None</td>\n",
       "      <td>% of control</td>\n",
       "      <td>%</td>\n",
       "      <td>UO_0000187</td>\n",
       "      <td>None</td>\n",
       "      <td>10.0</td>\n",
       "    </tr>\n",
       "    <tr>\n",
       "      <th>2282</th>\n",
       "      <td>None</td>\n",
       "      <td>None</td>\n",
       "      <td>24958174</td>\n",
       "      <td>[{'comments': None, 'relation': None, 'result_...</td>\n",
       "      <td>CHEMBL5213173</td>\n",
       "      <td>Selectivity interaction (Z’-LYTE assay (Select...</td>\n",
       "      <td>B</td>\n",
       "      <td>None</td>\n",
       "      <td>None</td>\n",
       "      <td>BAO_0000192</td>\n",
       "      <td>...</td>\n",
       "      <td>Homo sapiens</td>\n",
       "      <td>Tyrosine-protein kinase FRK</td>\n",
       "      <td>9606</td>\n",
       "      <td>None</td>\n",
       "      <td>None</td>\n",
       "      <td>Ki</td>\n",
       "      <td>nM</td>\n",
       "      <td>UO_0000065</td>\n",
       "      <td>None</td>\n",
       "      <td>53.0</td>\n",
       "    </tr>\n",
       "    <tr>\n",
       "      <th>2283</th>\n",
       "      <td>None</td>\n",
       "      <td>None</td>\n",
       "      <td>24958603</td>\n",
       "      <td>[{'comments': None, 'relation': None, 'result_...</td>\n",
       "      <td>CHEMBL5213087</td>\n",
       "      <td>Selectivity interaction (33P-ATP and filter-bi...</td>\n",
       "      <td>B</td>\n",
       "      <td>None</td>\n",
       "      <td>None</td>\n",
       "      <td>BAO_0000190</td>\n",
       "      <td>...</td>\n",
       "      <td>Homo sapiens</td>\n",
       "      <td>Tyrosine-protein kinase FRK</td>\n",
       "      <td>9606</td>\n",
       "      <td>None</td>\n",
       "      <td>None</td>\n",
       "      <td>IC50</td>\n",
       "      <td>nM</td>\n",
       "      <td>UO_0000065</td>\n",
       "      <td>None</td>\n",
       "      <td>379.0</td>\n",
       "    </tr>\n",
       "  </tbody>\n",
       "</table>\n",
       "<p>2284 rows × 46 columns</p>\n",
       "</div>"
      ],
      "text/plain": [
       "     action_type activity_comment  activity_id  \\\n",
       "0           None       Not Active      1650342   \n",
       "1           None             None      1650343   \n",
       "2           None       Not Active      1650344   \n",
       "3           None       Not Active      1650345   \n",
       "4           None       Not Active      1650346   \n",
       "...          ...              ...          ...   \n",
       "2279        None       Not Active     24648640   \n",
       "2280        None             None     24957969   \n",
       "2281        None             None     24958145   \n",
       "2282        None             None     24958174   \n",
       "2283        None             None     24958603   \n",
       "\n",
       "                                    activity_properties assay_chembl_id  \\\n",
       "0                                                    []    CHEMBL860775   \n",
       "1                                                    []    CHEMBL860775   \n",
       "2                                                    []    CHEMBL860775   \n",
       "3                                                    []    CHEMBL860775   \n",
       "4                                                    []    CHEMBL860775   \n",
       "...                                                 ...             ...   \n",
       "2279  [{'comments': None, 'relation': '=', 'result_f...   CHEMBL5059693   \n",
       "2280  [{'comments': None, 'relation': None, 'result_...   CHEMBL5212882   \n",
       "2281  [{'comments': None, 'relation': None, 'result_...   CHEMBL5212940   \n",
       "2282  [{'comments': None, 'relation': None, 'result_...   CHEMBL5213173   \n",
       "2283  [{'comments': None, 'relation': None, 'result_...   CHEMBL5213087   \n",
       "\n",
       "                                      assay_description assay_type  \\\n",
       "0     Average Binding Constant for FRK; NA=Not Activ...          B   \n",
       "1     Average Binding Constant for FRK; NA=Not Activ...          B   \n",
       "2     Average Binding Constant for FRK; NA=Not Activ...          B   \n",
       "3     Average Binding Constant for FRK; NA=Not Activ...          B   \n",
       "4     Average Binding Constant for FRK; NA=Not Activ...          B   \n",
       "...                                                 ...        ...   \n",
       "2279                         FRK DiscoveRx kinase panel          B   \n",
       "2280  Selectivity interaction (Ambit kinome screenin...          B   \n",
       "2281  Selectivity interaction (KinomeScan (DiscoverX...          B   \n",
       "2282  Selectivity interaction (Z’-LYTE assay (Select...          B   \n",
       "2283  Selectivity interaction (33P-ATP and filter-bi...          B   \n",
       "\n",
       "     assay_variant_accession assay_variant_mutation bao_endpoint  ...  \\\n",
       "0                       None                   None  BAO_0000034  ...   \n",
       "1                       None                   None  BAO_0000034  ...   \n",
       "2                       None                   None  BAO_0000034  ...   \n",
       "3                       None                   None  BAO_0000034  ...   \n",
       "4                       None                   None  BAO_0000034  ...   \n",
       "...                      ...                    ...          ...  ...   \n",
       "2279                    None                   None  BAO_0000201  ...   \n",
       "2280                    None                   None  BAO_0000179  ...   \n",
       "2281                    None                   None  BAO_0000179  ...   \n",
       "2282                    None                   None  BAO_0000192  ...   \n",
       "2283                    None                   None  BAO_0000190  ...   \n",
       "\n",
       "     target_organism             target_pref_name target_tax_id text_value  \\\n",
       "0       Homo sapiens  Tyrosine-protein kinase FRK          9606       None   \n",
       "1       Homo sapiens  Tyrosine-protein kinase FRK          9606       None   \n",
       "2       Homo sapiens  Tyrosine-protein kinase FRK          9606       None   \n",
       "3       Homo sapiens  Tyrosine-protein kinase FRK          9606       None   \n",
       "4       Homo sapiens  Tyrosine-protein kinase FRK          9606       None   \n",
       "...              ...                          ...           ...        ...   \n",
       "2279    Homo sapiens  Tyrosine-protein kinase FRK          9606       None   \n",
       "2280    Homo sapiens  Tyrosine-protein kinase FRK          9606       None   \n",
       "2281    Homo sapiens  Tyrosine-protein kinase FRK          9606       None   \n",
       "2282    Homo sapiens  Tyrosine-protein kinase FRK          9606       None   \n",
       "2283    Homo sapiens  Tyrosine-protein kinase FRK          9606       None   \n",
       "\n",
       "      toid          type units    uo_units upper_value  value  \n",
       "0     None            Kd  None        None        None   None  \n",
       "1     None            Kd    uM  UO_0000065        None   0.19  \n",
       "2     None            Kd  None        None        None   None  \n",
       "3     None            Kd  None        None        None   None  \n",
       "4     None            Kd  None        None        None   None  \n",
       "...    ...           ...   ...         ...         ...    ...  \n",
       "2279  None  % inhibition     %  UO_0000187        None   85.0  \n",
       "2280  None  % of control     %  UO_0000187        None   0.55  \n",
       "2281  None  % of control     %  UO_0000187        None   10.0  \n",
       "2282  None            Ki    nM  UO_0000065        None   53.0  \n",
       "2283  None          IC50    nM  UO_0000065        None  379.0  \n",
       "\n",
       "[2284 rows x 46 columns]"
      ]
     },
     "execution_count": 21,
     "metadata": {},
     "output_type": "execute_result"
    }
   ],
   "source": [
    "# show sample data of bioactivity_df\n",
    "bioactivity_df"
   ]
  },
  {
   "cell_type": "markdown",
   "metadata": {},
   "source": [
    "### 3.2 Downloading Data from UniProt"
   ]
  },
  {
   "cell_type": "code",
   "execution_count": 22,
   "metadata": {},
   "outputs": [
    {
     "name": "stdout",
     "output_type": "stream",
     "text": [
      "Data downloaded and saved successfully.\n",
      "    Entry   Entry Name                                      Protein names  \\\n",
      "0  P07948    LYN_HUMAN  Tyrosine-protein kinase Lyn (EC 2.7.10.2) (Lck...   \n",
      "1  Q92630  DYRK2_HUMAN  Dual specificity tyrosine-phosphorylation-regu...   \n",
      "2  Q14289   FAK2_HUMAN  Protein-tyrosine kinase 2-beta (EC 2.7.10.2) (...   \n",
      "3  Q07912   ACK1_HUMAN  Activated CDC42 kinase 1 (ACK-1) (EC 2.7.10.2)...   \n",
      "4  P17948  VGFR1_HUMAN  Vascular endothelial growth factor receptor 1 ...   \n",
      "\n",
      "               Organism  Length  \\\n",
      "0  Homo sapiens (Human)     512   \n",
      "1  Homo sapiens (Human)     601   \n",
      "2  Homo sapiens (Human)    1009   \n",
      "3  Homo sapiens (Human)    1038   \n",
      "4  Homo sapiens (Human)    1338   \n",
      "\n",
      "                                            Sequence  \n",
      "0  MGCIKSKGKDSLSDDGVDLKTQPVRNTERTIYVRDPTSNKQQRPVP...  \n",
      "1  MLTRKPSAAAPAAYPTGRGGDSAVRQLQASPGLGAGATRSGVGTGP...  \n",
      "2  MSGVSEPLSRVKLGTLRRPEGPAEPMVVVPVDVEKEDVRILKVCFY...  \n",
      "3  MQPEEGTGWLLELLSEVQLQQYFLRLRDDLNVTRLSHFEYVKNEDL...  \n",
      "4  MVSYWDTGVLLCALLSCLLLTGSSSGSKLKDPELSLKGTQHIMQAG...  \n"
     ]
    }
   ],
   "source": [
    "# Correct UniProt API URL for tyrosine kinase data in TSV format\n",
    "url = \"https://rest.uniprot.org/uniprotkb/search?query=tyrosine+kinase&format=tsv&fields=accession,id,protein_name,organism_name,length,sequence\"\n",
    "\n",
    "# Perform the GET request\n",
    "response = requests.get(url)\n",
    "\n",
    "# Check if the request was successful\n",
    "if response.status_code == 200:\n",
    "    # Saving the data to a CSV file\n",
    "    with open('uniprot_tyrosine_kinase_data.csv', 'w') as f:\n",
    "        f.write(response.text)\n",
    "    \n",
    "    print(\"Data downloaded and saved successfully.\")\n",
    "    \n",
    "    # Loading the data into a DataFrame for viewing\n",
    "    uniprot_data = pd.read_csv('uniprot_tyrosine_kinase_data.csv', delimiter='\\t')\n",
    "    print(uniprot_data.head())  # Display the first few rows\n",
    "else:\n",
    "    print(f\"Failed to retrieve data. Status code: {response.status_code}\")"
   ]
  },
  {
   "cell_type": "markdown",
   "metadata": {},
   "source": [
    "## 4. Data Overview and Pre-processing"
   ]
  },
  {
   "cell_type": "markdown",
   "metadata": {},
   "source": [
    "### 4.1 ChEMBL Dataset"
   ]
  },
  {
   "cell_type": "markdown",
   "metadata": {},
   "source": [
    "#### 4.1.1 Data Checking"
   ]
  },
  {
   "cell_type": "code",
   "execution_count": 23,
   "metadata": {},
   "outputs": [
    {
     "data": {
      "text/html": [
       "<div>\n",
       "<style scoped>\n",
       "    .dataframe tbody tr th:only-of-type {\n",
       "        vertical-align: middle;\n",
       "    }\n",
       "\n",
       "    .dataframe tbody tr th {\n",
       "        vertical-align: top;\n",
       "    }\n",
       "\n",
       "    .dataframe thead th {\n",
       "        text-align: right;\n",
       "    }\n",
       "</style>\n",
       "<table border=\"1\" class=\"dataframe\">\n",
       "  <thead>\n",
       "    <tr style=\"text-align: right;\">\n",
       "      <th></th>\n",
       "      <th>action_type</th>\n",
       "      <th>activity_comment</th>\n",
       "      <th>activity_id</th>\n",
       "      <th>activity_properties</th>\n",
       "      <th>assay_chembl_id</th>\n",
       "      <th>assay_description</th>\n",
       "      <th>assay_type</th>\n",
       "      <th>assay_variant_accession</th>\n",
       "      <th>assay_variant_mutation</th>\n",
       "      <th>bao_endpoint</th>\n",
       "      <th>...</th>\n",
       "      <th>target_organism</th>\n",
       "      <th>target_pref_name</th>\n",
       "      <th>target_tax_id</th>\n",
       "      <th>text_value</th>\n",
       "      <th>toid</th>\n",
       "      <th>type</th>\n",
       "      <th>units</th>\n",
       "      <th>uo_units</th>\n",
       "      <th>upper_value</th>\n",
       "      <th>value</th>\n",
       "    </tr>\n",
       "  </thead>\n",
       "  <tbody>\n",
       "    <tr>\n",
       "      <th>0</th>\n",
       "      <td>None</td>\n",
       "      <td>Not Active</td>\n",
       "      <td>1650342</td>\n",
       "      <td>[]</td>\n",
       "      <td>CHEMBL860775</td>\n",
       "      <td>Average Binding Constant for FRK; NA=Not Activ...</td>\n",
       "      <td>B</td>\n",
       "      <td>None</td>\n",
       "      <td>None</td>\n",
       "      <td>BAO_0000034</td>\n",
       "      <td>...</td>\n",
       "      <td>Homo sapiens</td>\n",
       "      <td>Tyrosine-protein kinase FRK</td>\n",
       "      <td>9606</td>\n",
       "      <td>None</td>\n",
       "      <td>None</td>\n",
       "      <td>Kd</td>\n",
       "      <td>None</td>\n",
       "      <td>None</td>\n",
       "      <td>None</td>\n",
       "      <td>None</td>\n",
       "    </tr>\n",
       "    <tr>\n",
       "      <th>1</th>\n",
       "      <td>None</td>\n",
       "      <td>None</td>\n",
       "      <td>1650343</td>\n",
       "      <td>[]</td>\n",
       "      <td>CHEMBL860775</td>\n",
       "      <td>Average Binding Constant for FRK; NA=Not Activ...</td>\n",
       "      <td>B</td>\n",
       "      <td>None</td>\n",
       "      <td>None</td>\n",
       "      <td>BAO_0000034</td>\n",
       "      <td>...</td>\n",
       "      <td>Homo sapiens</td>\n",
       "      <td>Tyrosine-protein kinase FRK</td>\n",
       "      <td>9606</td>\n",
       "      <td>None</td>\n",
       "      <td>None</td>\n",
       "      <td>Kd</td>\n",
       "      <td>uM</td>\n",
       "      <td>UO_0000065</td>\n",
       "      <td>None</td>\n",
       "      <td>0.19</td>\n",
       "    </tr>\n",
       "    <tr>\n",
       "      <th>2</th>\n",
       "      <td>None</td>\n",
       "      <td>Not Active</td>\n",
       "      <td>1650344</td>\n",
       "      <td>[]</td>\n",
       "      <td>CHEMBL860775</td>\n",
       "      <td>Average Binding Constant for FRK; NA=Not Activ...</td>\n",
       "      <td>B</td>\n",
       "      <td>None</td>\n",
       "      <td>None</td>\n",
       "      <td>BAO_0000034</td>\n",
       "      <td>...</td>\n",
       "      <td>Homo sapiens</td>\n",
       "      <td>Tyrosine-protein kinase FRK</td>\n",
       "      <td>9606</td>\n",
       "      <td>None</td>\n",
       "      <td>None</td>\n",
       "      <td>Kd</td>\n",
       "      <td>None</td>\n",
       "      <td>None</td>\n",
       "      <td>None</td>\n",
       "      <td>None</td>\n",
       "    </tr>\n",
       "    <tr>\n",
       "      <th>3</th>\n",
       "      <td>None</td>\n",
       "      <td>Not Active</td>\n",
       "      <td>1650345</td>\n",
       "      <td>[]</td>\n",
       "      <td>CHEMBL860775</td>\n",
       "      <td>Average Binding Constant for FRK; NA=Not Activ...</td>\n",
       "      <td>B</td>\n",
       "      <td>None</td>\n",
       "      <td>None</td>\n",
       "      <td>BAO_0000034</td>\n",
       "      <td>...</td>\n",
       "      <td>Homo sapiens</td>\n",
       "      <td>Tyrosine-protein kinase FRK</td>\n",
       "      <td>9606</td>\n",
       "      <td>None</td>\n",
       "      <td>None</td>\n",
       "      <td>Kd</td>\n",
       "      <td>None</td>\n",
       "      <td>None</td>\n",
       "      <td>None</td>\n",
       "      <td>None</td>\n",
       "    </tr>\n",
       "    <tr>\n",
       "      <th>4</th>\n",
       "      <td>None</td>\n",
       "      <td>Not Active</td>\n",
       "      <td>1650346</td>\n",
       "      <td>[]</td>\n",
       "      <td>CHEMBL860775</td>\n",
       "      <td>Average Binding Constant for FRK; NA=Not Activ...</td>\n",
       "      <td>B</td>\n",
       "      <td>None</td>\n",
       "      <td>None</td>\n",
       "      <td>BAO_0000034</td>\n",
       "      <td>...</td>\n",
       "      <td>Homo sapiens</td>\n",
       "      <td>Tyrosine-protein kinase FRK</td>\n",
       "      <td>9606</td>\n",
       "      <td>None</td>\n",
       "      <td>None</td>\n",
       "      <td>Kd</td>\n",
       "      <td>None</td>\n",
       "      <td>None</td>\n",
       "      <td>None</td>\n",
       "      <td>None</td>\n",
       "    </tr>\n",
       "  </tbody>\n",
       "</table>\n",
       "<p>5 rows × 46 columns</p>\n",
       "</div>"
      ],
      "text/plain": [
       "  action_type activity_comment  activity_id activity_properties  \\\n",
       "0        None       Not Active      1650342                  []   \n",
       "1        None             None      1650343                  []   \n",
       "2        None       Not Active      1650344                  []   \n",
       "3        None       Not Active      1650345                  []   \n",
       "4        None       Not Active      1650346                  []   \n",
       "\n",
       "  assay_chembl_id                                  assay_description  \\\n",
       "0    CHEMBL860775  Average Binding Constant for FRK; NA=Not Activ...   \n",
       "1    CHEMBL860775  Average Binding Constant for FRK; NA=Not Activ...   \n",
       "2    CHEMBL860775  Average Binding Constant for FRK; NA=Not Activ...   \n",
       "3    CHEMBL860775  Average Binding Constant for FRK; NA=Not Activ...   \n",
       "4    CHEMBL860775  Average Binding Constant for FRK; NA=Not Activ...   \n",
       "\n",
       "  assay_type assay_variant_accession assay_variant_mutation bao_endpoint  ...  \\\n",
       "0          B                    None                   None  BAO_0000034  ...   \n",
       "1          B                    None                   None  BAO_0000034  ...   \n",
       "2          B                    None                   None  BAO_0000034  ...   \n",
       "3          B                    None                   None  BAO_0000034  ...   \n",
       "4          B                    None                   None  BAO_0000034  ...   \n",
       "\n",
       "  target_organism             target_pref_name target_tax_id text_value  toid  \\\n",
       "0    Homo sapiens  Tyrosine-protein kinase FRK          9606       None  None   \n",
       "1    Homo sapiens  Tyrosine-protein kinase FRK          9606       None  None   \n",
       "2    Homo sapiens  Tyrosine-protein kinase FRK          9606       None  None   \n",
       "3    Homo sapiens  Tyrosine-protein kinase FRK          9606       None  None   \n",
       "4    Homo sapiens  Tyrosine-protein kinase FRK          9606       None  None   \n",
       "\n",
       "  type units    uo_units upper_value value  \n",
       "0   Kd  None        None        None  None  \n",
       "1   Kd    uM  UO_0000065        None  0.19  \n",
       "2   Kd  None        None        None  None  \n",
       "3   Kd  None        None        None  None  \n",
       "4   Kd  None        None        None  None  \n",
       "\n",
       "[5 rows x 46 columns]"
      ]
     },
     "execution_count": 23,
     "metadata": {},
     "output_type": "execute_result"
    }
   ],
   "source": [
    "# show sample data\n",
    "bioactivity_df.head()"
   ]
  },
  {
   "cell_type": "code",
   "execution_count": 24,
   "metadata": {},
   "outputs": [
    {
     "name": "stdout",
     "output_type": "stream",
     "text": [
      "<class 'pandas.core.frame.DataFrame'>\n",
      "RangeIndex: 2284 entries, 0 to 2283\n",
      "Data columns (total 46 columns):\n",
      " #   Column                     Non-Null Count  Dtype  \n",
      "---  ------                     --------------  -----  \n",
      " 0   action_type                24 non-null     object \n",
      " 1   activity_comment           885 non-null    object \n",
      " 2   activity_id                2284 non-null   int64  \n",
      " 3   activity_properties        2284 non-null   object \n",
      " 4   assay_chembl_id            2284 non-null   object \n",
      " 5   assay_description          2284 non-null   object \n",
      " 6   assay_type                 2284 non-null   object \n",
      " 7   assay_variant_accession    0 non-null      object \n",
      " 8   assay_variant_mutation     0 non-null      object \n",
      " 9   bao_endpoint               2284 non-null   object \n",
      " 10  bao_format                 2284 non-null   object \n",
      " 11  bao_label                  2284 non-null   object \n",
      " 12  canonical_smiles           2283 non-null   object \n",
      " 13  data_validity_comment      3 non-null      object \n",
      " 14  data_validity_description  3 non-null      object \n",
      " 15  document_chembl_id         2284 non-null   object \n",
      " 16  document_journal           909 non-null    object \n",
      " 17  document_year              1050 non-null   float64\n",
      " 18  ligand_efficiency          152 non-null    object \n",
      " 19  molecule_chembl_id         2284 non-null   object \n",
      " 20  molecule_pref_name         1213 non-null   object \n",
      " 21  parent_molecule_chembl_id  2284 non-null   object \n",
      " 22  pchembl_value              355 non-null    object \n",
      " 23  potential_duplicate        2284 non-null   int64  \n",
      " 24  qudt_units                 2263 non-null   object \n",
      " 25  record_id                  2284 non-null   int64  \n",
      " 26  relation                   2137 non-null   object \n",
      " 27  src_id                     2284 non-null   int64  \n",
      " 28  standard_flag              2284 non-null   int64  \n",
      " 29  standard_relation          2137 non-null   object \n",
      " 30  standard_text_value        0 non-null      object \n",
      " 31  standard_type              2284 non-null   object \n",
      " 32  standard_units             2263 non-null   object \n",
      " 33  standard_upper_value       0 non-null      object \n",
      " 34  standard_value             2258 non-null   object \n",
      " 35  target_chembl_id           2284 non-null   object \n",
      " 36  target_organism            2284 non-null   object \n",
      " 37  target_pref_name           2284 non-null   object \n",
      " 38  target_tax_id              2284 non-null   object \n",
      " 39  text_value                 0 non-null      object \n",
      " 40  toid                       0 non-null      object \n",
      " 41  type                       2284 non-null   object \n",
      " 42  units                      1758 non-null   object \n",
      " 43  uo_units                   2263 non-null   object \n",
      " 44  upper_value                2 non-null      object \n",
      " 45  value                      2258 non-null   object \n",
      "dtypes: float64(1), int64(5), object(40)\n",
      "memory usage: 820.9+ KB\n"
     ]
    }
   ],
   "source": [
    "# show information of the dataset\n",
    "bioactivity_df.info()"
   ]
  },
  {
   "cell_type": "markdown",
   "metadata": {},
   "source": [
    "**Key Observations:**\n",
    "- The dataset contains 46 columns and 2284 rows.\n",
    "- Some columns have a large number of missing values, such as `action_type` and `ligand_efficiency`.\n",
    "- Columns like `assay_variant_accession` and `assay_variant_mutation` have 0 non-null values, so I will likely drop these columns during the cleaning process.\n",
    "- The `pchembl_value` has very few non-null entries (only 355 out of 2284), which I will need to address in the cleaning process.\n",
    "- Some numeric columns like `pchembl_value`, `standard_value`, and `value` has object datatype, we will change into integer datatype."
   ]
  },
  {
   "cell_type": "code",
   "execution_count": 25,
   "metadata": {},
   "outputs": [
    {
     "data": {
      "text/html": [
       "<div>\n",
       "<style scoped>\n",
       "    .dataframe tbody tr th:only-of-type {\n",
       "        vertical-align: middle;\n",
       "    }\n",
       "\n",
       "    .dataframe tbody tr th {\n",
       "        vertical-align: top;\n",
       "    }\n",
       "\n",
       "    .dataframe thead th {\n",
       "        text-align: right;\n",
       "    }\n",
       "</style>\n",
       "<table border=\"1\" class=\"dataframe\">\n",
       "  <thead>\n",
       "    <tr style=\"text-align: right;\">\n",
       "      <th></th>\n",
       "      <th>activity_id</th>\n",
       "      <th>document_year</th>\n",
       "      <th>potential_duplicate</th>\n",
       "      <th>record_id</th>\n",
       "      <th>src_id</th>\n",
       "      <th>standard_flag</th>\n",
       "    </tr>\n",
       "  </thead>\n",
       "  <tbody>\n",
       "    <tr>\n",
       "      <th>count</th>\n",
       "      <td>2.284000e+03</td>\n",
       "      <td>1050.000000</td>\n",
       "      <td>2284.000000</td>\n",
       "      <td>2.284000e+03</td>\n",
       "      <td>2284.000000</td>\n",
       "      <td>2284.000000</td>\n",
       "    </tr>\n",
       "    <tr>\n",
       "      <th>mean</th>\n",
       "      <td>1.131663e+07</td>\n",
       "      <td>2014.730476</td>\n",
       "      <td>0.019702</td>\n",
       "      <td>1.909663e+06</td>\n",
       "      <td>15.343257</td>\n",
       "      <td>0.768827</td>\n",
       "    </tr>\n",
       "    <tr>\n",
       "      <th>std</th>\n",
       "      <td>5.096138e+06</td>\n",
       "      <td>3.948999</td>\n",
       "      <td>0.139006</td>\n",
       "      <td>6.960149e+05</td>\n",
       "      <td>16.636392</td>\n",
       "      <td>0.421675</td>\n",
       "    </tr>\n",
       "    <tr>\n",
       "      <th>min</th>\n",
       "      <td>1.650342e+06</td>\n",
       "      <td>2005.000000</td>\n",
       "      <td>0.000000</td>\n",
       "      <td>4.058000e+05</td>\n",
       "      <td>1.000000</td>\n",
       "      <td>0.000000</td>\n",
       "    </tr>\n",
       "    <tr>\n",
       "      <th>25%</th>\n",
       "      <td>8.142125e+06</td>\n",
       "      <td>2013.000000</td>\n",
       "      <td>0.000000</td>\n",
       "      <td>1.583447e+06</td>\n",
       "      <td>1.000000</td>\n",
       "      <td>1.000000</td>\n",
       "    </tr>\n",
       "    <tr>\n",
       "      <th>50%</th>\n",
       "      <td>9.556762e+06</td>\n",
       "      <td>2013.000000</td>\n",
       "      <td>0.000000</td>\n",
       "      <td>1.584571e+06</td>\n",
       "      <td>7.000000</td>\n",
       "      <td>1.000000</td>\n",
       "    </tr>\n",
       "    <tr>\n",
       "      <th>75%</th>\n",
       "      <td>1.227402e+07</td>\n",
       "      <td>2017.000000</td>\n",
       "      <td>0.000000</td>\n",
       "      <td>1.763573e+06</td>\n",
       "      <td>16.000000</td>\n",
       "      <td>1.000000</td>\n",
       "    </tr>\n",
       "    <tr>\n",
       "      <th>max</th>\n",
       "      <td>2.495860e+07</td>\n",
       "      <td>2023.000000</td>\n",
       "      <td>1.000000</td>\n",
       "      <td>3.898534e+06</td>\n",
       "      <td>65.000000</td>\n",
       "      <td>1.000000</td>\n",
       "    </tr>\n",
       "  </tbody>\n",
       "</table>\n",
       "</div>"
      ],
      "text/plain": [
       "        activity_id  document_year  potential_duplicate     record_id  \\\n",
       "count  2.284000e+03    1050.000000          2284.000000  2.284000e+03   \n",
       "mean   1.131663e+07    2014.730476             0.019702  1.909663e+06   \n",
       "std    5.096138e+06       3.948999             0.139006  6.960149e+05   \n",
       "min    1.650342e+06    2005.000000             0.000000  4.058000e+05   \n",
       "25%    8.142125e+06    2013.000000             0.000000  1.583447e+06   \n",
       "50%    9.556762e+06    2013.000000             0.000000  1.584571e+06   \n",
       "75%    1.227402e+07    2017.000000             0.000000  1.763573e+06   \n",
       "max    2.495860e+07    2023.000000             1.000000  3.898534e+06   \n",
       "\n",
       "            src_id  standard_flag  \n",
       "count  2284.000000    2284.000000  \n",
       "mean     15.343257       0.768827  \n",
       "std      16.636392       0.421675  \n",
       "min       1.000000       0.000000  \n",
       "25%       1.000000       1.000000  \n",
       "50%       7.000000       1.000000  \n",
       "75%      16.000000       1.000000  \n",
       "max      65.000000       1.000000  "
      ]
     },
     "execution_count": 25,
     "metadata": {},
     "output_type": "execute_result"
    }
   ],
   "source": [
    "# show basic statistic of the dataset\n",
    "bioactivity_df.describe()"
   ]
  },
  {
   "cell_type": "markdown",
   "metadata": {},
   "source": [
    "**Statistical Summary**\n",
    "- The colum `document year` has values ranging from 2005 to 2023, with majority of records concentrated in recent years.\n",
    "- The `potential_duplicate` column shows that most values are 0, but few entries are marked as potential duplicates(value of 1)."
   ]
  },
  {
   "cell_type": "code",
   "execution_count": 26,
   "metadata": {},
   "outputs": [
    {
     "data": {
      "text/plain": [
       "0"
      ]
     },
     "execution_count": 26,
     "metadata": {},
     "output_type": "execute_result"
    }
   ],
   "source": [
    "# columns to check for duplicates\n",
    "columns_to_check = ['activity_id', 'molecule_chembl_id', 'assay_chembl_id', 'target_chembl_id']\n",
    "\n",
    "# Find duplicates based on those columns\n",
    "bioactivity_df.duplicated(subset=columns_to_check).sum()\n",
    "\n"
   ]
  },
  {
   "cell_type": "markdown",
   "metadata": {},
   "source": [
    "There is no duplication in this dataset."
   ]
  },
  {
   "cell_type": "code",
   "execution_count": 27,
   "metadata": {},
   "outputs": [
    {
     "name": "stdout",
     "output_type": "stream",
     "text": [
      "action_type                  2260\n",
      "activity_comment             1399\n",
      "assay_variant_accession      2284\n",
      "assay_variant_mutation       2284\n",
      "canonical_smiles                1\n",
      "data_validity_comment        2281\n",
      "data_validity_description    2281\n",
      "document_journal             1375\n",
      "document_year                1234\n",
      "ligand_efficiency            2132\n",
      "molecule_pref_name           1071\n",
      "pchembl_value                1929\n",
      "qudt_units                     21\n",
      "relation                      147\n",
      "standard_relation             147\n",
      "standard_text_value          2284\n",
      "standard_units                 21\n",
      "standard_upper_value         2284\n",
      "standard_value                 26\n",
      "text_value                   2284\n",
      "toid                         2284\n",
      "units                         526\n",
      "uo_units                       21\n",
      "upper_value                  2282\n",
      "value                          26\n",
      "dtype: int64\n"
     ]
    }
   ],
   "source": [
    "# missing datacheck\n",
    "missing_data_chembl = bioactivity_df.isna().sum()\n",
    "\n",
    "# show columns with missing data\n",
    "print(missing_data_chembl[missing_data_chembl>0])"
   ]
  },
  {
   "cell_type": "markdown",
   "metadata": {},
   "source": [
    "**Insight:**\n",
    "1. `assay_variant_accession`, `assay_variant_mutation`, `action_type`, `data_validity_comment`, `data_validity_description`, `standard_uper_value`, and `ligand_efficiency` are partial or fully missing and can be dropped.\n",
    "2. `standard_text_value`, `upper_value`, `toid`, `document_year` and `text_value` can also be dropped as they provide little or no useful information for the analysis.\n",
    "3. `canonical_smiles`, `standard_value`, `standard_units`, `standard_relation`, `relation`, `value`, and `uo_units` column is important for molecular data. Since only few entries is missing, I will drop the row with the missing value.\n",
    "4. `activity_comment`,`pchembl_value`, and `value` are crucial for bioactivity prediction, so I will examine the data distribution.\n",
    "5. For categorical columns like `molecule_pref_name`, and `document_journal`, will be filled with 'Unknown'."
   ]
  },
  {
   "cell_type": "markdown",
   "metadata": {},
   "source": [
    "#### 4.1.2 Data Cleaning"
   ]
  },
  {
   "cell_type": "code",
   "execution_count": 28,
   "metadata": {},
   "outputs": [],
   "source": [
    "# dropping irrelevant columns\n",
    "columns_to_drop = ['assay_variant_accession', 'assay_variant_mutation','action_type', 'data_validity_comment',\n",
    "                   'data_validity_description', 'standard_upper_value', 'ligand_efficiency', 'standard_text_value', \n",
    "                   'upper_value', 'toid', 'document_year', 'text_value']\n",
    "bioactivity_df_clean = bioactivity_df.drop(columns_to_drop, axis=1)"
   ]
  },
  {
   "cell_type": "code",
   "execution_count": 29,
   "metadata": {},
   "outputs": [],
   "source": [
    "# drop rows where cannonical_smiles and standard_value missing\n",
    "bioactivity_df_clean = bioactivity_df_clean.dropna(subset=['canonical_smiles', 'standard_value', 'standard_units',\n",
    "                                                           'standard_relation', 'relation', 'value', 'uo_units'])"
   ]
  },
  {
   "cell_type": "code",
   "execution_count": 30,
   "metadata": {},
   "outputs": [],
   "source": [
    "# fill missing value for categorical column with unknown\n",
    "bioactivity_df_clean['molecule_pref_name'].fillna('unknown', inplace=True)\n",
    "bioactivity_df_clean['document_journal'].fillna('unknown', inplace=True)"
   ]
  },
  {
   "cell_type": "code",
   "execution_count": 31,
   "metadata": {},
   "outputs": [
    {
     "name": "stdout",
     "output_type": "stream",
     "text": [
      "<class 'pandas.core.frame.DataFrame'>\n",
      "Index: 2136 entries, 1 to 2283\n",
      "Data columns (total 3 columns):\n",
      " #   Column          Non-Null Count  Dtype  \n",
      "---  ------          --------------  -----  \n",
      " 0   pchembl_value   355 non-null    float64\n",
      " 1   standard_value  2136 non-null   float64\n",
      " 2   value           2136 non-null   float64\n",
      "dtypes: float64(3)\n",
      "memory usage: 66.8 KB\n"
     ]
    }
   ],
   "source": [
    "# List of columns to change to numeric\n",
    "columns_to_change = ['pchembl_value', 'standard_value', 'value']\n",
    "\n",
    "# Convert each column to numeric, coercing errors to NaN\n",
    "for col in columns_to_change:\n",
    "    bioactivity_df_clean[col] = pd.to_numeric(bioactivity_df_clean[col], errors='coerce')\n",
    "\n",
    "# Check if the conversion was successful\n",
    "bioactivity_df_clean[columns_to_change].info()"
   ]
  },
  {
   "cell_type": "markdown",
   "metadata": {},
   "source": [
    "Conversion succeed."
   ]
  },
  {
   "cell_type": "markdown",
   "metadata": {},
   "source": [
    "#### Distribution Data Check"
   ]
  },
  {
   "cell_type": "markdown",
   "metadata": {},
   "source": [
    "Now I will check distribution data for columns:\n",
    "- `activity_comment`\n",
    "- `pchembl_value`\n",
    "- `units`"
   ]
  },
  {
   "cell_type": "code",
   "execution_count": 32,
   "metadata": {},
   "outputs": [
    {
     "name": "stderr",
     "output_type": "stream",
     "text": [
      "/opt/anaconda3/lib/python3.11/site-packages/seaborn/_oldcore.py:1119: FutureWarning: use_inf_as_na option is deprecated and will be removed in a future version. Convert inf values to NaN before operating instead.\n",
      "  with pd.option_context('mode.use_inf_as_na', True):\n"
     ]
    },
    {
     "data": {
      "image/png": "[encoded data removed]",
      "text/plain": [
       "<Figure size 1000x500 with 1 Axes>"
      ]
     },
     "metadata": {},
     "output_type": "display_data"
    }
   ],
   "source": [
    "# Distribution of units\n",
    "plt.figure(figsize=(10, 5))\n",
    "sns.histplot(bioactivity_df_clean['activity_comment'].dropna(), kde=False)\n",
    "plt.title('Distribution of activity_comment (Before Imputation)')\n",
    "plt.show()"
   ]
  },
  {
   "cell_type": "markdown",
   "metadata": {},
   "source": [
    "**Key Findings**:\n",
    "- The majority of the entries are categorized as either \"active\" or \"inactive\", but \"inactive\" appears slightly more prevalent.\n",
    "- There are variations in the capitalization of terms, I will conduct normalization to convert all entries to lowercase\n",
    "- Since active and inactive more common, I will impute this column with mode, which based on assay_chembl_id column"
   ]
  },
  {
   "cell_type": "code",
   "execution_count": 33,
   "metadata": {},
   "outputs": [
    {
     "name": "stderr",
     "output_type": "stream",
     "text": [
      "/opt/anaconda3/lib/python3.11/site-packages/seaborn/_oldcore.py:1119: FutureWarning: use_inf_as_na option is deprecated and will be removed in a future version. Convert inf values to NaN before operating instead.\n",
      "  with pd.option_context('mode.use_inf_as_na', True):\n"
     ]
    },
    {
     "data": {
      "image/png": "[encoded data removed]",
      "text/plain": [
       "<Figure size 1000x500 with 1 Axes>"
      ]
     },
     "metadata": {},
     "output_type": "display_data"
    }
   ],
   "source": [
    "# standardize the activity_comment entries\n",
    "bioactivity_df_clean['activity_comment'] = bioactivity_df_clean['activity_comment'].str.lower()\n",
    "\n",
    "# re-evaluate the distribution\n",
    "plt.figure(figsize=(10, 5))\n",
    "sns.histplot(bioactivity_df_clean['activity_comment'].dropna(), kde=False)\n",
    "plt.title('Distribution of activity_comment (After Normalization)')\n",
    "plt.show()"
   ]
  },
  {
   "cell_type": "code",
   "execution_count": 36,
   "metadata": {},
   "outputs": [],
   "source": [
    "# imputation for activity_comment using group_based approach\n",
    "activity_comment_mode = bioactivity_df_clean.groupby('assay_chembl_id')['activity_comment'].agg(lambda x: x.mode()[0] if not x.mode().empty else np.nan)\n",
    "bioactivity_df_clean['activity_comment'] = bioactivity_df_clean['activity_comment'].fillna(bioactivity_df_clean['assay_chembl_id'].map(activity_comment_mode))\n",
    "\n",
    "# fallback to overall mode if still missing\n",
    "bioactivity_df_clean['activity_comment'].fillna(bioactivity_df_clean['activity_comment'].mode()[0], inplace=True)"
   ]
  },
  {
   "cell_type": "code",
   "execution_count": 37,
   "metadata": {},
   "outputs": [
    {
     "name": "stderr",
     "output_type": "stream",
     "text": [
      "/opt/anaconda3/lib/python3.11/site-packages/seaborn/_oldcore.py:1119: FutureWarning: use_inf_as_na option is deprecated and will be removed in a future version. Convert inf values to NaN before operating instead.\n",
      "  with pd.option_context('mode.use_inf_as_na', True):\n"
     ]
    },
    {
     "data": {
      "image/png": "[encoded data removed]",
      "text/plain": [
       "<Figure size 500x500 with 1 Axes>"
      ]
     },
     "metadata": {},
     "output_type": "display_data"
    }
   ],
   "source": [
    "# distribution of pchembl_value\n",
    "sns.displot(bioactivity_df_clean, x=\"pchembl_value\", kind=\"kde\")\n",
    "plt.title('KDE Plot of pchembl_value (Before Imputation)')\n",
    "plt.show()"
   ]
  },
  {
   "cell_type": "markdown",
   "metadata": {},
   "source": [
    "**Key Findings**:\n",
    "From the KDE plot, it seems that the `pubchembl_value` is slightly right-skewed. Given this, I will conduct median imputation."
   ]
  },
  {
   "cell_type": "code",
   "execution_count": 38,
   "metadata": {},
   "outputs": [],
   "source": [
    "# Impute missing pchembl_value using the median\n",
    "median_pchembl = bioactivity_df_clean['pchembl_value'].median()\n",
    "bioactivity_df_clean['pchembl_value'].fillna(median_pchembl, inplace=True)"
   ]
  },
  {
   "cell_type": "code",
   "execution_count": 39,
   "metadata": {},
   "outputs": [
    {
     "name": "stderr",
     "output_type": "stream",
     "text": [
      "/opt/anaconda3/lib/python3.11/site-packages/seaborn/_oldcore.py:1119: FutureWarning: use_inf_as_na option is deprecated and will be removed in a future version. Convert inf values to NaN before operating instead.\n",
      "  with pd.option_context('mode.use_inf_as_na', True):\n"
     ]
    },
    {
     "data": {
      "image/png": "[encoded data removed]",
      "text/plain": [
       "<Figure size 1000x500 with 1 Axes>"
      ]
     },
     "metadata": {},
     "output_type": "display_data"
    }
   ],
   "source": [
    "# Distribution of units\n",
    "plt.figure(figsize=(10, 5))\n",
    "sns.histplot(bioactivity_df_clean['units'].dropna(), kde=False)\n",
    "plt.title('Distribution of units (Before Imputation)')\n",
    "plt.show()"
   ]
  },
  {
   "cell_type": "markdown",
   "metadata": {},
   "source": [
    "**Key Findings**: \n",
    "- The `units` column represents the measurement unit for the bioactivity values. The distribution of the units column shows that most of the data falls under \"%\", \"nM\" and few other unit types like \"uM\". Since this column shows a variety of unit types, I will conduct group-based imputation.\n",
    "- I will only use value with nM units tocalculate pIC50 value, so I will convert mikro molar to nM and I will drop others."
   ]
  },
  {
   "cell_type": "code",
   "execution_count": 40,
   "metadata": {},
   "outputs": [],
   "source": [
    "# Imputation for units column using group-based approach\n",
    "units_mode = bioactivity_df_clean.groupby('assay_chembl_id')['units'].agg(lambda x: x.mode()[0] if not x.mode().empty else np.nan)\n",
    "bioactivity_df_clean['units'] = bioactivity_df_clean['units'].fillna(bioactivity_df_clean['assay_chembl_id'].map(units_mode))\n",
    "\n",
    "# Fallback to overall mode if still missing\n",
    "bioactivity_df_clean['units'].fillna(bioactivity_df_clean['units'].mode()[0], inplace=True)"
   ]
  },
  {
   "cell_type": "markdown",
   "metadata": {},
   "source": [
    "##### Dataset Missing Value Check after Imputation."
   ]
  },
  {
   "cell_type": "code",
   "execution_count": 41,
   "metadata": {},
   "outputs": [
    {
     "name": "stdout",
     "output_type": "stream",
     "text": [
      "activity_comment             0\n",
      "activity_id                  0\n",
      "activity_properties          0\n",
      "assay_chembl_id              0\n",
      "assay_description            0\n",
      "assay_type                   0\n",
      "bao_endpoint                 0\n",
      "bao_format                   0\n",
      "bao_label                    0\n",
      "canonical_smiles             0\n",
      "document_chembl_id           0\n",
      "document_journal             0\n",
      "molecule_chembl_id           0\n",
      "molecule_pref_name           0\n",
      "parent_molecule_chembl_id    0\n",
      "pchembl_value                0\n",
      "potential_duplicate          0\n",
      "qudt_units                   0\n",
      "record_id                    0\n",
      "relation                     0\n",
      "src_id                       0\n",
      "standard_flag                0\n",
      "standard_relation            0\n",
      "standard_type                0\n",
      "standard_units               0\n",
      "standard_value               0\n",
      "target_chembl_id             0\n",
      "target_organism              0\n",
      "target_pref_name             0\n",
      "target_tax_id                0\n",
      "type                         0\n",
      "units                        0\n",
      "uo_units                     0\n",
      "value                        0\n",
      "dtype: int64\n"
     ]
    }
   ],
   "source": [
    "# Check remaining missing values\n",
    "missing_values_after_imputation = bioactivity_df_clean.isnull().sum()\n",
    "print(missing_values_after_imputation)"
   ]
  },
  {
   "cell_type": "markdown",
   "metadata": {},
   "source": [
    "**Data Cleaning Succeed**"
   ]
  },
  {
   "cell_type": "markdown",
   "metadata": {},
   "source": [
    "### 4.1.3 Feature Engineering"
   ]
  },
  {
   "cell_type": "markdown",
   "metadata": {},
   "source": [
    "Next, I will calculate pIC50 values based on IC50(nM) from `standard_value` column using the following formula (9):\n",
    "\n",
    "$$\n",
    "\\text{pIC50} = -\\log_{10}(\\text{IC50})\n",
    "$$\n",
    "\n",
    "Where IC50 represents the half-maximal inhibitory concentration of substance. The formula converts IC50 values into pIC50 on a logarithmic scale, providing a more convenient representation of inhibitory potency.\n",
    "\n",
    "Before I calculate pIC50 value, I will fitering out unecessary units."
   ]
  },
  {
   "cell_type": "code",
   "execution_count": 66,
   "metadata": {},
   "outputs": [],
   "source": [
    "# filter out rows where units are not nM and µM\n",
    "bioactivity_df_clean_filtered = bioactivity_df_clean[bioactivity_df_clean['units'].isin(['nM', 'µM'])]\n",
    "\n",
    "# Convert µM to nM for rows where the units are 'µM'\n",
    "bioactivity_df_clean_filtered.loc[bioactivity_df_clean_filtered['units'] == 'µM', 'standard_value'] = \\\n",
    "    bioactivity_df_clean_filtered.loc[bioactivity_df_clean_filtered['units'] == 'µM', 'standard_value'] * 1000\n",
    "\n",
    "# update the units colum after conversion\n",
    "bioactivity_df_clean_filtered.loc[bioactivity_df_clean_filtered['units'] == 'µM', 'units'] = 'nM'"
   ]
  },
  {
   "cell_type": "code",
   "execution_count": 67,
   "metadata": {},
   "outputs": [
    {
     "name": "stderr",
     "output_type": "stream",
     "text": [
      "/var/folders/44/bqpfrnqj5f5_klvvx0_3kv780000gn/T/ipykernel_51963/1697407334.py:2: SettingWithCopyWarning: \n",
      "A value is trying to be set on a copy of a slice from a DataFrame.\n",
      "Try using .loc[row_indexer,col_indexer] = value instead\n",
      "\n",
      "See the caveats in the documentation: https://pandas.pydata.org/pandas-docs/stable/user_guide/indexing.html#returning-a-view-versus-a-copy\n",
      "  bioactivity_df_clean_filtered['pIC50'] = -np.log(bioactivity_df_clean_filtered['standard_value'] / 1e9)\n"
     ]
    },
    {
     "data": {
      "text/html": [
       "<div>\n",
       "<style scoped>\n",
       "    .dataframe tbody tr th:only-of-type {\n",
       "        vertical-align: middle;\n",
       "    }\n",
       "\n",
       "    .dataframe tbody tr th {\n",
       "        vertical-align: top;\n",
       "    }\n",
       "\n",
       "    .dataframe thead th {\n",
       "        text-align: right;\n",
       "    }\n",
       "</style>\n",
       "<table border=\"1\" class=\"dataframe\">\n",
       "  <thead>\n",
       "    <tr style=\"text-align: right;\">\n",
       "      <th></th>\n",
       "      <th>standard_value</th>\n",
       "      <th>pIC50</th>\n",
       "      <th>units</th>\n",
       "    </tr>\n",
       "  </thead>\n",
       "  <tbody>\n",
       "    <tr>\n",
       "      <th>21</th>\n",
       "      <td>440.0</td>\n",
       "      <td>14.636491</td>\n",
       "      <td>nM</td>\n",
       "    </tr>\n",
       "    <tr>\n",
       "      <th>28</th>\n",
       "      <td>6.0</td>\n",
       "      <td>18.931506</td>\n",
       "      <td>nM</td>\n",
       "    </tr>\n",
       "    <tr>\n",
       "      <th>29</th>\n",
       "      <td>122.0</td>\n",
       "      <td>15.919245</td>\n",
       "      <td>nM</td>\n",
       "    </tr>\n",
       "    <tr>\n",
       "      <th>43</th>\n",
       "      <td>12.0</td>\n",
       "      <td>18.238359</td>\n",
       "      <td>nM</td>\n",
       "    </tr>\n",
       "    <tr>\n",
       "      <th>46</th>\n",
       "      <td>400.0</td>\n",
       "      <td>14.731801</td>\n",
       "      <td>nM</td>\n",
       "    </tr>\n",
       "  </tbody>\n",
       "</table>\n",
       "</div>"
      ],
      "text/plain": [
       "    standard_value      pIC50 units\n",
       "21           440.0  14.636491    nM\n",
       "28             6.0  18.931506    nM\n",
       "29           122.0  15.919245    nM\n",
       "43            12.0  18.238359    nM\n",
       "46           400.0  14.731801    nM"
      ]
     },
     "execution_count": 67,
     "metadata": {},
     "output_type": "execute_result"
    }
   ],
   "source": [
    "# calculate pIC50 \n",
    "bioactivity_df_clean_filtered['pIC50'] = -np.log(bioactivity_df_clean_filtered['standard_value'] / 1e9)\n",
    "\n",
    "# Check the result\n",
    "bioactivity_df_clean_filtered[['standard_value', 'pIC50', 'units']].head()"
   ]
  },
  {
   "cell_type": "markdown",
   "metadata": {},
   "source": [
    "### 4.2 UniProt Dataset"
   ]
  },
  {
   "cell_type": "markdown",
   "metadata": {},
   "source": [
    "#### 4.2.1 Data Checking"
   ]
  },
  {
   "cell_type": "code",
   "execution_count": 44,
   "metadata": {},
   "outputs": [
    {
     "data": {
      "text/html": [
       "<div>\n",
       "<style scoped>\n",
       "    .dataframe tbody tr th:only-of-type {\n",
       "        vertical-align: middle;\n",
       "    }\n",
       "\n",
       "    .dataframe tbody tr th {\n",
       "        vertical-align: top;\n",
       "    }\n",
       "\n",
       "    .dataframe thead th {\n",
       "        text-align: right;\n",
       "    }\n",
       "</style>\n",
       "<table border=\"1\" class=\"dataframe\">\n",
       "  <thead>\n",
       "    <tr style=\"text-align: right;\">\n",
       "      <th></th>\n",
       "      <th>Entry</th>\n",
       "      <th>Entry Name</th>\n",
       "      <th>Protein names</th>\n",
       "      <th>Organism</th>\n",
       "      <th>Length</th>\n",
       "      <th>Sequence</th>\n",
       "    </tr>\n",
       "  </thead>\n",
       "  <tbody>\n",
       "    <tr>\n",
       "      <th>0</th>\n",
       "      <td>P07948</td>\n",
       "      <td>LYN_HUMAN</td>\n",
       "      <td>Tyrosine-protein kinase Lyn (EC 2.7.10.2) (Lck...</td>\n",
       "      <td>Homo sapiens (Human)</td>\n",
       "      <td>512</td>\n",
       "      <td>MGCIKSKGKDSLSDDGVDLKTQPVRNTERTIYVRDPTSNKQQRPVP...</td>\n",
       "    </tr>\n",
       "    <tr>\n",
       "      <th>1</th>\n",
       "      <td>Q92630</td>\n",
       "      <td>DYRK2_HUMAN</td>\n",
       "      <td>Dual specificity tyrosine-phosphorylation-regu...</td>\n",
       "      <td>Homo sapiens (Human)</td>\n",
       "      <td>601</td>\n",
       "      <td>MLTRKPSAAAPAAYPTGRGGDSAVRQLQASPGLGAGATRSGVGTGP...</td>\n",
       "    </tr>\n",
       "    <tr>\n",
       "      <th>2</th>\n",
       "      <td>Q14289</td>\n",
       "      <td>FAK2_HUMAN</td>\n",
       "      <td>Protein-tyrosine kinase 2-beta (EC 2.7.10.2) (...</td>\n",
       "      <td>Homo sapiens (Human)</td>\n",
       "      <td>1009</td>\n",
       "      <td>MSGVSEPLSRVKLGTLRRPEGPAEPMVVVPVDVEKEDVRILKVCFY...</td>\n",
       "    </tr>\n",
       "    <tr>\n",
       "      <th>3</th>\n",
       "      <td>Q07912</td>\n",
       "      <td>ACK1_HUMAN</td>\n",
       "      <td>Activated CDC42 kinase 1 (ACK-1) (EC 2.7.10.2)...</td>\n",
       "      <td>Homo sapiens (Human)</td>\n",
       "      <td>1038</td>\n",
       "      <td>MQPEEGTGWLLELLSEVQLQQYFLRLRDDLNVTRLSHFEYVKNEDL...</td>\n",
       "    </tr>\n",
       "    <tr>\n",
       "      <th>4</th>\n",
       "      <td>P17948</td>\n",
       "      <td>VGFR1_HUMAN</td>\n",
       "      <td>Vascular endothelial growth factor receptor 1 ...</td>\n",
       "      <td>Homo sapiens (Human)</td>\n",
       "      <td>1338</td>\n",
       "      <td>MVSYWDTGVLLCALLSCLLLTGSSSGSKLKDPELSLKGTQHIMQAG...</td>\n",
       "    </tr>\n",
       "  </tbody>\n",
       "</table>\n",
       "</div>"
      ],
      "text/plain": [
       "    Entry   Entry Name                                      Protein names  \\\n",
       "0  P07948    LYN_HUMAN  Tyrosine-protein kinase Lyn (EC 2.7.10.2) (Lck...   \n",
       "1  Q92630  DYRK2_HUMAN  Dual specificity tyrosine-phosphorylation-regu...   \n",
       "2  Q14289   FAK2_HUMAN  Protein-tyrosine kinase 2-beta (EC 2.7.10.2) (...   \n",
       "3  Q07912   ACK1_HUMAN  Activated CDC42 kinase 1 (ACK-1) (EC 2.7.10.2)...   \n",
       "4  P17948  VGFR1_HUMAN  Vascular endothelial growth factor receptor 1 ...   \n",
       "\n",
       "               Organism  Length  \\\n",
       "0  Homo sapiens (Human)     512   \n",
       "1  Homo sapiens (Human)     601   \n",
       "2  Homo sapiens (Human)    1009   \n",
       "3  Homo sapiens (Human)    1038   \n",
       "4  Homo sapiens (Human)    1338   \n",
       "\n",
       "                                            Sequence  \n",
       "0  MGCIKSKGKDSLSDDGVDLKTQPVRNTERTIYVRDPTSNKQQRPVP...  \n",
       "1  MLTRKPSAAAPAAYPTGRGGDSAVRQLQASPGLGAGATRSGVGTGP...  \n",
       "2  MSGVSEPLSRVKLGTLRRPEGPAEPMVVVPVDVEKEDVRILKVCFY...  \n",
       "3  MQPEEGTGWLLELLSEVQLQQYFLRLRDDLNVTRLSHFEYVKNEDL...  \n",
       "4  MVSYWDTGVLLCALLSCLLLTGSSSGSKLKDPELSLKGTQHIMQAG...  "
      ]
     },
     "execution_count": 44,
     "metadata": {},
     "output_type": "execute_result"
    }
   ],
   "source": [
    "# show sample data\n",
    "uniprot_data.head()"
   ]
  },
  {
   "cell_type": "code",
   "execution_count": 45,
   "metadata": {},
   "outputs": [
    {
     "name": "stdout",
     "output_type": "stream",
     "text": [
      "<class 'pandas.core.frame.DataFrame'>\n",
      "RangeIndex: 25 entries, 0 to 24\n",
      "Data columns (total 6 columns):\n",
      " #   Column         Non-Null Count  Dtype \n",
      "---  ------         --------------  ----- \n",
      " 0   Entry          25 non-null     object\n",
      " 1   Entry Name     25 non-null     object\n",
      " 2   Protein names  25 non-null     object\n",
      " 3   Organism       25 non-null     object\n",
      " 4   Length         25 non-null     int64 \n",
      " 5   Sequence       25 non-null     object\n",
      "dtypes: int64(1), object(5)\n",
      "memory usage: 1.3+ KB\n"
     ]
    }
   ],
   "source": [
    "# show the information of dataset\n",
    "uniprot_data.info()"
   ]
  },
  {
   "cell_type": "code",
   "execution_count": 46,
   "metadata": {},
   "outputs": [
    {
     "data": {
      "text/html": [
       "<div>\n",
       "<style scoped>\n",
       "    .dataframe tbody tr th:only-of-type {\n",
       "        vertical-align: middle;\n",
       "    }\n",
       "\n",
       "    .dataframe tbody tr th {\n",
       "        vertical-align: top;\n",
       "    }\n",
       "\n",
       "    .dataframe thead th {\n",
       "        text-align: right;\n",
       "    }\n",
       "</style>\n",
       "<table border=\"1\" class=\"dataframe\">\n",
       "  <thead>\n",
       "    <tr style=\"text-align: right;\">\n",
       "      <th></th>\n",
       "      <th>Length</th>\n",
       "    </tr>\n",
       "  </thead>\n",
       "  <tbody>\n",
       "    <tr>\n",
       "      <th>count</th>\n",
       "      <td>25.000000</td>\n",
       "    </tr>\n",
       "    <tr>\n",
       "      <th>mean</th>\n",
       "      <td>868.480000</td>\n",
       "    </tr>\n",
       "    <tr>\n",
       "      <th>std</th>\n",
       "      <td>517.198634</td>\n",
       "    </tr>\n",
       "    <tr>\n",
       "      <th>min</th>\n",
       "      <td>331.000000</td>\n",
       "    </tr>\n",
       "    <tr>\n",
       "      <th>25%</th>\n",
       "      <td>512.000000</td>\n",
       "    </tr>\n",
       "    <tr>\n",
       "      <th>50%</th>\n",
       "      <td>659.000000</td>\n",
       "    </tr>\n",
       "    <tr>\n",
       "      <th>75%</th>\n",
       "      <td>1009.000000</td>\n",
       "    </tr>\n",
       "    <tr>\n",
       "      <th>max</th>\n",
       "      <td>2340.000000</td>\n",
       "    </tr>\n",
       "  </tbody>\n",
       "</table>\n",
       "</div>"
      ],
      "text/plain": [
       "            Length\n",
       "count    25.000000\n",
       "mean    868.480000\n",
       "std     517.198634\n",
       "min     331.000000\n",
       "25%     512.000000\n",
       "50%     659.000000\n",
       "75%    1009.000000\n",
       "max    2340.000000"
      ]
     },
     "execution_count": 46,
     "metadata": {},
     "output_type": "execute_result"
    }
   ],
   "source": [
    "# show basic statistic\n",
    "uniprot_data.describe()"
   ]
  },
  {
   "cell_type": "markdown",
   "metadata": {},
   "source": [
    "**Key Observations**:\n",
    "- Uniprot dataset contains 6 columns and 25 entries.\n",
    "- All columns have complete data with no missing values.\n",
    "- The organism is consistenly \"Homo sapiens\", confirming the dataset is focused on human proteins.\n",
    "- There is a significant variance in the length of the protein sequences, with the longest protein 2340 amino acids and the shortest 331 amino acids.\n",
    "- The format of the title will be corrected using lowercase without space."
   ]
  },
  {
   "cell_type": "code",
   "execution_count": 47,
   "metadata": {},
   "outputs": [
    {
     "data": {
      "text/plain": [
       "0"
      ]
     },
     "execution_count": 47,
     "metadata": {},
     "output_type": "execute_result"
    }
   ],
   "source": [
    "# data duplication check\n",
    "uniprot_data.duplicated().sum()"
   ]
  },
  {
   "cell_type": "code",
   "execution_count": 48,
   "metadata": {},
   "outputs": [
    {
     "data": {
      "text/plain": [
       "Entry            0\n",
       "Entry Name       0\n",
       "Protein names    0\n",
       "Organism         0\n",
       "Length           0\n",
       "Sequence         0\n",
       "dtype: int64"
      ]
     },
     "execution_count": 48,
     "metadata": {},
     "output_type": "execute_result"
    }
   ],
   "source": [
    "# missing data check\n",
    "uniprot_data.isna().sum()"
   ]
  },
  {
   "cell_type": "markdown",
   "metadata": {},
   "source": [
    "There is no data duplication and missing value in uniport dataset."
   ]
  },
  {
   "cell_type": "markdown",
   "metadata": {},
   "source": [
    "#### 4.2.2 Data Cleaning"
   ]
  },
  {
   "cell_type": "code",
   "execution_count": 49,
   "metadata": {},
   "outputs": [
    {
     "data": {
      "text/plain": [
       "Index(['entry', 'entry_name', 'protein_names', 'organism', 'length',\n",
       "       'sequence'],\n",
       "      dtype='object')"
      ]
     },
     "execution_count": 49,
     "metadata": {},
     "output_type": "execute_result"
    }
   ],
   "source": [
    "# remove spaces and convert to lowercase\n",
    "uniprot_data.columns = uniprot_data.columns.str.replace(' ', '_').str.lower()\n",
    "\n",
    "# display the updated column names to check\n",
    "uniprot_data.columns"
   ]
  },
  {
   "cell_type": "markdown",
   "metadata": {},
   "source": [
    "### 4.3 Data Merging"
   ]
  },
  {
   "cell_type": "markdown",
   "metadata": {},
   "source": [
    "For merging process, I will explore the similarities between the protein entries in the ChEMBL and UniProt datasets. Firstly, I will explore the `target_pref_name` colum from ChEMBL dataset."
   ]
  },
  {
   "cell_type": "code",
   "execution_count": 68,
   "metadata": {},
   "outputs": [
    {
     "data": {
      "text/plain": [
       "array(['Tyrosine-protein kinase FRK'], dtype=object)"
      ]
     },
     "execution_count": 68,
     "metadata": {},
     "output_type": "execute_result"
    }
   ],
   "source": [
    "bioactivity_df_clean_filtered['target_pref_name'].unique()"
   ]
  },
  {
   "cell_type": "markdown",
   "metadata": {},
   "source": [
    "**Insigts**: the protein target in the ChEMBL dataset only consists **Tyrosine-protein kinase FRK**, which is I will serach the `protein_names` column of the UniProt dataset for entries containing this particular protein target or related terms."
   ]
  },
  {
   "cell_type": "code",
   "execution_count": 69,
   "metadata": {},
   "outputs": [
    {
     "name": "stdout",
     "output_type": "stream",
     "text": [
      "     entry entry_name                protein_names              organism  \\\n",
      "15  P42685  FRK_HUMAN  Tyrosine-protein kinase FRK  Homo sapiens (Human)   \n",
      "\n",
      "    length                                           sequence  \n",
      "15     505  MSNICQRLWEYLEPYLPCLSTEADKSTVIENPGALCSPQSQRHGHY...  \n"
     ]
    }
   ],
   "source": [
    "# check for similarities\n",
    "search_term = 'FRK'\n",
    "matching_proteins = uniprot_data[uniprot_data['protein_names'].str.contains(search_term, case=False, na=False)]\n",
    "\n",
    "# display the matching proteins\n",
    "print(matching_proteins)"
   ]
  },
  {
   "cell_type": "markdown",
   "metadata": {},
   "source": [
    "There is one entry that contains Tyrosine-protein kinase FRK target in UniProt dataset. Firstly, i will rename the protein name in column `protein_names` to 'Tyrosine-protein kinase FRK' and the perform the merge."
   ]
  },
  {
   "cell_type": "code",
   "execution_count": 70,
   "metadata": {},
   "outputs": [],
   "source": [
    "# rename the protein_names to match the target_pref_name\n",
    "uniprot_data['protein_names'] = uniprot_data['protein_names'].str.replace('Tyrosine-protein kinase FRK (EC 2.7.10.2) (FYN-related kinase) (Nuclear tyrosine protein kinase RAK) (Protein-tyrosine kinase 5)', 'Tyrosine-protein kinase FRK')"
   ]
  },
  {
   "cell_type": "code",
   "execution_count": 74,
   "metadata": {},
   "outputs": [
    {
     "name": "stdout",
     "output_type": "stream",
     "text": [
      "  activity_comment  activity_id activity_properties assay_chembl_id  \\\n",
      "0         inactive      2206919                  []    CHEMBL990554   \n",
      "1         inactive      2479571                  []    CHEMBL988960   \n",
      "2         inactive      2479573                  []    CHEMBL988960   \n",
      "3         inactive      2603062                  []   CHEMBL1023857   \n",
      "4         inactive      2890919                  []   CHEMBL1060247   \n",
      "\n",
      "                        assay_description assay_type bao_endpoint  \\\n",
      "0                       Inhibition of Frk          B  BAO_0000034   \n",
      "1           Binding affinity to human FRK          B  BAO_0000034   \n",
      "2           Binding affinity to human FRK          B  BAO_0000034   \n",
      "3                       Inhibition of FRK          B  BAO_0000034   \n",
      "4  Binding constant for FRK kinase domain          B  BAO_0000034   \n",
      "\n",
      "    bao_format              bao_label  \\\n",
      "0  BAO_0000357  single protein format   \n",
      "1  BAO_0000357  single protein format   \n",
      "2  BAO_0000357  single protein format   \n",
      "3  BAO_0000357  single protein format   \n",
      "4  BAO_0000357  single protein format   \n",
      "\n",
      "                                    canonical_smiles  ... units    uo_units  \\\n",
      "0  CNC(=O)c1cc(Oc2ccc(NC(=O)Nc3ccc(Cl)c(C(F)(F)F)...  ...    nM  UO_0000065   \n",
      "1               Nc1ncnc2c1c(-c1cccc(O)c1)cn2C1CCNCC1  ...    nM  UO_0000065   \n",
      "2  Cc1ccc(C(=O)Nc2cccc(C(C)(C)C)c2)cc1-c1ccc(C(=O...  ...    nM  UO_0000065   \n",
      "3   Cc1cccc(C(=O)Nc2cccc([C@H](C)Nc3cncc(Cl)n3)c2)c1  ...    nM  UO_0000065   \n",
      "4  Cc1ccc(F)c(NC(=O)Nc2ccc(-c3cccc4[nH]nc(N)c34)c...  ...    nM  UO_0000065   \n",
      "\n",
      "   value      pIC50   entry  entry_name                protein_names  \\\n",
      "0  440.0  14.636491  P42685   FRK_HUMAN  Tyrosine-protein kinase FRK   \n",
      "1    6.0  18.931506  P42685   FRK_HUMAN  Tyrosine-protein kinase FRK   \n",
      "2  122.0  15.919245  P42685   FRK_HUMAN  Tyrosine-protein kinase FRK   \n",
      "3   12.0  18.238359  P42685   FRK_HUMAN  Tyrosine-protein kinase FRK   \n",
      "4  400.0  14.731801  P42685   FRK_HUMAN  Tyrosine-protein kinase FRK   \n",
      "\n",
      "               organism  length  \\\n",
      "0  Homo sapiens (Human)     505   \n",
      "1  Homo sapiens (Human)     505   \n",
      "2  Homo sapiens (Human)     505   \n",
      "3  Homo sapiens (Human)     505   \n",
      "4  Homo sapiens (Human)     505   \n",
      "\n",
      "                                            sequence  \n",
      "0  MSNICQRLWEYLEPYLPCLSTEADKSTVIENPGALCSPQSQRHGHY...  \n",
      "1  MSNICQRLWEYLEPYLPCLSTEADKSTVIENPGALCSPQSQRHGHY...  \n",
      "2  MSNICQRLWEYLEPYLPCLSTEADKSTVIENPGALCSPQSQRHGHY...  \n",
      "3  MSNICQRLWEYLEPYLPCLSTEADKSTVIENPGALCSPQSQRHGHY...  \n",
      "4  MSNICQRLWEYLEPYLPCLSTEADKSTVIENPGALCSPQSQRHGHY...  \n",
      "\n",
      "[5 rows x 41 columns]\n",
      "Index(['activity_comment', 'activity_id', 'activity_properties',\n",
      "       'assay_chembl_id', 'assay_description', 'assay_type', 'bao_endpoint',\n",
      "       'bao_format', 'bao_label', 'canonical_smiles', 'document_chembl_id',\n",
      "       'document_journal', 'molecule_chembl_id', 'molecule_pref_name',\n",
      "       'parent_molecule_chembl_id', 'pchembl_value', 'potential_duplicate',\n",
      "       'qudt_units', 'record_id', 'relation', 'src_id', 'standard_flag',\n",
      "       'standard_relation', 'standard_type', 'standard_units',\n",
      "       'standard_value', 'target_chembl_id', 'target_organism',\n",
      "       'target_pref_name', 'target_tax_id', 'type', 'units', 'uo_units',\n",
      "       'value', 'pIC50', 'entry', 'entry_name', 'protein_names', 'organism',\n",
      "       'length', 'sequence'],\n",
      "      dtype='object')\n"
     ]
    }
   ],
   "source": [
    "# Perform the merge\n",
    "merged_data = pd.merge(bioactivity_df_clean_filtered, uniprot_data, \n",
    "                        left_on='target_pref_name', \n",
    "                        right_on='protein_names', \n",
    "                        how='inner')\n",
    "\n",
    "# Check the result\n",
    "print(merged_data.head())\n",
    "print(merged_data.columns)\n"
   ]
  },
  {
   "cell_type": "markdown",
   "metadata": {},
   "source": [
    "#### Exporting to CSV"
   ]
  },
  {
   "cell_type": "code",
   "execution_count": 75,
   "metadata": {},
   "outputs": [
    {
     "name": "stdout",
     "output_type": "stream",
     "text": [
      "Export Succeed\n"
     ]
    }
   ],
   "source": [
    "# Export the DataFrame to a CSV file\n",
    "merged_data.to_csv('cleaned_bioactivity_data.csv', index=False)\n",
    "\n",
    "print('Export Succeed')"
   ]
  },
  {
   "cell_type": "markdown",
   "metadata": {},
   "source": [
    "### *References*"
   ]
  },
  {
   "cell_type": "markdown",
   "metadata": {},
   "source": [
    "1. Protein Kinase Signalling Networks in Cancer: [NCBI](https://www.ncbi.nlm.nih.gov/pmc/articles/PMC3038181/)\n",
    "2. Kinase phosphorylation mechanisms: [NCBI Bookshelf](https://www.ncbi.nlm.nih.gov/books/NBK6324/)\n",
    "3. Kinase dysregulation in cancer: [ScienceDirect](https://www.sciencedirect.com/science/article/pii/S153561081930311X)\n",
    "4. Overview of tyrosine kinase inhibitors: [Nature Reviews Drug Discovery](https://www.nature.com/articles/nrd3627)\n",
    "5. Targeting BCR-ABL with imatinib: [PubMed](https://pubmed.ncbi.nlm.nih.gov/10825140/)\n",
    "6. EGFR inhibition by erlotinib: [PubMed](https://pubmed.ncbi.nlm.nih.gov/14634630/)\n",
    "7. Machine learning in drug discovery: [PubMed](https://pubmed.ncbi.nlm.nih.gov/32069523/)\n",
    "8. Cheminformatics in drug design: [NCBI](https://www.ncbi.nlm.nih.gov/pmc/articles/PMC5482274/)\n",
    "9. PubChem Documentation on Bioactivity Data: [NCBI](https://pubchem.ncbi.nlm.nih.gov/)"
   ]
  },
  {
   "cell_type": "markdown",
   "metadata": {},
   "source": []
  }
 ],
 "metadata": {
  "kernelspec": {
   "display_name": "Python (Conda Env)",
   "language": "python",
   "name": "conda-env"
  },
  "language_info": {
   "codemirror_mode": {
    "name": "ipython",
    "version": 3
   },
   "file_extension": ".py",
   "mimetype": "text/x-python",
   "name": "python",
   "nbconvert_exporter": "python",
   "pygments_lexer": "ipython3",
   "version": "3.11.8"
  }
 },
 "nbformat": 4,
 "nbformat_minor": 2
}
